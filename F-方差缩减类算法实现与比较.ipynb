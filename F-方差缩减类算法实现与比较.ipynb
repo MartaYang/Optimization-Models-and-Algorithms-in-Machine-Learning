{
 "cells": [
  {
   "cell_type": "markdown",
   "metadata": {},
   "source": [
    "# 大作业——方差缩减类算法实现与比较"
   ]
  },
  {
   "cell_type": "markdown",
   "metadata": {},
   "source": [
    "------------------"
   ]
  },
  {
   "cell_type": "markdown",
   "metadata": {},
   "source": [
    "## 1 理论分析\n",
    "\n",
    "#### 实现了4个算法，分别是SAG 算法、SAGA 算法、SVRG 算法、SARAH 算法。算法分析以及伪代码等详见综述论文\n",
    "\n",
    "---\n",
    "\n",
    "## 2 问题建模：\n",
    "### 将二分类问题建模成L2正则逻辑回归[L2-regularized Logistic Regression]\n",
    "\n",
    "#### 2.1 目标loss函数\n",
    "$$\\underset{w \\in \\mathbb{R}^{p}}{\\operatorname{minimize}} \\quad g(w):=\\frac{1}{n} \\sum_{i=1}^{n} f_{i}(w)$$  \n",
    "$$f_{i}(w):=\\frac{\\lambda}{2}\\|w\\|^{2}+\\log (1+\\left.\\exp \\left(-y_{i} x_{i}^{T} w\\right)\\right)$$  \n",
    "其中$x_{i} \\in \\mathbb{R}^{p} \\text { and } y_{i} \\in\\{-1,1\\}$是总共n个样本的特征以及标签，优化的变量是权重$w$。  \n",
    "#### 2.2 每个样本损失函数的导函数：\n",
    "\n",
    "$$\\nabla f_{i}(w) = \\lambda w - \\frac{y_i \\exp \\left(-y_{i} x_{i}^{T} w\\right)}{1+ \\exp \\left(-y_{i} x_{i}^{T} w\\right)}x_i$$"
   ]
  },
  {
   "cell_type": "markdown",
   "metadata": {},
   "source": [
    "----------"
   ]
  },
  {
   "cell_type": "markdown",
   "metadata": {},
   "source": [
    "## 3 实验部分\n",
    "### 3.1.1 选用数据集：w8a以及ijcnn1[都是二分类数据集]\n",
    "数据库网址：https://www.csie.ntu.edu.tw/~cjlin/libsvmtools/datasets/\n",
    "\n",
    "数据集信息（两个文档数据集，样本数目都不算大，特征维度w8a比ijcnn1略微高一点，但是也没有很高，不像之前某次作业用过的rcv1和covtype“一个特征维度很高，一个样本数目很大”这样各具特色）：  \n",
    "w8a：&nbsp;&nbsp;&nbsp;&nbsp; # of data: 49,749 / 14,951 (testing) ；&nbsp; # of features: 300 &nbsp;&nbsp;&nbsp;&nbsp;  \n",
    "ijcnn1：# of data:  49,990 / 91,701 (testing) ；# of features: 22 &nbsp;&nbsp;&nbsp;&nbsp;&nbsp;&nbsp;  \n",
    "（下载后解压得w8a、w8a.t以及ijcnn1、ijcnn1.t四个文件放置于本notebook代码同一目录下）"
   ]
  },
  {
   "cell_type": "code",
   "execution_count": 1,
   "metadata": {},
   "outputs": [],
   "source": [
    "import pandas as pd\n",
    "import numpy as np\n",
    "from matplotlib import pyplot as plt\n",
    "from tqdm import trange, tqdm\n",
    "import warnings\n",
    "warnings.filterwarnings(\"ignore\")"
   ]
  },
  {
   "cell_type": "markdown",
   "metadata": {},
   "source": [
    "### 3.1.2 训练/测试数据集读入、清洗"
   ]
  },
  {
   "cell_type": "code",
   "execution_count": 2,
   "metadata": {},
   "outputs": [],
   "source": [
    "def read_dataset_file(filename):\n",
    "    from sklearn.datasets import load_svmlight_file  #注意，这里只调用了dataset中读入数据的函数，除此之外不会调用任何其他第三方函数。\n",
    "    X, y = load_svmlight_file(filename)\n",
    "    df_x = pd.DataFrame(X.todense())\n",
    "    df_y = pd.DataFrame(y)\n",
    "    df_y.columns = ['label']\n",
    "    df = pd.concat([df_y, df_x], axis=1)\n",
    "    return df\n",
    "\n",
    "def prepare_dataframe(train_filename, test_filename):\n",
    "    ########### 数据读入 ###########\n",
    "    train_df = read_dataset_file(train_filename)\n",
    "    test_df = read_dataset_file(test_filename)\n",
    "    ########### 数据清洗 ###########\n",
    "    train_df.dropna(inplace=True)\n",
    "    test_df.dropna(inplace=True)\n",
    "    ########## 数据集统计 ##########\n",
    "    print(\"训练数据集shape和测试数据集shape:\")\n",
    "    print(train_df.shape, test_df.shape)\n",
    "    ###### 给训练集附加上index ##### \n",
    "    train_df = train_df.reset_index()\n",
    "    train_df['index'] = pd.DataFrame(range(train_df.shape[0])).astype(int)\n",
    "    return train_df, test_df"
   ]
  },
  {
   "cell_type": "markdown",
   "metadata": {},
   "source": [
    "**读入w8a数据集**"
   ]
  },
  {
   "cell_type": "code",
   "execution_count": 3,
   "metadata": {},
   "outputs": [
    {
     "name": "stdout",
     "output_type": "stream",
     "text": [
      "训练数据集shape和测试数据集shape:\n",
      "(49749, 301) (14951, 301)\n"
     ]
    },
    {
     "data": {
      "text/html": [
       "<div>\n",
       "<style scoped>\n",
       "    .dataframe tbody tr th:only-of-type {\n",
       "        vertical-align: middle;\n",
       "    }\n",
       "\n",
       "    .dataframe tbody tr th {\n",
       "        vertical-align: top;\n",
       "    }\n",
       "\n",
       "    .dataframe thead th {\n",
       "        text-align: right;\n",
       "    }\n",
       "</style>\n",
       "<table border=\"1\" class=\"dataframe\">\n",
       "  <thead>\n",
       "    <tr style=\"text-align: right;\">\n",
       "      <th></th>\n",
       "      <th>index</th>\n",
       "      <th>label</th>\n",
       "      <th>0</th>\n",
       "      <th>1</th>\n",
       "      <th>2</th>\n",
       "      <th>3</th>\n",
       "      <th>4</th>\n",
       "      <th>5</th>\n",
       "      <th>6</th>\n",
       "      <th>7</th>\n",
       "      <th>...</th>\n",
       "      <th>290</th>\n",
       "      <th>291</th>\n",
       "      <th>292</th>\n",
       "      <th>293</th>\n",
       "      <th>294</th>\n",
       "      <th>295</th>\n",
       "      <th>296</th>\n",
       "      <th>297</th>\n",
       "      <th>298</th>\n",
       "      <th>299</th>\n",
       "    </tr>\n",
       "  </thead>\n",
       "  <tbody>\n",
       "    <tr>\n",
       "      <th>0</th>\n",
       "      <td>0</td>\n",
       "      <td>-1.0</td>\n",
       "      <td>0.0</td>\n",
       "      <td>0.0</td>\n",
       "      <td>0.0</td>\n",
       "      <td>0.0</td>\n",
       "      <td>0.0</td>\n",
       "      <td>0.0</td>\n",
       "      <td>0.0</td>\n",
       "      <td>0.0</td>\n",
       "      <td>...</td>\n",
       "      <td>0.0</td>\n",
       "      <td>0.0</td>\n",
       "      <td>0.0</td>\n",
       "      <td>0.0</td>\n",
       "      <td>0.0</td>\n",
       "      <td>0.0</td>\n",
       "      <td>0.0</td>\n",
       "      <td>0.0</td>\n",
       "      <td>0.0</td>\n",
       "      <td>0.0</td>\n",
       "    </tr>\n",
       "    <tr>\n",
       "      <th>1</th>\n",
       "      <td>1</td>\n",
       "      <td>-1.0</td>\n",
       "      <td>0.0</td>\n",
       "      <td>0.0</td>\n",
       "      <td>0.0</td>\n",
       "      <td>0.0</td>\n",
       "      <td>0.0</td>\n",
       "      <td>0.0</td>\n",
       "      <td>0.0</td>\n",
       "      <td>0.0</td>\n",
       "      <td>...</td>\n",
       "      <td>0.0</td>\n",
       "      <td>0.0</td>\n",
       "      <td>0.0</td>\n",
       "      <td>0.0</td>\n",
       "      <td>0.0</td>\n",
       "      <td>0.0</td>\n",
       "      <td>0.0</td>\n",
       "      <td>0.0</td>\n",
       "      <td>0.0</td>\n",
       "      <td>0.0</td>\n",
       "    </tr>\n",
       "    <tr>\n",
       "      <th>2</th>\n",
       "      <td>2</td>\n",
       "      <td>-1.0</td>\n",
       "      <td>0.0</td>\n",
       "      <td>0.0</td>\n",
       "      <td>0.0</td>\n",
       "      <td>0.0</td>\n",
       "      <td>0.0</td>\n",
       "      <td>0.0</td>\n",
       "      <td>0.0</td>\n",
       "      <td>0.0</td>\n",
       "      <td>...</td>\n",
       "      <td>0.0</td>\n",
       "      <td>0.0</td>\n",
       "      <td>0.0</td>\n",
       "      <td>0.0</td>\n",
       "      <td>0.0</td>\n",
       "      <td>0.0</td>\n",
       "      <td>0.0</td>\n",
       "      <td>0.0</td>\n",
       "      <td>0.0</td>\n",
       "      <td>0.0</td>\n",
       "    </tr>\n",
       "    <tr>\n",
       "      <th>3</th>\n",
       "      <td>3</td>\n",
       "      <td>-1.0</td>\n",
       "      <td>0.0</td>\n",
       "      <td>0.0</td>\n",
       "      <td>0.0</td>\n",
       "      <td>0.0</td>\n",
       "      <td>0.0</td>\n",
       "      <td>0.0</td>\n",
       "      <td>0.0</td>\n",
       "      <td>0.0</td>\n",
       "      <td>...</td>\n",
       "      <td>0.0</td>\n",
       "      <td>0.0</td>\n",
       "      <td>0.0</td>\n",
       "      <td>0.0</td>\n",
       "      <td>0.0</td>\n",
       "      <td>0.0</td>\n",
       "      <td>0.0</td>\n",
       "      <td>0.0</td>\n",
       "      <td>0.0</td>\n",
       "      <td>0.0</td>\n",
       "    </tr>\n",
       "    <tr>\n",
       "      <th>4</th>\n",
       "      <td>4</td>\n",
       "      <td>-1.0</td>\n",
       "      <td>0.0</td>\n",
       "      <td>0.0</td>\n",
       "      <td>0.0</td>\n",
       "      <td>0.0</td>\n",
       "      <td>0.0</td>\n",
       "      <td>0.0</td>\n",
       "      <td>0.0</td>\n",
       "      <td>0.0</td>\n",
       "      <td>...</td>\n",
       "      <td>0.0</td>\n",
       "      <td>0.0</td>\n",
       "      <td>0.0</td>\n",
       "      <td>0.0</td>\n",
       "      <td>0.0</td>\n",
       "      <td>0.0</td>\n",
       "      <td>0.0</td>\n",
       "      <td>1.0</td>\n",
       "      <td>0.0</td>\n",
       "      <td>0.0</td>\n",
       "    </tr>\n",
       "  </tbody>\n",
       "</table>\n",
       "<p>5 rows × 302 columns</p>\n",
       "</div>"
      ],
      "text/plain": [
       "   index  label    0    1    2    3    4    5    6    7  ...  290  291  292  \\\n",
       "0      0   -1.0  0.0  0.0  0.0  0.0  0.0  0.0  0.0  0.0  ...  0.0  0.0  0.0   \n",
       "1      1   -1.0  0.0  0.0  0.0  0.0  0.0  0.0  0.0  0.0  ...  0.0  0.0  0.0   \n",
       "2      2   -1.0  0.0  0.0  0.0  0.0  0.0  0.0  0.0  0.0  ...  0.0  0.0  0.0   \n",
       "3      3   -1.0  0.0  0.0  0.0  0.0  0.0  0.0  0.0  0.0  ...  0.0  0.0  0.0   \n",
       "4      4   -1.0  0.0  0.0  0.0  0.0  0.0  0.0  0.0  0.0  ...  0.0  0.0  0.0   \n",
       "\n",
       "   293  294  295  296  297  298  299  \n",
       "0  0.0  0.0  0.0  0.0  0.0  0.0  0.0  \n",
       "1  0.0  0.0  0.0  0.0  0.0  0.0  0.0  \n",
       "2  0.0  0.0  0.0  0.0  0.0  0.0  0.0  \n",
       "3  0.0  0.0  0.0  0.0  0.0  0.0  0.0  \n",
       "4  0.0  0.0  0.0  0.0  1.0  0.0  0.0  \n",
       "\n",
       "[5 rows x 302 columns]"
      ]
     },
     "execution_count": 3,
     "metadata": {},
     "output_type": "execute_result"
    }
   ],
   "source": [
    "#读入w8a数据集\n",
    "train_df_w8a, test_df_w8a = prepare_dataframe(\"w8a\",\"w8a.t\")\n",
    "train_df_w8a.head(5)"
   ]
  },
  {
   "cell_type": "markdown",
   "metadata": {},
   "source": [
    "**读入ijcnn1数据集**"
   ]
  },
  {
   "cell_type": "code",
   "execution_count": 4,
   "metadata": {},
   "outputs": [
    {
     "name": "stdout",
     "output_type": "stream",
     "text": [
      "训练数据集shape和测试数据集shape:\n",
      "(49990, 23) (91701, 23)\n"
     ]
    },
    {
     "data": {
      "text/html": [
       "<div>\n",
       "<style scoped>\n",
       "    .dataframe tbody tr th:only-of-type {\n",
       "        vertical-align: middle;\n",
       "    }\n",
       "\n",
       "    .dataframe tbody tr th {\n",
       "        vertical-align: top;\n",
       "    }\n",
       "\n",
       "    .dataframe thead th {\n",
       "        text-align: right;\n",
       "    }\n",
       "</style>\n",
       "<table border=\"1\" class=\"dataframe\">\n",
       "  <thead>\n",
       "    <tr style=\"text-align: right;\">\n",
       "      <th></th>\n",
       "      <th>index</th>\n",
       "      <th>label</th>\n",
       "      <th>0</th>\n",
       "      <th>1</th>\n",
       "      <th>2</th>\n",
       "      <th>3</th>\n",
       "      <th>4</th>\n",
       "      <th>5</th>\n",
       "      <th>6</th>\n",
       "      <th>7</th>\n",
       "      <th>...</th>\n",
       "      <th>12</th>\n",
       "      <th>13</th>\n",
       "      <th>14</th>\n",
       "      <th>15</th>\n",
       "      <th>16</th>\n",
       "      <th>17</th>\n",
       "      <th>18</th>\n",
       "      <th>19</th>\n",
       "      <th>20</th>\n",
       "      <th>21</th>\n",
       "    </tr>\n",
       "  </thead>\n",
       "  <tbody>\n",
       "    <tr>\n",
       "      <th>0</th>\n",
       "      <td>0</td>\n",
       "      <td>-1.0</td>\n",
       "      <td>0.0</td>\n",
       "      <td>0.0</td>\n",
       "      <td>0.0</td>\n",
       "      <td>0.0</td>\n",
       "      <td>0.0</td>\n",
       "      <td>1.0</td>\n",
       "      <td>0.0</td>\n",
       "      <td>0.0</td>\n",
       "      <td>...</td>\n",
       "      <td>0.000000</td>\n",
       "      <td>0.000270</td>\n",
       "      <td>0.011684</td>\n",
       "      <td>-0.011052</td>\n",
       "      <td>0.024452</td>\n",
       "      <td>0.008337</td>\n",
       "      <td>0.001324</td>\n",
       "      <td>0.025544</td>\n",
       "      <td>-0.040728</td>\n",
       "      <td>-0.000810</td>\n",
       "    </tr>\n",
       "    <tr>\n",
       "      <th>1</th>\n",
       "      <td>1</td>\n",
       "      <td>-1.0</td>\n",
       "      <td>0.0</td>\n",
       "      <td>0.0</td>\n",
       "      <td>0.0</td>\n",
       "      <td>0.0</td>\n",
       "      <td>0.0</td>\n",
       "      <td>0.0</td>\n",
       "      <td>1.0</td>\n",
       "      <td>0.0</td>\n",
       "      <td>...</td>\n",
       "      <td>0.000270</td>\n",
       "      <td>0.011684</td>\n",
       "      <td>-0.011052</td>\n",
       "      <td>0.024452</td>\n",
       "      <td>0.008337</td>\n",
       "      <td>0.001324</td>\n",
       "      <td>0.025544</td>\n",
       "      <td>-0.040728</td>\n",
       "      <td>-0.000810</td>\n",
       "      <td>-0.003890</td>\n",
       "    </tr>\n",
       "    <tr>\n",
       "      <th>2</th>\n",
       "      <td>2</td>\n",
       "      <td>-1.0</td>\n",
       "      <td>0.0</td>\n",
       "      <td>0.0</td>\n",
       "      <td>0.0</td>\n",
       "      <td>0.0</td>\n",
       "      <td>0.0</td>\n",
       "      <td>0.0</td>\n",
       "      <td>0.0</td>\n",
       "      <td>1.0</td>\n",
       "      <td>...</td>\n",
       "      <td>0.011684</td>\n",
       "      <td>-0.011052</td>\n",
       "      <td>0.024452</td>\n",
       "      <td>0.008337</td>\n",
       "      <td>0.001324</td>\n",
       "      <td>0.025544</td>\n",
       "      <td>-0.040728</td>\n",
       "      <td>-0.000810</td>\n",
       "      <td>-0.003890</td>\n",
       "      <td>0.004604</td>\n",
       "    </tr>\n",
       "    <tr>\n",
       "      <th>3</th>\n",
       "      <td>3</td>\n",
       "      <td>-1.0</td>\n",
       "      <td>0.0</td>\n",
       "      <td>0.0</td>\n",
       "      <td>0.0</td>\n",
       "      <td>0.0</td>\n",
       "      <td>0.0</td>\n",
       "      <td>0.0</td>\n",
       "      <td>0.0</td>\n",
       "      <td>0.0</td>\n",
       "      <td>...</td>\n",
       "      <td>-0.011052</td>\n",
       "      <td>0.024452</td>\n",
       "      <td>0.008337</td>\n",
       "      <td>0.001324</td>\n",
       "      <td>0.025544</td>\n",
       "      <td>-0.040728</td>\n",
       "      <td>-0.000810</td>\n",
       "      <td>-0.003890</td>\n",
       "      <td>0.004604</td>\n",
       "      <td>0.003551</td>\n",
       "    </tr>\n",
       "    <tr>\n",
       "      <th>4</th>\n",
       "      <td>4</td>\n",
       "      <td>-1.0</td>\n",
       "      <td>0.0</td>\n",
       "      <td>0.0</td>\n",
       "      <td>0.0</td>\n",
       "      <td>0.0</td>\n",
       "      <td>0.0</td>\n",
       "      <td>0.0</td>\n",
       "      <td>0.0</td>\n",
       "      <td>0.0</td>\n",
       "      <td>...</td>\n",
       "      <td>0.024452</td>\n",
       "      <td>0.008337</td>\n",
       "      <td>0.001324</td>\n",
       "      <td>0.025544</td>\n",
       "      <td>-0.040728</td>\n",
       "      <td>-0.000810</td>\n",
       "      <td>-0.003890</td>\n",
       "      <td>0.004604</td>\n",
       "      <td>0.003551</td>\n",
       "      <td>-0.024589</td>\n",
       "    </tr>\n",
       "  </tbody>\n",
       "</table>\n",
       "<p>5 rows × 24 columns</p>\n",
       "</div>"
      ],
      "text/plain": [
       "   index  label    0    1    2    3    4    5    6    7  ...        12  \\\n",
       "0      0   -1.0  0.0  0.0  0.0  0.0  0.0  1.0  0.0  0.0  ...  0.000000   \n",
       "1      1   -1.0  0.0  0.0  0.0  0.0  0.0  0.0  1.0  0.0  ...  0.000270   \n",
       "2      2   -1.0  0.0  0.0  0.0  0.0  0.0  0.0  0.0  1.0  ...  0.011684   \n",
       "3      3   -1.0  0.0  0.0  0.0  0.0  0.0  0.0  0.0  0.0  ... -0.011052   \n",
       "4      4   -1.0  0.0  0.0  0.0  0.0  0.0  0.0  0.0  0.0  ...  0.024452   \n",
       "\n",
       "         13        14        15        16        17        18        19  \\\n",
       "0  0.000270  0.011684 -0.011052  0.024452  0.008337  0.001324  0.025544   \n",
       "1  0.011684 -0.011052  0.024452  0.008337  0.001324  0.025544 -0.040728   \n",
       "2 -0.011052  0.024452  0.008337  0.001324  0.025544 -0.040728 -0.000810   \n",
       "3  0.024452  0.008337  0.001324  0.025544 -0.040728 -0.000810 -0.003890   \n",
       "4  0.008337  0.001324  0.025544 -0.040728 -0.000810 -0.003890  0.004604   \n",
       "\n",
       "         20        21  \n",
       "0 -0.040728 -0.000810  \n",
       "1 -0.000810 -0.003890  \n",
       "2 -0.003890  0.004604  \n",
       "3  0.004604  0.003551  \n",
       "4  0.003551 -0.024589  \n",
       "\n",
       "[5 rows x 24 columns]"
      ]
     },
     "execution_count": 4,
     "metadata": {},
     "output_type": "execute_result"
    }
   ],
   "source": [
    "#读入ijcnn1数据集\n",
    "train_df_ijcnn1, test_df_ijcnn1 = prepare_dataframe(\"ijcnn1\", \"ijcnn1.t\")\n",
    "train_df_ijcnn1.head(5)"
   ]
  },
  {
   "cell_type": "markdown",
   "metadata": {},
   "source": [
    "### 3.2.0 共享的公共函数实现\n",
    "为实现更加模块化、更加简洁明了的代码，定义以下算法都会用到的共享函数，比如计算损失函数、计算梯度、测试并返回验证结果等等"
   ]
  },
  {
   "cell_type": "code",
   "execution_count": 5,
   "metadata": {},
   "outputs": [],
   "source": [
    "def loss_func_i(xi,yi,w,lamda):\n",
    "    if np.exp(-yi * np.dot(xi,w)) != float(\"inf\"):\n",
    "        return 0.5*lamda*np.dot(w,w) + np.log(1 + np.exp(-yi * np.dot(xi,w)))\n",
    "    else:\n",
    "        return 0.5*lamda*np.dot(w,w) + -yi * np.dot(xi,w) #处理溢出的情况\n",
    "    \n",
    "def cal_grad_i(xi,yi,w,lamda):\n",
    "    return lamda * w - 1 / (1 / np.exp(-yi * np.dot(xi,w)) + 1) * yi * xi\n",
    "\n",
    "def test(test_df,w,lamda):\n",
    "    loss_epoch = 0\n",
    "    for data in test_df.values:\n",
    "        xi = data[1:]\n",
    "        yi = data[0]\n",
    "        loss_epoch += loss_func_i(xi,yi,w,lamda)\n",
    "        probability = 1 / (1 + np.exp(-np.dot(xi,w)))\n",
    "        if probability > 0.5:\n",
    "            pred = 1\n",
    "        else:\n",
    "            pred = -1\n",
    "    return loss_epoch/test_df.shape[0]"
   ]
  },
  {
   "cell_type": "markdown",
   "metadata": {},
   "source": [
    "### 3.2.1 SAG算法实现\n",
    "实现细节：下面实验中会使用论文中的设置$\\lambda$=1/n，其他部分按照综述中的伪代码实现即可。"
   ]
  },
  {
   "cell_type": "code",
   "execution_count": 6,
   "metadata": {
    "code_folding": []
   },
   "outputs": [],
   "source": [
    "def SAG(train_df,test_df,num_epoch,lamda,learning_rate):\n",
    "    d = 0\n",
    "    w = np.ones(train_df.shape[1]-2) # initialize w\n",
    "    history = np.zeros([train_df.shape[0],train_df.shape[1]-2])\n",
    "    np.random.seed(0)\n",
    "    train_loss = []\n",
    "    test_loss = []\n",
    "    d_norm = []\n",
    "    with trange(num_epoch, desc='Epoch Loop') as kbar:\n",
    "        for k in kbar:\n",
    "            ########## TRAIN ##########\n",
    "            train_loss_epoch = 0\n",
    "            for data in train_df.values:\n",
    "                xi, yi = data[2:], data[1]\n",
    "                train_loss_epoch += loss_func_i(xi,yi,w,lamda)\n",
    "            train_loss_epoch /= train_df.shape[0]\n",
    "            train_df = train_df.reindex(np.random.permutation(train_df.index)) # random shuffle\n",
    "            d_norm_epoch = 0\n",
    "            for data in train_df.values:\n",
    "                i = int(data[0]) # index\n",
    "                xi = data[2:]\n",
    "                yi = data[1]\n",
    "                gredient = cal_grad_i(xi,yi,w,lamda)\n",
    "                d = d - history[i] + gredient\n",
    "                d_norm_epoch += np.linalg.norm(d)\n",
    "                history[i] = gredient\n",
    "                w = w - learning_rate / train_df.shape[0] * d\n",
    "            d_norm_epoch /= train_df.shape[0]\n",
    "            ########## TEST ##########\n",
    "            test_loss_epoch = test(test_df,w,lamda)\n",
    "            ########## SUMMARY ##########\n",
    "            train_loss.append(train_loss_epoch)\n",
    "            test_loss.append(test_loss_epoch)\n",
    "            d_norm.append(d_norm_epoch)\n",
    "            kbar.set_postfix(train_loss_epoch=train_loss_epoch, test_loss_epoch=test_loss_epoch, direction_norm_epoch=d_norm_epoch)\n",
    "    return train_loss, test_loss, d_norm"
   ]
  },
  {
   "cell_type": "markdown",
   "metadata": {},
   "source": [
    "### 3.2.2 SAGA算法实现\n",
    "实现细节：下面实验中采用设置$\\lambda$=1/n，其他部分按照综述中的伪代码实现即可。"
   ]
  },
  {
   "cell_type": "code",
   "execution_count": 7,
   "metadata": {},
   "outputs": [],
   "source": [
    "def SAGA(train_df,test_df,num_epoch,lamda,learning_rate):\n",
    "    d = 0\n",
    "    w = np.ones(train_df.shape[1]-2) # initialize w\n",
    "    history = np.zeros([train_df.shape[0],train_df.shape[1]-2])\n",
    "    history_avg = np.mean(history)\n",
    "    np.random.seed(0)\n",
    "    train_loss = []\n",
    "    test_loss = []\n",
    "    d_norm = []\n",
    "    with trange(num_epoch, desc='Epoch Loop') as kbar:\n",
    "        for k in kbar:\n",
    "            ########## TRAIN ##########\n",
    "            train_loss_epoch = 0\n",
    "            for data in train_df.values:\n",
    "                xi, yi = data[2:], data[1]\n",
    "                train_loss_epoch += loss_func_i(xi,yi,w,lamda)\n",
    "            train_loss_epoch /= train_df.shape[0]\n",
    "            train_df = train_df.reindex(np.random.permutation(train_df.index)) # random shuffle\n",
    "            d_norm_epoch = 0\n",
    "            for data in train_df.values:\n",
    "                i = int(data[0]) # index\n",
    "                xi = data[2:]\n",
    "                yi = data[1]\n",
    "                gredient = cal_grad_i(xi,yi,w,lamda)\n",
    "                d = gredient - history[i] + history_avg\n",
    "                d_norm_epoch += np.linalg.norm(d)\n",
    "                history_avg = history_avg + (gredient - history[i])/train_df.shape[0]\n",
    "                history[i] = gredient\n",
    "                w = w - learning_rate * d\n",
    "            d_norm_epoch /= train_df.shape[0]\n",
    "            ########## TEST ##########\n",
    "            test_loss_epoch = test(test_df,w,lamda)\n",
    "            ########## SUMMARY ##########\n",
    "            train_loss.append(train_loss_epoch)\n",
    "            test_loss.append(test_loss_epoch)\n",
    "            d_norm.append(d_norm_epoch)\n",
    "            kbar.set_postfix(train_loss_epoch=train_loss_epoch, test_loss_epoch=test_loss_epoch, direction_norm_epoch=d_norm_epoch)\n",
    "    return train_loss, test_loss, d_norm"
   ]
  },
  {
   "cell_type": "markdown",
   "metadata": {},
   "source": [
    "### 3.2.3 SVRG算法实现\n",
    "实现细节：下面实验中会使用论文中的设置$\\lambda$=1e-5，内循环m=n（论文原文是2n或者5n），更新策略是option I，其他部分按照综述中的伪代码实现即可。"
   ]
  },
  {
   "cell_type": "code",
   "execution_count": 8,
   "metadata": {},
   "outputs": [],
   "source": [
    "def SVRG(train_df,test_df,num_epoch,lamda,learning_rate):\n",
    "    w = np.ones(train_df.shape[1]-2) # initialize w\n",
    "    np.random.seed(0)\n",
    "    train_loss = []\n",
    "    test_loss = []\n",
    "    d_norm = []\n",
    "    with trange(num_epoch, desc='Epoch Loop') as kbar:\n",
    "        for k in kbar:\n",
    "            ########## TRAIN ##########\n",
    "            grad_global = 0\n",
    "            train_loss_epoch = 0\n",
    "            for data in train_df.values:\n",
    "                xi, yi = data[2:], data[1]\n",
    "                train_loss_epoch += loss_func_i(xi,yi,w,lamda)\n",
    "                grad_global += cal_grad_i(xi,yi,w,lamda)\n",
    "            train_loss_epoch /= train_df.shape[0]\n",
    "            grad_global /= train_df.shape[0]\n",
    "            w_tem = w\n",
    "            train_df = train_df.reindex(np.random.permutation(train_df.index)) # random shuffle；m=n\n",
    "            d_norm_epoch = 0\n",
    "            for data in train_df.values:\n",
    "                xi, yi = data[2:], data[1]\n",
    "                d = cal_grad_i(xi,yi,w_tem,lamda) - cal_grad_i(xi,yi,w,lamda) + grad_global\n",
    "                d_norm_epoch += np.linalg.norm(d)\n",
    "                w_tem = w_tem - learning_rate * d\n",
    "            d_norm_epoch /= train_df.shape[0]\n",
    "            w = w_tem # option I\n",
    "            ########## TEST ##########\n",
    "            test_loss_epoch = test(test_df,w,lamda)\n",
    "            ########## SUMMARY ##########\n",
    "            train_loss.append(train_loss_epoch)\n",
    "            test_loss.append(test_loss_epoch)\n",
    "            d_norm.append(d_norm_epoch)\n",
    "            kbar.set_postfix(train_loss_epoch=train_loss_epoch, test_loss_epoch=test_loss_epoch, direction_norm_epoch=d_norm_epoch)\n",
    "    return train_loss, test_loss, d_norm"
   ]
  },
  {
   "cell_type": "markdown",
   "metadata": {},
   "source": [
    "### 3.2.4 SARAH算法实现\n",
    "实现细节：下面实验中会使用论文中的设置$\\lambda$=1/n，内循环m=n，更新策略是option I，其他部分按照综述中的伪代码实现即可。"
   ]
  },
  {
   "cell_type": "code",
   "execution_count": 9,
   "metadata": {},
   "outputs": [],
   "source": [
    "def SARAH(train_df,test_df,num_epoch,lamda,learning_rate):\n",
    "    w = np.ones(train_df.shape[1]-2) # initialize w\n",
    "    np.random.seed(0)\n",
    "    train_loss = []\n",
    "    test_loss = []\n",
    "    d_norm = []\n",
    "    with trange(num_epoch, desc='Epoch Loop') as kbar:\n",
    "        for k in kbar:\n",
    "            ########## TRAIN ##########\n",
    "            grad_global_i = 0\n",
    "            train_loss_epoch = 0\n",
    "            for data in train_df.values:\n",
    "                xi, yi = data[2:], data[1]\n",
    "                train_loss_epoch += loss_func_i(xi,yi,w,lamda)\n",
    "                grad_global_i += cal_grad_i(xi,yi,w,lamda)\n",
    "            train_loss_epoch /= train_df.shape[0]\n",
    "            grad_global_i /= train_df.shape[0]\n",
    "            w_last = w\n",
    "            w_now = w - learning_rate * grad_global_i\n",
    "            train_df = train_df.reindex(np.random.permutation(train_df.index)) # random shuffle；m=n\n",
    "            d_norm_epoch = 0\n",
    "            for data in train_df.values:\n",
    "                xi, yi = data[2:], data[1]\n",
    "                grad_global_i = cal_grad_i(xi,yi,w_now,lamda) - cal_grad_i(xi,yi,w_last,lamda) + grad_global_i\n",
    "                d_norm_epoch += np.linalg.norm(grad_global_i)\n",
    "                w_last = w_now\n",
    "                w_now = w_now - learning_rate * grad_global_i\n",
    "            d_norm_epoch /= train_df.shape[0]\n",
    "            w = w_now # option I\n",
    "            ########## TEST ##########\n",
    "            test_loss_epoch = test(test_df,w,lamda)\n",
    "            ########## SUMMARY ##########\n",
    "            train_loss.append(train_loss_epoch)\n",
    "            test_loss.append(test_loss_epoch)\n",
    "            d_norm.append(d_norm_epoch)\n",
    "            kbar.set_postfix(train_loss_epoch=train_loss_epoch, test_loss_epoch=test_loss_epoch, direction_norm_epoch=d_norm_epoch)\n",
    "    return train_loss, test_loss, d_norm"
   ]
  },
  {
   "cell_type": "markdown",
   "metadata": {},
   "source": [
    "#### 3.2.3 其他辅助函数（画图）"
   ]
  },
  {
   "cell_type": "code",
   "execution_count": 10,
   "metadata": {},
   "outputs": [],
   "source": [
    "def plot_statistic_curves(num_epochs,train_loss,test_loss,d_norm,name):\n",
    "    fig = plt.figure(figsize=(22,6))\n",
    "    plt.subplot(1,3,1)\n",
    "    plt.title('train_loss over epochs')\n",
    "    plt.plot(range(num_epochs),train_loss,c='r')\n",
    "    plt.xlabel('# of epoches')\n",
    "    plt.ylabel('train_loss')\n",
    "    plt.xlim(xmin=0,xmax=num_epochs-1)\n",
    "    plt.xticks(range(num_epochs))\n",
    "    plt.grid()\n",
    "    plt.subplot(1,3,2)\n",
    "    plt.title('test_loss over epochs')\n",
    "    plt.plot(range(num_epochs),test_loss,c='g')\n",
    "    plt.xlabel('# of epoches')\n",
    "    plt.ylabel('test_loss')\n",
    "    plt.xlim(xmin=0,xmax=num_epochs-1)\n",
    "    plt.xticks(range(num_epochs))\n",
    "    plt.grid()\n",
    "    plt.subplot(1,3,3)\n",
    "    plt.title('direction_norm over epochs')\n",
    "    plt.plot(range(num_epochs),d_norm,c='b')\n",
    "    plt.xlabel('# of epoches')\n",
    "    plt.ylabel('direction_norm')\n",
    "    plt.xlim(xmin=0,xmax=num_epochs-1)\n",
    "    plt.xticks(range(num_epochs))\n",
    "    plt.grid()\n",
    "    fig.savefig(name,dpi=600,format='png',bbox_inches='tight')    "
   ]
  },
  {
   "cell_type": "markdown",
   "metadata": {},
   "source": [
    "### 3.3 实验结果\n",
    "### 3.3.1 w8a数据集结果"
   ]
  },
  {
   "cell_type": "markdown",
   "metadata": {},
   "source": [
    "**以下依次执行SAG、SAGA、SVRG、SARAH算法得到各自的结果，最后会绘制一个总图进行比较**  \n",
    "*注意：结果都是没有进行刻意的调参得到的（由于能调的参数还是挺多的，因此我并没有很多的时间刻意地去把参数全部都调的非常精确），不过由于算法实现的比较完整没有bug，而且这些论文中一些基础的结论都还是得到了验证*\n",
    "\n",
    "#### SAG算法"
   ]
  },
  {
   "cell_type": "code",
   "execution_count": 11,
   "metadata": {
    "scrolled": false
   },
   "outputs": [
    {
     "name": "stderr",
     "output_type": "stream",
     "text": [
      "Epoch Loop: 100%|██████████| 30/30 [01:24<00:00,  2.82s/it, direction_norm_epoch=112, test_loss_epoch=0.146, train_loss_epoch=0.147] \n"
     ]
    },
    {
     "name": "stdout",
     "output_type": "stream",
     "text": [
      "SAG算法——w8a数据集结果:\n"
     ]
    },
    {
     "data": {
      "image/png": "[encoded data removed]",
      "text/plain": [
       "<Figure size 1584x432 with 3 Axes>"
      ]
     },
     "metadata": {
      "needs_background": "light"
     },
     "output_type": "display_data"
    }
   ],
   "source": [
    "num_epochs = 30\n",
    "lamda = 1 / (train_df_w8a.shape[0] + test_df_w8a.shape[0])\n",
    "train_loss_sag, test_loss, d_norm_sag = SAG(train_df_w8a,test_df_w8a,num_epochs,lamda,learning_rate=0.025)\n",
    "print(\"SAG算法——w8a数据集结果:\")\n",
    "plot_statistic_curves(num_epochs,train_loss_sag,test_loss,d_norm_sag,name='w8a_SAG.png')"
   ]
  },
  {
   "cell_type": "markdown",
   "metadata": {},
   "source": [
    "结果分析：可以看到训练目标函数（loss函数）快速下降并收敛，同时测试集目标函数值也快速下降说明SAG算法的有效性以及鲁棒性  "
   ]
  },
  {
   "cell_type": "markdown",
   "metadata": {},
   "source": [
    "#### SAGA算法"
   ]
  },
  {
   "cell_type": "code",
   "execution_count": 12,
   "metadata": {},
   "outputs": [
    {
     "name": "stderr",
     "output_type": "stream",
     "text": [
      "Epoch Loop: 100%|██████████| 30/30 [01:33<00:00,  3.12s/it, direction_norm_epoch=0.000681, test_loss_epoch=0.129, train_loss_epoch=0.126]\n"
     ]
    },
    {
     "name": "stdout",
     "output_type": "stream",
     "text": [
      "SAGA算法——w8a数据集结果:\n"
     ]
    },
    {
     "data": {
      "image/png": "[encoded data removed]",
      "text/plain": [
       "<Figure size 1584x432 with 3 Axes>"
      ]
     },
     "metadata": {
      "needs_background": "light"
     },
     "output_type": "display_data"
    }
   ],
   "source": [
    "num_epochs = 30\n",
    "lamda = 1 / (train_df_w8a.shape[0] + test_df_w8a.shape[0])\n",
    "train_loss_saga, test_loss, d_norm_saga = SAGA(train_df_w8a,test_df_w8a,num_epochs,lamda,learning_rate=0.01)\n",
    "print(\"SAGA算法——w8a数据集结果:\")\n",
    "plot_statistic_curves(num_epochs,train_loss_saga,test_loss,d_norm_saga,name='w8a_SAGA.png')"
   ]
  },
  {
   "cell_type": "markdown",
   "metadata": {},
   "source": [
    "结果分析：可以看到训练目标函数（loss函数）快速下降并收敛，同时测试集目标函数值也快速下降说明SAGA算法的有效性以及鲁棒性 "
   ]
  },
  {
   "cell_type": "markdown",
   "metadata": {},
   "source": [
    "#### SVRG算法"
   ]
  },
  {
   "cell_type": "code",
   "execution_count": 13,
   "metadata": {},
   "outputs": [
    {
     "name": "stderr",
     "output_type": "stream",
     "text": [
      "Epoch Loop: 100%|██████████| 30/30 [01:52<00:00,  3.74s/it, direction_norm_epoch=0.000757, test_loss_epoch=0.129, train_loss_epoch=0.126]\n"
     ]
    },
    {
     "name": "stdout",
     "output_type": "stream",
     "text": [
      "SVRG算法——w8a数据集结果:\n"
     ]
    },
    {
     "data": {
      "image/png": "[encoded data removed]",
      "text/plain": [
       "<Figure size 1584x432 with 3 Axes>"
      ]
     },
     "metadata": {
      "needs_background": "light"
     },
     "output_type": "display_data"
    }
   ],
   "source": [
    "num_epochs = 30\n",
    "lamda = 1e-5\n",
    "train_loss_svrg, test_loss, d_norm_svrg = SVRG(train_df_w8a,test_df_w8a,num_epochs,lamda,learning_rate=0.0075)\n",
    "print(\"SVRG算法——w8a数据集结果:\")\n",
    "plot_statistic_curves(num_epochs,train_loss_svrg,test_loss,d_norm_svrg,name='w8a_SVRG.png')"
   ]
  },
  {
   "cell_type": "markdown",
   "metadata": {},
   "source": [
    "结果分析：可以看到训练目标函数（loss函数）快速下降并收敛，同时测试集目标函数值也快速下降说明SVRG算法的有效性以及鲁棒性 "
   ]
  },
  {
   "cell_type": "markdown",
   "metadata": {},
   "source": [
    "#### SARAH算法"
   ]
  },
  {
   "cell_type": "code",
   "execution_count": 14,
   "metadata": {},
   "outputs": [
    {
     "name": "stderr",
     "output_type": "stream",
     "text": [
      "Epoch Loop: 100%|██████████| 30/30 [01:52<00:00,  3.76s/it, direction_norm_epoch=0.000833, test_loss_epoch=0.131, train_loss_epoch=0.129]\n"
     ]
    },
    {
     "name": "stdout",
     "output_type": "stream",
     "text": [
      "SARAH算法——w8a数据集结果:\n"
     ]
    },
    {
     "data": {
      "image/png": "[encoded data removed]",
      "text/plain": [
       "<Figure size 1584x432 with 3 Axes>"
      ]
     },
     "metadata": {
      "needs_background": "light"
     },
     "output_type": "display_data"
    }
   ],
   "source": [
    "num_epochs = 30\n",
    "lamda = 1 / (train_df_w8a.shape[0] + test_df_w8a.shape[0])\n",
    "train_loss_sarah, test_loss, d_norm_sarah = SARAH(train_df_w8a,test_df_w8a,num_epochs,lamda,learning_rate=0.01)\n",
    "print(\"SARAH算法——w8a数据集结果:\")\n",
    "plot_statistic_curves(num_epochs,train_loss_sarah,test_loss,d_norm_sarah,name='w8a_SARAH.png')"
   ]
  },
  {
   "cell_type": "markdown",
   "metadata": {},
   "source": [
    "结果分析：可以看到训练目标函数（loss函数）快速下降并收敛，同时测试集目标函数值也快速下降说明SARAH算法的有效性以及鲁棒性"
   ]
  },
  {
   "cell_type": "markdown",
   "metadata": {},
   "source": [
    "#### w8a数据集上四类算法对比\n",
    "**以下会按照要求，将四类算法的目标函数值与最优目标函数值之差变化曲线与迭代方向模长变化曲线放在一张图中对比！**  \n",
    "*注：由于要求画出目标函数值与最优目标函数值之差变化曲线，其中最优目标值其实是没法精确的求解出来的（如果能精确求解出来也没必要研究这些算法了，退一步讲就算能求解那也需要花费超大的时间复杂度与计算资源），一般方法呢是用其它算法先运行一下，得到符合某精度的函数值，我们这里也是采用原论文中提到的，梯度下降跑很长的时间足够收敛可以看做为近似的optimum*"
   ]
  },
  {
   "cell_type": "code",
   "execution_count": 15,
   "metadata": {},
   "outputs": [
    {
     "name": "stderr",
     "output_type": "stream",
     "text": [
      "Epoch Loop: 100%|██████████| 100/100 [05:15<00:00,  3.15s/it, train_loss_epoch=0.121]\n"
     ]
    },
    {
     "name": "stdout",
     "output_type": "stream",
     "text": [
      "得到w8a数据集optimum！！\n",
      "然后画出w8a在4个dataset上的对比图如下：\n"
     ]
    },
    {
     "data": {
      "image/png": "[encoded data removed]",
      "text/plain": [
       "<Figure size 1584x432 with 3 Axes>"
      ]
     },
     "metadata": {
      "needs_background": "light"
     },
     "output_type": "display_data"
    }
   ],
   "source": [
    "def optimum_w8a(train_df,num_epoch,lamda,learning_rate):\n",
    "    w = np.ones(train_df.shape[1]-2) # initialize w\n",
    "    np.random.seed(0)\n",
    "    train_loss = []\n",
    "    with trange(num_epoch, desc='Epoch Loop') as kbar:\n",
    "        for k in kbar:\n",
    "            ########## TRAIN ##########\n",
    "            grad_global = 0\n",
    "            train_loss_epoch = 0\n",
    "            for data in train_df.values:\n",
    "                xi, yi = data[2:], data[1]\n",
    "                train_loss_epoch += loss_func_i(xi,yi,w,lamda)\n",
    "                grad_global += cal_grad_i(xi,yi,w,lamda)\n",
    "            train_loss_epoch /= train_df.shape[0]\n",
    "            grad_global /= train_df.shape[0]\n",
    "            w_tem = w\n",
    "            train_df = train_df.reindex(np.random.permutation(train_df.index)) # random shuffle；m=n\n",
    "            for data in train_df.values:\n",
    "                xi, yi = data[2:], data[1]\n",
    "                d = cal_grad_i(xi,yi,w_tem,lamda) - cal_grad_i(xi,yi,w,lamda) + grad_global\n",
    "                w_tem = w_tem - learning_rate * d\n",
    "            w = w_tem # option I\n",
    "            ########## SUMMARY ##########\n",
    "            train_loss.append(train_loss_epoch)\n",
    "            kbar.set_postfix(train_loss_epoch=train_loss_epoch)\n",
    "    return np.min(train_loss)\n",
    "optimum_w8a = optimum_w8a(train_df_w8a,100,1e-5,learning_rate=0.25)\n",
    "print(\"得到w8a数据集optimum！！\\n然后画出w8a在4个dataset上的对比图如下：\")\n",
    "########## 画图 ##########\n",
    "fig = plt.figure(figsize=(22,6))\n",
    "x_data = range(30)\n",
    "plt.subplot(1,3,1)\n",
    "plt.title('training loss over epochs')\n",
    "plt.plot(x_data, train_loss_sag, label='SAG')\n",
    "plt.plot(x_data, train_loss_saga, label='SAGA')\n",
    "plt.plot(x_data, train_loss_svrg, label='SVRG')\n",
    "plt.plot(x_data, train_loss_sarah, label='SARAH')\n",
    "plt.xlabel('# of epoches')\n",
    "plt.ylabel('training loss')\n",
    "plt.legend()\n",
    "plt.subplot(1,3,2)\n",
    "plt.title('training loss residual over epochs [log scale]')\n",
    "plt.plot(x_data, train_loss_sag - optimum_w8a, label='SAG')\n",
    "plt.plot(x_data, train_loss_saga - optimum_w8a, label='SAGA')\n",
    "plt.plot(x_data, train_loss_svrg - optimum_w8a, label='SVRG')\n",
    "plt.plot(x_data, train_loss_sarah - optimum_w8a, label='SARAH')\n",
    "plt.xlabel('# of epoches')\n",
    "plt.ylabel('training loss residual')\n",
    "plt.yscale(\"log\")\n",
    "plt.legend()\n",
    "plt.subplot(1,3,3)\n",
    "plt.title('direction_norm over epochs [log scale]')\n",
    "plt.plot(x_data, d_norm_sag, label='SAG')\n",
    "plt.plot(x_data, d_norm_saga, label='SAGA')\n",
    "plt.plot(x_data, d_norm_svrg, label='SVRG')\n",
    "plt.plot(x_data, d_norm_sarah, label='SARAH')\n",
    "plt.xlabel('# of epoches')\n",
    "plt.ylabel('direction_norm')\n",
    "plt.yscale(\"log\")\n",
    "plt.legend()\n",
    "fig.savefig('w8a_4comparison.png',dpi=600,format='png',bbox_inches='tight')"
   ]
  },
  {
   "cell_type": "markdown",
   "metadata": {},
   "source": [
    "**结果分析见本notebook最后或者综述论文**"
   ]
  },
  {
   "cell_type": "markdown",
   "metadata": {},
   "source": [
    "---"
   ]
  },
  {
   "cell_type": "markdown",
   "metadata": {},
   "source": [
    "### 3.3.2 ijcnn1数据集结果"
   ]
  },
  {
   "cell_type": "markdown",
   "metadata": {},
   "source": [
    "**以下依次执行SAG、SAGA、SVRG、SARAH算法得到各自的结果，最后会绘制一个总图进行比较**  \n",
    "*注意：结果都是没有进行刻意的调参得到的（由于能调的参数还是挺多的，因此我并没有很多的时间刻意地去把参数全部都调的非常精确），不过由于算法实现的比较完整没有bug，因而对比图中能大致反应出相关结论*\n",
    "\n",
    "#### SAG算法"
   ]
  },
  {
   "cell_type": "code",
   "execution_count": 16,
   "metadata": {},
   "outputs": [
    {
     "name": "stderr",
     "output_type": "stream",
     "text": [
      "Epoch Loop: 100%|██████████| 30/30 [01:30<00:00,  3.02s/it, direction_norm_epoch=16.8, test_loss_epoch=0.213, train_loss_epoch=0.185]  \n"
     ]
    },
    {
     "name": "stdout",
     "output_type": "stream",
     "text": [
      "SAG算法——ijcnn1数据集结果:\n"
     ]
    },
    {
     "data": {
      "image/png": "[encoded data removed]",
      "text/plain": [
       "<Figure size 1584x432 with 3 Axes>"
      ]
     },
     "metadata": {
      "needs_background": "light"
     },
     "output_type": "display_data"
    }
   ],
   "source": [
    "num_epochs = 30\n",
    "lamda = 1 / (train_df_ijcnn1.shape[0] + test_df_ijcnn1.shape[0])\n",
    "train_loss_sag, test_loss, d_norm_sag = SAG(train_df_ijcnn1,test_df_ijcnn1,num_epochs,lamda,learning_rate=0.005)\n",
    "print(\"SAG算法——ijcnn1数据集结果:\")\n",
    "plot_statistic_curves(num_epochs,train_loss_sag,test_loss,d_norm_sag,name='ijcnn1_SAG.png')"
   ]
  },
  {
   "cell_type": "markdown",
   "metadata": {},
   "source": [
    "结果分析：可以看到训练目标函数（loss函数）快速下降并收敛，同时测试集目标函数值也快速下降说明SAG算法的有效性以及鲁棒性"
   ]
  },
  {
   "cell_type": "markdown",
   "metadata": {},
   "source": [
    "#### SAGA算法"
   ]
  },
  {
   "cell_type": "code",
   "execution_count": 17,
   "metadata": {},
   "outputs": [
    {
     "name": "stderr",
     "output_type": "stream",
     "text": [
      "Epoch Loop: 100%|██████████| 30/30 [01:35<00:00,  3.18s/it, direction_norm_epoch=0.000242, test_loss_epoch=0.213, train_loss_epoch=0.185]\n"
     ]
    },
    {
     "name": "stdout",
     "output_type": "stream",
     "text": [
      "SAGA算法——ijcnn1数据集结果:\n"
     ]
    },
    {
     "data": {
      "image/png": "[encoded data removed]",
      "text/plain": [
       "<Figure size 1584x432 with 3 Axes>"
      ]
     },
     "metadata": {
      "needs_background": "light"
     },
     "output_type": "display_data"
    }
   ],
   "source": [
    "num_epochs = 30\n",
    "lamda = 1 / (train_df_ijcnn1.shape[0] + test_df_ijcnn1.shape[0])\n",
    "train_loss_saga, test_loss, d_norm_saga = SAGA(train_df_ijcnn1,test_df_ijcnn1,num_epochs,lamda,learning_rate=0.01)\n",
    "print(\"SAGA算法——ijcnn1数据集结果:\")\n",
    "plot_statistic_curves(num_epochs,train_loss_saga,test_loss,d_norm_saga,name='ijcnn1_SAGA.png')"
   ]
  },
  {
   "cell_type": "markdown",
   "metadata": {},
   "source": [
    "结果分析：可以看到训练目标函数（loss函数）快速下降并收敛，同时测试集目标函数值也快速下降说明SAGA算法的有效性以及鲁棒性"
   ]
  },
  {
   "cell_type": "markdown",
   "metadata": {},
   "source": [
    "#### SVRG算法"
   ]
  },
  {
   "cell_type": "code",
   "execution_count": 18,
   "metadata": {},
   "outputs": [
    {
     "name": "stderr",
     "output_type": "stream",
     "text": [
      "Epoch Loop: 100%|██████████| 30/30 [01:49<00:00,  3.65s/it, direction_norm_epoch=0.000139, test_loss_epoch=0.213, train_loss_epoch=0.186]\n"
     ]
    },
    {
     "name": "stdout",
     "output_type": "stream",
     "text": [
      "SVRG算法——ijcnn1数据集结果:\n"
     ]
    },
    {
     "data": {
      "image/png": "[encoded data removed]",
      "text/plain": [
       "<Figure size 1584x432 with 3 Axes>"
      ]
     },
     "metadata": {
      "needs_background": "light"
     },
     "output_type": "display_data"
    }
   ],
   "source": [
    "num_epochs = 30\n",
    "lamda = 1e-5\n",
    "train_loss_svrg, test_loss, d_norm_svrg = SVRG(train_df_ijcnn1,test_df_ijcnn1,num_epochs,lamda,learning_rate=0.01)\n",
    "print(\"SVRG算法——ijcnn1数据集结果:\")\n",
    "plot_statistic_curves(num_epochs,train_loss_svrg,test_loss,d_norm_svrg,name='ijcnn1_SVRG.png')"
   ]
  },
  {
   "cell_type": "markdown",
   "metadata": {},
   "source": [
    "结果分析：可以看到训练目标函数（loss函数）快速下降并收敛，同时测试集目标函数值也快速下降说明SVRG算法的有效性以及鲁棒性"
   ]
  },
  {
   "cell_type": "markdown",
   "metadata": {},
   "source": [
    "#### SARAH算法"
   ]
  },
  {
   "cell_type": "code",
   "execution_count": 19,
   "metadata": {},
   "outputs": [
    {
     "name": "stderr",
     "output_type": "stream",
     "text": [
      "Epoch Loop: 100%|██████████| 30/30 [01:51<00:00,  3.70s/it, direction_norm_epoch=9.71e-5, test_loss_epoch=0.213, train_loss_epoch=0.185] \n"
     ]
    },
    {
     "name": "stdout",
     "output_type": "stream",
     "text": [
      "SARAH算法——ijcnn1数据集结果:\n"
     ]
    },
    {
     "data": {
      "image/png": "[encoded data removed]",
      "text/plain": [
       "<Figure size 1584x432 with 3 Axes>"
      ]
     },
     "metadata": {
      "needs_background": "light"
     },
     "output_type": "display_data"
    }
   ],
   "source": [
    "num_epochs = 30\n",
    "lamda = 1 / (train_df_ijcnn1.shape[0] + test_df_ijcnn1.shape[0])\n",
    "train_loss_sarah, test_loss, d_norm_sarah = SARAH(train_df_ijcnn1,test_df_ijcnn1,num_epochs,lamda,learning_rate=0.01)\n",
    "print(\"SARAH算法——ijcnn1数据集结果:\")\n",
    "plot_statistic_curves(num_epochs,train_loss_sarah,test_loss,d_norm_sarah,name='ijcnn1_SARAH.png')"
   ]
  },
  {
   "cell_type": "markdown",
   "metadata": {},
   "source": [
    "结果分析：可以看到训练目标函数（loss函数）快速下降并收敛，同时测试集目标函数值也快速下降说明SARAH算法的有效性以及鲁棒性"
   ]
  },
  {
   "cell_type": "markdown",
   "metadata": {},
   "source": [
    "#### ijcnn1数据集上四类算法对比\n",
    "**以下会按照要求，将四类算法的目标函数值与最优目标函数值之差变化曲线与迭代方向模长变化曲线放在一张图中对比！**  "
   ]
  },
  {
   "cell_type": "code",
   "execution_count": 20,
   "metadata": {},
   "outputs": [
    {
     "name": "stderr",
     "output_type": "stream",
     "text": [
      "Epoch Loop: 100%|██████████| 50/50 [01:41<00:00,  2.03s/it, train_loss_epoch=0.185]\n"
     ]
    },
    {
     "name": "stdout",
     "output_type": "stream",
     "text": [
      "得到ijcnn1数据集optimum！！\n",
      "然后画出ijcnn1在4个dataset上的对比图如下：\n"
     ]
    },
    {
     "data": {
      "image/png": "[encoded data removed]",
      "text/plain": [
       "<Figure size 1584x432 with 3 Axes>"
      ]
     },
     "metadata": {
      "needs_background": "light"
     },
     "output_type": "display_data"
    }
   ],
   "source": [
    "def optimum_ijcnn1(train_df,num_epoch,lamda,learning_rate):\n",
    "    w = np.ones(train_df.shape[1]-2) # initialize w\n",
    "    np.random.seed(0)\n",
    "    train_loss = []\n",
    "    with trange(num_epoch, desc='Epoch Loop') as kbar:\n",
    "        for k in kbar:\n",
    "            ########## TRAIN ##########\n",
    "            grad_global_i = 0\n",
    "            train_loss_epoch = 0\n",
    "            for data in train_df.values:\n",
    "                xi, yi = data[2:], data[1]\n",
    "                train_loss_epoch += loss_func_i(xi,yi,w,lamda)\n",
    "                grad_global_i += cal_grad_i(xi,yi,w,lamda)\n",
    "            train_loss_epoch /= train_df.shape[0]\n",
    "            grad_global_i /= train_df.shape[0]\n",
    "            w_last = w\n",
    "            w_now = w - learning_rate * grad_global_i\n",
    "            train_df = train_df.reindex(np.random.permutation(train_df.index)) # random shuffle；m=n\n",
    "            for data in train_df.values:\n",
    "                xi, yi = data[2:], data[1]\n",
    "                grad_global_i = cal_grad_i(xi,yi,w_now,lamda) - cal_grad_i(xi,yi,w_last,lamda) + grad_global_i\n",
    "                w_last = w_now\n",
    "                w_now = w_now - learning_rate * grad_global_i\n",
    "            w = w_now # option I\n",
    "            ########## SUMMARY ##########\n",
    "            train_loss.append(train_loss_epoch)\n",
    "            kbar.set_postfix(train_loss_epoch=train_loss_epoch)\n",
    "    return np.min(train_loss)\n",
    "optimum_ijcnn1 = optimum_ijcnn1(train_df_ijcnn1,50,1/(train_df_ijcnn1.shape[0]+test_df_ijcnn1.shape[0]),learning_rate=0.01)\n",
    "print(\"得到ijcnn1数据集optimum！！\\n然后画出ijcnn1在4个dataset上的对比图如下：\")\n",
    "########## 画图 ##########\n",
    "fig = plt.figure(figsize=(22,6))\n",
    "x_data = range(30)\n",
    "plt.subplot(1,3,1)\n",
    "plt.title('training loss over epochs')\n",
    "plt.plot(x_data, train_loss_sag, label='SAG')\n",
    "plt.plot(x_data, train_loss_saga, label='SAGA')\n",
    "plt.plot(x_data, train_loss_svrg, label='SVRG')\n",
    "plt.plot(x_data, train_loss_sarah, label='SARAH')\n",
    "plt.xlabel('# of epoches')\n",
    "plt.ylabel('training loss')\n",
    "plt.legend()\n",
    "plt.subplot(1,3,2)\n",
    "plt.title('training loss residual over epochs [log scale]')\n",
    "plt.plot(x_data, train_loss_sag - optimum_ijcnn1, label='SAG')\n",
    "plt.plot(x_data, train_loss_saga - optimum_ijcnn1, label='SAGA')\n",
    "plt.plot(x_data, train_loss_svrg - optimum_ijcnn1, label='SVRG')\n",
    "plt.plot(x_data, train_loss_sarah - optimum_ijcnn1, label='SARAH')\n",
    "plt.xlabel('# of epoches')\n",
    "plt.ylabel('training loss residual')\n",
    "plt.yscale(\"log\")\n",
    "plt.legend()\n",
    "plt.subplot(1,3,3)\n",
    "plt.title('direction_norm over epochs [log scale]')\n",
    "plt.plot(x_data, d_norm_sag, label='SAG')\n",
    "plt.plot(x_data, d_norm_saga, label='SAGA')\n",
    "plt.plot(x_data, d_norm_svrg, label='SVRG')\n",
    "plt.plot(x_data, d_norm_sarah, label='SARAH')\n",
    "plt.xlabel('# of epoches')\n",
    "plt.ylabel('direction_norm')\n",
    "plt.yscale(\"log\")\n",
    "plt.legend()\n",
    "fig.savefig('ijcnn1_4comparison.png',dpi=600,format='png',bbox_inches='tight')"
   ]
  },
  {
   "cell_type": "markdown",
   "metadata": {},
   "source": [
    "#### 结果分析：\n",
    "1、\t首先可以看到四个算法在两个数据集上训练目标函数（loss函数）都快速下降并且收敛到差不多的数值。  \n",
    "2、\t**SAG算法的迭代方向模长比其他三个算法都高**：观察两个数据集迭代方向模长变化曲线不难发现SAG算法的曲线（蓝色）一枝独秀，比其他都大！这是为什么呢？原因很简单，**因为我这里SAG算法的迭代方向模长是取的全样本的梯度（没有除以总样本数n）**，因此跟其他三个算法是不可比的（其他三个算法都是样本平均梯度作为迭代方向），所以不必奇怪，**其实迭代方向本身也并非一个精确的概念（需要配合步长），因而将这里SAG的迭代方向模长除以样本数n也是可以的，那样的话就和其他三者差不多了**，这里我为了引出这个说明才专门按全梯度设计的。  \n",
    "3、\t**SAGA算法会比SAG算法有更快的线性收敛速度**：观察两个数据集的目标函数值与最优目标函数值之差的变化曲线，对比SAGA算法（黄线）之于SAG算法（蓝线），可以看到黄线一直在蓝线的下方，说明SAGA算法比SAG算法有更快的收敛速度，SAGA这样计算单个样本梯度的方式对参数更新的影响更大，证实SAGA的改进是有效的。  \n",
    "4、\t**SAGA算法会比SVRG算法有更快的线性收敛速度**：同样还是观察两个数据集的目标函数值与最优目标函数值之差的变化曲线，对比SAGA算法（黄线）之于SVRG算法（绿线），可以看到绿线在蓝线的下方，说明SAGA算法比SVRG算法有更快的收敛速度。  \n",
    "5、\t**SVRG算法在固定学习率下便可取得较快的收敛速度**：不难发现这里SVRG算法在两个数据集上收敛速度以及收敛结果表现都比较优异，其实除了算法本身还有一方面原因来自于我具体的实现细节，我实现时（详见源代码），四个算法都是用的固定学习率进行优化，因此其他三个算法可能由于固定学习率的关系外加我并没有刻意去调参（其实仔细考虑的话可能还有来自数据集的影响，w8a训练集样本类别分布极其不均衡，基本都是负类，极其少一部分是正类），故而没有达到真正意义上的最优，不过这也另一方面佐证了结论：SVRG算法在固定学习率下的确能取得较快的收敛速度。  \n",
    "6、\t**SARAH对于强凸的目标函数也是线性收敛的，只是收敛速度要慢于SVRG算法**：同样还是观察两个数据集的目标函数值与最优目标函数值之差的变化曲线，对比SARAH算法（红线）之于SVRG算法（绿线），ijcnn1数据集的结果中可以看到SARAH效果优于SVRG，说明优化还是有一定的效果，同时从w8a数据集的结果可以看到SARAH收敛速度略慢于SVRG。"
   ]
  }
 ],
 "metadata": {
  "kernelspec": {
   "display_name": "py37tf114",
   "language": "python",
   "name": "py37tf114"
  },
  "language_info": {
   "codemirror_mode": {
    "name": "ipython",
    "version": 3
   },
   "file_extension": ".py",
   "mimetype": "text/x-python",
   "name": "python",
   "nbconvert_exporter": "python",
   "pygments_lexer": "ipython3",
   "version": "3.7.5"
  },
  "widgets": {
   "application/vnd.jupyter.widget-state+json": {
    "state": {
     "0032b3cf18904f1a883faf2453991993": {
      "model_module": "@jupyter-widgets/base",
      "model_module_version": "1.2.0",
      "model_name": "LayoutModel",
      "state": {
       "_model_module_version": "1.2.0",
       "_view_module_version": "1.2.0",
       "justify_items": null,
       "object_fit": null,
       "object_position": null
      }
     },
     "007b5dc8e6c64d7fb41b4d0ab4d880c6": {
      "model_module": "@jupyter-widgets/controls",
      "model_module_version": "1.5.0",
      "model_name": "FloatProgressModel",
      "state": {
       "_model_module_version": "1.5.0",
       "_view_module_version": "1.5.0",
       "bar_style": "success",
       "description": "Epoch Loop: 100%",
       "layout": "IPY_MODEL_79ef9ef870d74f79a3af1ba19e05250f",
       "max": 15,
       "style": "IPY_MODEL_d16fdbf186d34924af4ca06db7c57bc9",
       "value": 15
      }
     },
     "0242487a058a4369a8baa2ff8accf360": {
      "model_module": "@jupyter-widgets/base",
      "model_module_version": "1.2.0",
      "model_name": "LayoutModel",
      "state": {
       "_model_module_version": "1.2.0",
       "_view_module_version": "1.2.0",
       "justify_items": null,
       "object_fit": null,
       "object_position": null
      }
     },
     "0319ef1360114d5fbe2f91b86fa3e1dd": {
      "model_module": "@jupyter-widgets/base",
      "model_module_version": "1.2.0",
      "model_name": "LayoutModel",
      "state": {
       "_model_module_version": "1.2.0",
       "_view_module_version": "1.2.0",
       "justify_items": null,
       "object_fit": null,
       "object_position": null
      }
     },
     "04326f055ddd4b6c882459e5974546d8": {
      "model_module": "@jupyter-widgets/controls",
      "model_module_version": "1.5.0",
      "model_name": "HBoxModel",
      "state": {
       "_model_module_version": "1.5.0",
       "_view_module_version": "1.5.0",
       "children": [
        "IPY_MODEL_ad164bc198c24a4da9b01d444abb77b2",
        "IPY_MODEL_c6e6a3f81b4c45ad8504b44bca6c80cb"
       ],
       "layout": "IPY_MODEL_11550c0f3c784dceb4eaf5ea08ad1d16"
      }
     },
     "04b6d978dc7e46c2bb74969c174de762": {
      "model_module": "@jupyter-widgets/base",
      "model_module_version": "1.2.0",
      "model_name": "LayoutModel",
      "state": {
       "_model_module_version": "1.2.0",
       "_view_module_version": "1.2.0",
       "justify_items": null,
       "object_fit": null,
       "object_position": null
      }
     },
     "05c331b69a6c4a86b5544b24acc0e4df": {
      "model_module": "@jupyter-widgets/controls",
      "model_module_version": "1.5.0",
      "model_name": "DescriptionStyleModel",
      "state": {
       "_model_module_version": "1.5.0",
       "_view_module_version": "1.2.0",
       "description_width": ""
      }
     },
     "0688b89a111f4bf3936838f97036e3f0": {
      "model_module": "@jupyter-widgets/controls",
      "model_module_version": "1.5.0",
      "model_name": "FloatProgressModel",
      "state": {
       "_model_module_version": "1.5.0",
       "_view_module_version": "1.5.0",
       "bar_style": "success",
       "description": "1st loop(Epoch): 100%",
       "layout": "IPY_MODEL_e40dd628091c4eefabc9f3142883b8bb",
       "max": 5,
       "style": "IPY_MODEL_9ff17c2544fa4df2ade5a4b8f3f4d97a",
       "value": 5
      }
     },
     "06a5f7babafe4deb93b616cada4fd4d8": {
      "model_module": "@jupyter-widgets/base",
      "model_module_version": "1.2.0",
      "model_name": "LayoutModel",
      "state": {
       "_model_module_version": "1.2.0",
       "_view_module_version": "1.2.0",
       "justify_items": null,
       "object_fit": null,
       "object_position": null
      }
     },
     "07f7329eef5f4045a486054f64242685": {
      "model_module": "@jupyter-widgets/base",
      "model_module_version": "1.2.0",
      "model_name": "LayoutModel",
      "state": {
       "_model_module_version": "1.2.0",
       "_view_module_version": "1.2.0",
       "justify_items": null,
       "object_fit": null,
       "object_position": null
      }
     },
     "096094442d7d4c80bad916459003542b": {
      "model_module": "@jupyter-widgets/controls",
      "model_module_version": "1.5.0",
      "model_name": "FloatProgressModel",
      "state": {
       "_model_module_version": "1.5.0",
       "_view_module_version": "1.5.0",
       "bar_style": "success",
       "description": "1st loop(Epoch): 100%",
       "layout": "IPY_MODEL_7a46e4780abb4197ac71208519dc144d",
       "max": 5,
       "style": "IPY_MODEL_2573ddc1c8c64b2fab2a03ad23166118",
       "value": 5
      }
     },
     "09677983351948289b0c0fb404e3e82b": {
      "model_module": "@jupyter-widgets/base",
      "model_module_version": "1.2.0",
      "model_name": "LayoutModel",
      "state": {
       "_model_module_version": "1.2.0",
       "_view_module_version": "1.2.0",
       "justify_items": null,
       "object_fit": null,
       "object_position": null
      }
     },
     "09879332bb5648dc82d20bcfb2511cf8": {
      "model_module": "@jupyter-widgets/controls",
      "model_module_version": "1.5.0",
      "model_name": "HBoxModel",
      "state": {
       "_model_module_version": "1.5.0",
       "_view_module_version": "1.5.0",
       "children": [
        "IPY_MODEL_3823a659c7af434a8102982dcccde652",
        "IPY_MODEL_9b554eb9f5de494ab0de5f48ae27c455"
       ],
       "layout": "IPY_MODEL_631ab443bc534daf8b228503b021b4d2"
      }
     },
     "0b55e466e3f84bcbb48d448be2cfbd13": {
      "model_module": "@jupyter-widgets/controls",
      "model_module_version": "1.5.0",
      "model_name": "FloatProgressModel",
      "state": {
       "_model_module_version": "1.5.0",
       "_view_module_version": "1.5.0",
       "bar_style": "success",
       "description": "Epoch Loop: 100%",
       "layout": "IPY_MODEL_6cb31729a053487f91995311c9eed93b",
       "max": 15,
       "style": "IPY_MODEL_1a3e4e51c53b4edfb0d1ab8ee3b2a069",
       "value": 15
      }
     },
     "0c32455477864e5d82f4add32e08d4d9": {
      "model_module": "@jupyter-widgets/base",
      "model_module_version": "1.2.0",
      "model_name": "LayoutModel",
      "state": {
       "_model_module_version": "1.2.0",
       "_view_module_version": "1.2.0",
       "justify_items": null,
       "object_fit": null,
       "object_position": null
      }
     },
     "0ccb7503a73d415dbee9aec33114b742": {
      "model_module": "@jupyter-widgets/controls",
      "model_module_version": "1.5.0",
      "model_name": "HBoxModel",
      "state": {
       "_model_module_version": "1.5.0",
       "_view_module_version": "1.5.0",
       "children": [
        "IPY_MODEL_77d3392184ea4158b35b884ecfc52ce4",
        "IPY_MODEL_d3e77c5e7b554edbbd682f373929e81c"
       ],
       "layout": "IPY_MODEL_54d62d6cc7074805b2606bd5c960f023"
      }
     },
     "0cf5352c6428479ea1377ce43a06c76a": {
      "model_module": "@jupyter-widgets/base",
      "model_module_version": "1.2.0",
      "model_name": "LayoutModel",
      "state": {
       "_model_module_version": "1.2.0",
       "_view_module_version": "1.2.0",
       "justify_items": null,
       "object_fit": null,
       "object_position": null
      }
     },
     "0df06dbc1d544bad867f677df967b40d": {
      "model_module": "@jupyter-widgets/controls",
      "model_module_version": "1.5.0",
      "model_name": "ProgressStyleModel",
      "state": {
       "_model_module_version": "1.5.0",
       "_view_module_version": "1.2.0",
       "description_width": "initial"
      }
     },
     "0ec6ff494b8b49bd8db804568c60cb04": {
      "model_module": "@jupyter-widgets/controls",
      "model_module_version": "1.5.0",
      "model_name": "ProgressStyleModel",
      "state": {
       "_model_module_version": "1.5.0",
       "_view_module_version": "1.2.0",
       "description_width": "initial"
      }
     },
     "0f286779b2194cf58082759153d12206": {
      "model_module": "@jupyter-widgets/controls",
      "model_module_version": "1.5.0",
      "model_name": "HBoxModel",
      "state": {
       "_model_module_version": "1.5.0",
       "_view_module_version": "1.5.0",
       "children": [
        "IPY_MODEL_ab22860528ee453eade95e2d8c1e4e34",
        "IPY_MODEL_281dcd0ea2414ebcb73c6ef424bb5194"
       ],
       "layout": "IPY_MODEL_14733c79eafe45b2b7b4fce78163f496"
      }
     },
     "0fa22575243644c5aec5232de7951499": {
      "model_module": "@jupyter-widgets/controls",
      "model_module_version": "1.5.0",
      "model_name": "HBoxModel",
      "state": {
       "_model_module_version": "1.5.0",
       "_view_module_version": "1.5.0",
       "children": [
        "IPY_MODEL_3cf8cdbe474549ef86a4d508749cf570",
        "IPY_MODEL_1ed242eff20a440cb0504ce819aae099"
       ],
       "layout": "IPY_MODEL_34458ae7dd784f2ba61860af9161fcdc"
      }
     },
     "10bf5596db4d4b5fa09813eb71b1eb8a": {
      "model_module": "@jupyter-widgets/controls",
      "model_module_version": "1.5.0",
      "model_name": "HTMLModel",
      "state": {
       "_model_module_version": "1.5.0",
       "_view_module_version": "1.5.0",
       "layout": "IPY_MODEL_14ac97349069429bab2c0fd697be1b25",
       "style": "IPY_MODEL_375e780ab5474edca9ccd08c3c7b4079",
       "value": " 15/15 [03:55&lt;00:00, 15.67s/it, test_error_epoch=0.244, test_loss_epoch=0.517, train_loss_epoch=0.52]"
      }
     },
     "11550c0f3c784dceb4eaf5ea08ad1d16": {
      "model_module": "@jupyter-widgets/base",
      "model_module_version": "1.2.0",
      "model_name": "LayoutModel",
      "state": {
       "_model_module_version": "1.2.0",
       "_view_module_version": "1.2.0",
       "justify_items": null,
       "object_fit": null,
       "object_position": null
      }
     },
     "1204460c407942c2ab7e3766d026e085": {
      "model_module": "@jupyter-widgets/base",
      "model_module_version": "1.2.0",
      "model_name": "LayoutModel",
      "state": {
       "_model_module_version": "1.2.0",
       "_view_module_version": "1.2.0",
       "justify_items": null,
       "object_fit": null,
       "object_position": null
      }
     },
     "12121b6e13d34739aa5048c71f6f4cf2": {
      "model_module": "@jupyter-widgets/controls",
      "model_module_version": "1.5.0",
      "model_name": "HBoxModel",
      "state": {
       "_model_module_version": "1.5.0",
       "_view_module_version": "1.5.0",
       "children": [
        "IPY_MODEL_992aeb3db38940ef87d472f195d34258",
        "IPY_MODEL_9c5850e4022844a6b061c459c3c66beb"
       ],
       "layout": "IPY_MODEL_9f1792dea3474f31b5eee37c9d340aca"
      }
     },
     "12f1774e21a4489e949b1c0b7d09fe5a": {
      "model_module": "@jupyter-widgets/controls",
      "model_module_version": "1.5.0",
      "model_name": "DescriptionStyleModel",
      "state": {
       "_model_module_version": "1.5.0",
       "_view_module_version": "1.2.0",
       "description_width": ""
      }
     },
     "13e719d98aa541e8b806547fe850eec1": {
      "model_module": "@jupyter-widgets/controls",
      "model_module_version": "1.5.0",
      "model_name": "FloatProgressModel",
      "state": {
       "_model_module_version": "1.5.0",
       "_view_module_version": "1.5.0",
       "bar_style": "success",
       "description": "Epoch Loop: 100%",
       "layout": "IPY_MODEL_f682e763be034c52b34f30f9cddf9dc3",
       "max": 15,
       "style": "IPY_MODEL_ed3461bcd88542d197f460f974e98f33",
       "value": 15
      }
     },
     "140b12b0748f4826bfe1254653a34ed4": {
      "model_module": "@jupyter-widgets/controls",
      "model_module_version": "1.5.0",
      "model_name": "FloatProgressModel",
      "state": {
       "_model_module_version": "1.5.0",
       "_view_module_version": "1.5.0",
       "bar_style": "danger",
       "description": "Epoch Loop:   0%",
       "layout": "IPY_MODEL_29f8edc9e5a64f95999303b8a6c9b2f7",
       "max": 15,
       "style": "IPY_MODEL_5d2747eed78c452b99f435cf900947c1"
      }
     },
     "1455b3e470ab4ecaac21eb54bc68a6a0": {
      "model_module": "@jupyter-widgets/controls",
      "model_module_version": "1.5.0",
      "model_name": "HBoxModel",
      "state": {
       "_model_module_version": "1.5.0",
       "_view_module_version": "1.5.0",
       "children": [
        "IPY_MODEL_140b12b0748f4826bfe1254653a34ed4",
        "IPY_MODEL_400190a1b9ac4e0199c51946daaaf277"
       ],
       "layout": "IPY_MODEL_54a38ee05b3b446f9ad84a6b243bf3b1"
      }
     },
     "1464c6276f464a8697d7c8e4b5bb460c": {
      "model_module": "@jupyter-widgets/controls",
      "model_module_version": "1.5.0",
      "model_name": "DescriptionStyleModel",
      "state": {
       "_model_module_version": "1.5.0",
       "_view_module_version": "1.2.0",
       "description_width": ""
      }
     },
     "14733c79eafe45b2b7b4fce78163f496": {
      "model_module": "@jupyter-widgets/base",
      "model_module_version": "1.2.0",
      "model_name": "LayoutModel",
      "state": {
       "_model_module_version": "1.2.0",
       "_view_module_version": "1.2.0",
       "justify_items": null,
       "object_fit": null,
       "object_position": null
      }
     },
     "14ac97349069429bab2c0fd697be1b25": {
      "model_module": "@jupyter-widgets/base",
      "model_module_version": "1.2.0",
      "model_name": "LayoutModel",
      "state": {
       "_model_module_version": "1.2.0",
       "_view_module_version": "1.2.0",
       "justify_items": null,
       "object_fit": null,
       "object_position": null
      }
     },
     "14e428d68e9c48b0abfde9252d065764": {
      "model_module": "@jupyter-widgets/controls",
      "model_module_version": "1.5.0",
      "model_name": "HTMLModel",
      "state": {
       "_model_module_version": "1.5.0",
       "_view_module_version": "1.5.0",
       "layout": "IPY_MODEL_de0f02bd4f254c3c906ac6467ab48416",
       "style": "IPY_MODEL_22b23bdb0a7f48baa674d4e5b9c07d92",
       "value": " 5/5 [05:05&lt;00:00, 61.03s/it, test_error_epoch=0.0542, test_loss_epoch=0.297, train_loss_epoch=0.262]"
      }
     },
     "14ed10fab1c94e40a290f7b25ad068c3": {
      "model_module": "@jupyter-widgets/base",
      "model_module_version": "1.2.0",
      "model_name": "LayoutModel",
      "state": {
       "_model_module_version": "1.2.0",
       "_view_module_version": "1.2.0",
       "justify_items": null,
       "object_fit": null,
       "object_position": null
      }
     },
     "159df92e536a478e97b0c3cf15cd698f": {
      "model_module": "@jupyter-widgets/base",
      "model_module_version": "1.2.0",
      "model_name": "LayoutModel",
      "state": {
       "_model_module_version": "1.2.0",
       "_view_module_version": "1.2.0",
       "justify_items": null,
       "object_fit": null,
       "object_position": null
      }
     },
     "15f4653317b74402b5b71b0aa4b5361e": {
      "model_module": "@jupyter-widgets/base",
      "model_module_version": "1.2.0",
      "model_name": "LayoutModel",
      "state": {
       "_model_module_version": "1.2.0",
       "_view_module_version": "1.2.0",
       "justify_items": null,
       "object_fit": null,
       "object_position": null
      }
     },
     "1639f390eb9240268ed1951f1445934f": {
      "model_module": "@jupyter-widgets/controls",
      "model_module_version": "1.5.0",
      "model_name": "HBoxModel",
      "state": {
       "_model_module_version": "1.5.0",
       "_view_module_version": "1.5.0",
       "children": [
        "IPY_MODEL_dee13f99ab9b4840b5f8d08d439fdda8",
        "IPY_MODEL_14e428d68e9c48b0abfde9252d065764"
       ],
       "layout": "IPY_MODEL_91193805389442a88f50423041308234"
      }
     },
     "16f0c85dff8748729b8a113ddcdd17bd": {
      "model_module": "@jupyter-widgets/base",
      "model_module_version": "1.2.0",
      "model_name": "LayoutModel",
      "state": {
       "_model_module_version": "1.2.0",
       "_view_module_version": "1.2.0",
       "justify_items": null,
       "object_fit": null,
       "object_position": null
      }
     },
     "17909266058642779420bd0802ef197e": {
      "model_module": "@jupyter-widgets/controls",
      "model_module_version": "1.5.0",
      "model_name": "ProgressStyleModel",
      "state": {
       "_model_module_version": "1.5.0",
       "_view_module_version": "1.2.0",
       "description_width": "initial"
      }
     },
     "17b04aaf80ae4949aca38fa1817352e1": {
      "model_module": "@jupyter-widgets/controls",
      "model_module_version": "1.5.0",
      "model_name": "FloatProgressModel",
      "state": {
       "_model_module_version": "1.5.0",
       "_view_module_version": "1.5.0",
       "bar_style": "success",
       "description": "Epoch Loop: 100%",
       "layout": "IPY_MODEL_04b6d978dc7e46c2bb74969c174de762",
       "max": 15,
       "style": "IPY_MODEL_0ec6ff494b8b49bd8db804568c60cb04",
       "value": 15
      }
     },
     "189177f8ff124b478c4f9caad5d05a5d": {
      "model_module": "@jupyter-widgets/controls",
      "model_module_version": "1.5.0",
      "model_name": "HBoxModel",
      "state": {
       "_model_module_version": "1.5.0",
       "_view_module_version": "1.5.0",
       "children": [
        "IPY_MODEL_007b5dc8e6c64d7fb41b4d0ab4d880c6",
        "IPY_MODEL_ef90ac72449249e492236552c7d9d121"
       ],
       "layout": "IPY_MODEL_82407cc01a9c41c9a64922830321a43b"
      }
     },
     "1a3e4e51c53b4edfb0d1ab8ee3b2a069": {
      "model_module": "@jupyter-widgets/controls",
      "model_module_version": "1.5.0",
      "model_name": "ProgressStyleModel",
      "state": {
       "_model_module_version": "1.5.0",
       "_view_module_version": "1.2.0",
       "description_width": "initial"
      }
     },
     "1aa38aa64b0c41d3bd055016d05209fb": {
      "model_module": "@jupyter-widgets/base",
      "model_module_version": "1.2.0",
      "model_name": "LayoutModel",
      "state": {
       "_model_module_version": "1.2.0",
       "_view_module_version": "1.2.0",
       "justify_items": null,
       "object_fit": null,
       "object_position": null
      }
     },
     "1b0d2df899684b8fb3a79ec2cba282e6": {
      "model_module": "@jupyter-widgets/controls",
      "model_module_version": "1.5.0",
      "model_name": "FloatProgressModel",
      "state": {
       "_model_module_version": "1.5.0",
       "_view_module_version": "1.5.0",
       "description": "Epoch Loop:   0%",
       "layout": "IPY_MODEL_cbe308240f0d43c99277711da9a97aae",
       "max": 5,
       "style": "IPY_MODEL_fdd45963edff441cbf4c96e90e7ce463"
      }
     },
     "1d23fa4814a54a4f8349aeaa3d962ee4": {
      "model_module": "@jupyter-widgets/controls",
      "model_module_version": "1.5.0",
      "model_name": "HTMLModel",
      "state": {
       "_model_module_version": "1.5.0",
       "_view_module_version": "1.5.0",
       "layout": "IPY_MODEL_63da84d9eb2146fb81475f9523300666",
       "style": "IPY_MODEL_508fd029ddf24b9ca80f49a24ce99b6d",
       "value": " 20/20 [07:25&lt;00:00, 22.27s/it, test_error_epoch=0.0401, test_loss_epoch=0.238, train_loss_epoch=0.2]"
      }
     },
     "1ed242eff20a440cb0504ce819aae099": {
      "model_module": "@jupyter-widgets/controls",
      "model_module_version": "1.5.0",
      "model_name": "HTMLModel",
      "state": {
       "_model_module_version": "1.5.0",
       "_view_module_version": "1.5.0",
       "layout": "IPY_MODEL_545962a5230c4b359e3f2a404e730aea",
       "style": "IPY_MODEL_6c4737ee63874e15b3b9dcec8a5ec087",
       "value": " 0/5 [06:23&lt;?, ?it/s]"
      }
     },
     "1eedf73fc2434b64b49dae932308c9ea": {
      "model_module": "@jupyter-widgets/base",
      "model_module_version": "1.2.0",
      "model_name": "LayoutModel",
      "state": {
       "_model_module_version": "1.2.0",
       "_view_module_version": "1.2.0",
       "justify_items": null,
       "object_fit": null,
       "object_position": null
      }
     },
     "1ef3d7122d2d4bcfa0600398613a2fe5": {
      "model_module": "@jupyter-widgets/base",
      "model_module_version": "1.2.0",
      "model_name": "LayoutModel",
      "state": {
       "_model_module_version": "1.2.0",
       "_view_module_version": "1.2.0",
       "justify_items": null,
       "object_fit": null,
       "object_position": null
      }
     },
     "20fc614c5e9243d28341966a844a8460": {
      "model_module": "@jupyter-widgets/controls",
      "model_module_version": "1.5.0",
      "model_name": "FloatProgressModel",
      "state": {
       "_model_module_version": "1.5.0",
       "_view_module_version": "1.5.0",
       "bar_style": "success",
       "description": "Epoch Loop: 100%",
       "layout": "IPY_MODEL_62368d8ee3014e81afb07eb78812c207",
       "max": 5,
       "style": "IPY_MODEL_bef657196b9e4f49a4bdc3503cda3057",
       "value": 5
      }
     },
     "21192479906b466cbb4ac5692bf11344": {
      "model_module": "@jupyter-widgets/controls",
      "model_module_version": "1.5.0",
      "model_name": "HBoxModel",
      "state": {
       "_model_module_version": "1.5.0",
       "_view_module_version": "1.5.0",
       "children": [
        "IPY_MODEL_83510470d1d643baa70215ab0658f306",
        "IPY_MODEL_6b6c636a9fdf4e8890f6267ec6b746f6"
       ],
       "layout": "IPY_MODEL_0cf5352c6428479ea1377ce43a06c76a"
      }
     },
     "227f5a1022db4483ab1873e837347e26": {
      "model_module": "@jupyter-widgets/base",
      "model_module_version": "1.2.0",
      "model_name": "LayoutModel",
      "state": {
       "_model_module_version": "1.2.0",
       "_view_module_version": "1.2.0",
       "justify_items": null,
       "object_fit": null,
       "object_position": null
      }
     },
     "22b23bdb0a7f48baa674d4e5b9c07d92": {
      "model_module": "@jupyter-widgets/controls",
      "model_module_version": "1.5.0",
      "model_name": "DescriptionStyleModel",
      "state": {
       "_model_module_version": "1.5.0",
       "_view_module_version": "1.2.0",
       "description_width": ""
      }
     },
     "2462811dec364c70a70488db023ddddc": {
      "model_module": "@jupyter-widgets/base",
      "model_module_version": "1.2.0",
      "model_name": "LayoutModel",
      "state": {
       "_model_module_version": "1.2.0",
       "_view_module_version": "1.2.0",
       "justify_items": null,
       "object_fit": null,
       "object_position": null
      }
     },
     "24bcaf3430404606aa7e6ec12c446cea": {
      "model_module": "@jupyter-widgets/controls",
      "model_module_version": "1.5.0",
      "model_name": "FloatProgressModel",
      "state": {
       "_model_module_version": "1.5.0",
       "_view_module_version": "1.5.0",
       "bar_style": "success",
       "description": "Epoch Loop: 100%",
       "layout": "IPY_MODEL_c5bca2694fa24d7ca5f41e7ecc3f9d72",
       "max": 5,
       "style": "IPY_MODEL_340cc55915254d2486739ed93b412f28",
       "value": 5
      }
     },
     "2573ddc1c8c64b2fab2a03ad23166118": {
      "model_module": "@jupyter-widgets/controls",
      "model_module_version": "1.5.0",
      "model_name": "ProgressStyleModel",
      "state": {
       "_model_module_version": "1.5.0",
       "_view_module_version": "1.2.0",
       "description_width": "initial"
      }
     },
     "27e13a3ced684780bd4cd64985da67a0": {
      "model_module": "@jupyter-widgets/controls",
      "model_module_version": "1.5.0",
      "model_name": "DescriptionStyleModel",
      "state": {
       "_model_module_version": "1.5.0",
       "_view_module_version": "1.2.0",
       "description_width": ""
      }
     },
     "281dcd0ea2414ebcb73c6ef424bb5194": {
      "model_module": "@jupyter-widgets/controls",
      "model_module_version": "1.5.0",
      "model_name": "HTMLModel",
      "state": {
       "_model_module_version": "1.5.0",
       "_view_module_version": "1.5.0",
       "layout": "IPY_MODEL_ffc8586a47c4415eb85730f6e88f9b2f",
       "style": "IPY_MODEL_05c331b69a6c4a86b5544b24acc0e4df",
       "value": " 2/15 [01:15&lt;08:12, 37.86s/it, test_error_epoch=0.0973, test_loss_epoch=1.12, train_loss_epoch=2.18]"
      }
     },
     "29f8edc9e5a64f95999303b8a6c9b2f7": {
      "model_module": "@jupyter-widgets/base",
      "model_module_version": "1.2.0",
      "model_name": "LayoutModel",
      "state": {
       "_model_module_version": "1.2.0",
       "_view_module_version": "1.2.0",
       "justify_items": null,
       "object_fit": null,
       "object_position": null
      }
     },
     "2a23529f81c14140bd0720e2f854f0e1": {
      "model_module": "@jupyter-widgets/base",
      "model_module_version": "1.2.0",
      "model_name": "LayoutModel",
      "state": {
       "_model_module_version": "1.2.0",
       "_view_module_version": "1.2.0",
       "justify_items": null,
       "object_fit": null,
       "object_position": null
      }
     },
     "2a31d73e58004a258ca1b992a5ab0cd6": {
      "model_module": "@jupyter-widgets/base",
      "model_module_version": "1.2.0",
      "model_name": "LayoutModel",
      "state": {
       "_model_module_version": "1.2.0",
       "_view_module_version": "1.2.0",
       "justify_items": null,
       "object_fit": null,
       "object_position": null
      }
     },
     "2c82e48ef0754fa4a28264038821f1a3": {
      "model_module": "@jupyter-widgets/controls",
      "model_module_version": "1.5.0",
      "model_name": "HTMLModel",
      "state": {
       "_model_module_version": "1.5.0",
       "_view_module_version": "1.5.0",
       "layout": "IPY_MODEL_59e4e812988541128258c0ecf84e7060",
       "style": "IPY_MODEL_e6205e56e48c4ffeb6c82502cf8969ba",
       "value": " 15/15 [03:48&lt;00:00, 15.24s/it, test_error_epoch=0.243, test_loss_epoch=0.514, train_loss_epoch=0.517]"
      }
     },
     "2e8282012ee74f1aad4b334a5229478c": {
      "model_module": "@jupyter-widgets/base",
      "model_module_version": "1.2.0",
      "model_name": "LayoutModel",
      "state": {
       "_model_module_version": "1.2.0",
       "_view_module_version": "1.2.0",
       "justify_items": null,
       "object_fit": null,
       "object_position": null
      }
     },
     "2f2aa813918646d59902c748a552a44a": {
      "model_module": "@jupyter-widgets/controls",
      "model_module_version": "1.5.0",
      "model_name": "HBoxModel",
      "state": {
       "_model_module_version": "1.5.0",
       "_view_module_version": "1.5.0",
       "children": [
        "IPY_MODEL_f5f03553eef34e96830e8fd75030ac91",
        "IPY_MODEL_c80fe4955465451a87876659dbfceb17"
       ],
       "layout": "IPY_MODEL_0319ef1360114d5fbe2f91b86fa3e1dd"
      }
     },
     "3083557064544578b508474989c4ea51": {
      "model_module": "@jupyter-widgets/controls",
      "model_module_version": "1.5.0",
      "model_name": "DescriptionStyleModel",
      "state": {
       "_model_module_version": "1.5.0",
       "_view_module_version": "1.2.0",
       "description_width": ""
      }
     },
     "322165f9784c4d3fa3013cc23228a68c": {
      "model_module": "@jupyter-widgets/controls",
      "model_module_version": "1.5.0",
      "model_name": "DescriptionStyleModel",
      "state": {
       "_model_module_version": "1.5.0",
       "_view_module_version": "1.2.0",
       "description_width": ""
      }
     },
     "340cc55915254d2486739ed93b412f28": {
      "model_module": "@jupyter-widgets/controls",
      "model_module_version": "1.5.0",
      "model_name": "ProgressStyleModel",
      "state": {
       "_model_module_version": "1.5.0",
       "_view_module_version": "1.2.0",
       "description_width": "initial"
      }
     },
     "3422479d758d4afdaf85b33b7501fd0b": {
      "model_module": "@jupyter-widgets/controls",
      "model_module_version": "1.5.0",
      "model_name": "DescriptionStyleModel",
      "state": {
       "_model_module_version": "1.5.0",
       "_view_module_version": "1.2.0",
       "description_width": ""
      }
     },
     "34458ae7dd784f2ba61860af9161fcdc": {
      "model_module": "@jupyter-widgets/base",
      "model_module_version": "1.2.0",
      "model_name": "LayoutModel",
      "state": {
       "_model_module_version": "1.2.0",
       "_view_module_version": "1.2.0",
       "justify_items": null,
       "object_fit": null,
       "object_position": null
      }
     },
     "3557bbf95c5c4f418076b9f7e391e3aa": {
      "model_module": "@jupyter-widgets/controls",
      "model_module_version": "1.5.0",
      "model_name": "FloatProgressModel",
      "state": {
       "_model_module_version": "1.5.0",
       "_view_module_version": "1.5.0",
       "bar_style": "success",
       "description": "Epoch Loop: 100%",
       "layout": "IPY_MODEL_663528c1091146fb8aaa7ec91bd4d88a",
       "max": 15,
       "style": "IPY_MODEL_aaaa15c66e5441afac997d46f0ed25ce",
       "value": 15
      }
     },
     "3584b40e3a4b41ae94ce073bfab6d82e": {
      "model_module": "@jupyter-widgets/base",
      "model_module_version": "1.2.0",
      "model_name": "LayoutModel",
      "state": {
       "_model_module_version": "1.2.0",
       "_view_module_version": "1.2.0",
       "justify_items": null,
       "object_fit": null,
       "object_position": null
      }
     },
     "375e780ab5474edca9ccd08c3c7b4079": {
      "model_module": "@jupyter-widgets/controls",
      "model_module_version": "1.5.0",
      "model_name": "DescriptionStyleModel",
      "state": {
       "_model_module_version": "1.5.0",
       "_view_module_version": "1.2.0",
       "description_width": ""
      }
     },
     "377e8b1eb7ee4f8d8e003199485906f0": {
      "model_module": "@jupyter-widgets/controls",
      "model_module_version": "1.5.0",
      "model_name": "ProgressStyleModel",
      "state": {
       "_model_module_version": "1.5.0",
       "_view_module_version": "1.2.0",
       "description_width": "initial"
      }
     },
     "3804e0a7a9c94352baf49799aa389ab4": {
      "model_module": "@jupyter-widgets/controls",
      "model_module_version": "1.5.0",
      "model_name": "ProgressStyleModel",
      "state": {
       "_model_module_version": "1.5.0",
       "_view_module_version": "1.2.0",
       "description_width": "initial"
      }
     },
     "3823a659c7af434a8102982dcccde652": {
      "model_module": "@jupyter-widgets/controls",
      "model_module_version": "1.5.0",
      "model_name": "FloatProgressModel",
      "state": {
       "_model_module_version": "1.5.0",
       "_view_module_version": "1.5.0",
       "bar_style": "success",
       "description": "Epoch Loop: 100%",
       "layout": "IPY_MODEL_3b0f9725feb84e6da3ec2918e7f6e21b",
       "max": 20,
       "style": "IPY_MODEL_d77cc53482b843eea8b79681ac54a864",
       "value": 20
      }
     },
     "39633ac3dde3495fa6b624139c3eee32": {
      "model_module": "@jupyter-widgets/base",
      "model_module_version": "1.2.0",
      "model_name": "LayoutModel",
      "state": {
       "_model_module_version": "1.2.0",
       "_view_module_version": "1.2.0",
       "justify_items": null,
       "object_fit": null,
       "object_position": null
      }
     },
     "3981519e2c1f4751870635a3b491cdd7": {
      "model_module": "@jupyter-widgets/controls",
      "model_module_version": "1.5.0",
      "model_name": "HBoxModel",
      "state": {
       "_model_module_version": "1.5.0",
       "_view_module_version": "1.5.0",
       "children": [
        "IPY_MODEL_e275720c0ece40ce9b8d181d49ed75f4",
        "IPY_MODEL_415e7aebc1074dac97b7c42add4f101b"
       ],
       "layout": "IPY_MODEL_ecb8289a60174e58b63f2f9e5318017f"
      }
     },
     "3a781c64b2c1477fae25e4a9164f5114": {
      "model_module": "@jupyter-widgets/controls",
      "model_module_version": "1.5.0",
      "model_name": "ProgressStyleModel",
      "state": {
       "_model_module_version": "1.5.0",
       "_view_module_version": "1.2.0",
       "description_width": "initial"
      }
     },
     "3ab0a733f29149c38c64689a8e6ae7bb": {
      "model_module": "@jupyter-widgets/controls",
      "model_module_version": "1.5.0",
      "model_name": "DescriptionStyleModel",
      "state": {
       "_model_module_version": "1.5.0",
       "_view_module_version": "1.2.0",
       "description_width": ""
      }
     },
     "3ac744b1353f4dd5952621fefc35b4d1": {
      "model_module": "@jupyter-widgets/controls",
      "model_module_version": "1.5.0",
      "model_name": "FloatProgressModel",
      "state": {
       "_model_module_version": "1.5.0",
       "_view_module_version": "1.5.0",
       "bar_style": "success",
       "description": "Epoch Loop: 100%",
       "layout": "IPY_MODEL_8cff8053e5ed41fd8756888cf7faec99",
       "max": 20,
       "style": "IPY_MODEL_dad161a2064f4b1485d402f0341d32d5",
       "value": 20
      }
     },
     "3b0f9725feb84e6da3ec2918e7f6e21b": {
      "model_module": "@jupyter-widgets/base",
      "model_module_version": "1.2.0",
      "model_name": "LayoutModel",
      "state": {
       "_model_module_version": "1.2.0",
       "_view_module_version": "1.2.0",
       "justify_items": null,
       "object_fit": null,
       "object_position": null
      }
     },
     "3cc855aa791b4713a34b6d7d8e22efeb": {
      "model_module": "@jupyter-widgets/controls",
      "model_module_version": "1.5.0",
      "model_name": "HTMLModel",
      "state": {
       "_model_module_version": "1.5.0",
       "_view_module_version": "1.5.0",
       "layout": "IPY_MODEL_06a5f7babafe4deb93b616cada4fd4d8",
       "style": "IPY_MODEL_4a31fc40e730472bb3053c54b4a50cea",
       "value": " 5/5 [02:42&lt;00:00, 32.49s/it, test_error_epoch=0.081, test_loss_epoch=0.569, train_loss_epoch=0.575]"
      }
     },
     "3cf8cdbe474549ef86a4d508749cf570": {
      "model_module": "@jupyter-widgets/controls",
      "model_module_version": "1.5.0",
      "model_name": "FloatProgressModel",
      "state": {
       "_model_module_version": "1.5.0",
       "_view_module_version": "1.5.0",
       "bar_style": "danger",
       "description": "Epoch Loop:   0%",
       "layout": "IPY_MODEL_2a31d73e58004a258ca1b992a5ab0cd6",
       "max": 5,
       "style": "IPY_MODEL_d0eca3f04c7e480f9782b085af74289b"
      }
     },
     "3d7652c121e343e4bfeda48ac8985e7e": {
      "model_module": "@jupyter-widgets/base",
      "model_module_version": "1.2.0",
      "model_name": "LayoutModel",
      "state": {
       "_model_module_version": "1.2.0",
       "_view_module_version": "1.2.0",
       "justify_items": null,
       "object_fit": null,
       "object_position": null
      }
     },
     "3de569bde8354406aca83e2582c573fb": {
      "model_module": "@jupyter-widgets/controls",
      "model_module_version": "1.5.0",
      "model_name": "ProgressStyleModel",
      "state": {
       "_model_module_version": "1.5.0",
       "_view_module_version": "1.2.0",
       "description_width": "initial"
      }
     },
     "3e223218d9cd40afafb9490aa555d3d4": {
      "model_module": "@jupyter-widgets/base",
      "model_module_version": "1.2.0",
      "model_name": "LayoutModel",
      "state": {
       "_model_module_version": "1.2.0",
       "_view_module_version": "1.2.0",
       "justify_items": null,
       "object_fit": null,
       "object_position": null
      }
     },
     "400190a1b9ac4e0199c51946daaaf277": {
      "model_module": "@jupyter-widgets/controls",
      "model_module_version": "1.5.0",
      "model_name": "HTMLModel",
      "state": {
       "_model_module_version": "1.5.0",
       "_view_module_version": "1.5.0",
       "layout": "IPY_MODEL_b48b65962143419fb5f6f165ed05bbd3",
       "style": "IPY_MODEL_27e13a3ced684780bd4cd64985da67a0",
       "value": " 0/15 [02:57&lt;?, ?it/s]"
      }
     },
     "415e7aebc1074dac97b7c42add4f101b": {
      "model_module": "@jupyter-widgets/controls",
      "model_module_version": "1.5.0",
      "model_name": "HTMLModel",
      "state": {
       "_model_module_version": "1.5.0",
       "_view_module_version": "1.5.0",
       "layout": "IPY_MODEL_3d7652c121e343e4bfeda48ac8985e7e",
       "style": "IPY_MODEL_c3f70a36bb0b4d0d8a7e447ea6f0bab3",
       "value": " 4/5 [01:09&lt;00:17, 17.40s/it, test_error_epoch=0.253, test_loss_epoch=0.529, train_loss_epoch=0.535]"
      }
     },
     "41a2364d18344f2ea7e036e6959b967c": {
      "model_module": "@jupyter-widgets/controls",
      "model_module_version": "1.5.0",
      "model_name": "DescriptionStyleModel",
      "state": {
       "_model_module_version": "1.5.0",
       "_view_module_version": "1.2.0",
       "description_width": ""
      }
     },
     "43684f2d6d1b49ccab4c5e35fad0c774": {
      "model_module": "@jupyter-widgets/controls",
      "model_module_version": "1.5.0",
      "model_name": "FloatProgressModel",
      "state": {
       "_model_module_version": "1.5.0",
       "_view_module_version": "1.5.0",
       "bar_style": "success",
       "description": "Epoch Loop: 100%",
       "layout": "IPY_MODEL_07f7329eef5f4045a486054f64242685",
       "max": 15,
       "style": "IPY_MODEL_acda2550b52040f8829481075bff2d00",
       "value": 15
      }
     },
     "4833452267a443b4a7bb41587c402702": {
      "model_module": "@jupyter-widgets/base",
      "model_module_version": "1.2.0",
      "model_name": "LayoutModel",
      "state": {
       "_model_module_version": "1.2.0",
       "_view_module_version": "1.2.0",
       "justify_items": null,
       "object_fit": null,
       "object_position": null
      }
     },
     "4902c9ce6ad5448f901b8786e586f541": {
      "model_module": "@jupyter-widgets/controls",
      "model_module_version": "1.5.0",
      "model_name": "FloatProgressModel",
      "state": {
       "_model_module_version": "1.5.0",
       "_view_module_version": "1.5.0",
       "bar_style": "success",
       "description": "Epoch Loop: 100%",
       "layout": "IPY_MODEL_0242487a058a4369a8baa2ff8accf360",
       "max": 5,
       "style": "IPY_MODEL_65e9dd1a84344949b6de395569168e9f",
       "value": 5
      }
     },
     "4923c57b23e849188dc4dfba61f2d8a6": {
      "model_module": "@jupyter-widgets/controls",
      "model_module_version": "1.5.0",
      "model_name": "HTMLModel",
      "state": {
       "_model_module_version": "1.5.0",
       "_view_module_version": "1.5.0",
       "layout": "IPY_MODEL_fb57696cd5034d6b9f1ca2d08b0e78dc",
       "style": "IPY_MODEL_b8a30caf780848888d8f8c6e61820a81",
       "value": " 15/15 [04:24&lt;00:00, 17.63s/it, test_error_epoch=0.0412, test_loss_epoch=0.253, train_loss_epoch=0.213]"
      }
     },
     "4a07f859bf3b461ba65c84bdea1f50f6": {
      "model_module": "@jupyter-widgets/controls",
      "model_module_version": "1.5.0",
      "model_name": "DescriptionStyleModel",
      "state": {
       "_model_module_version": "1.5.0",
       "_view_module_version": "1.2.0",
       "description_width": ""
      }
     },
     "4a31fc40e730472bb3053c54b4a50cea": {
      "model_module": "@jupyter-widgets/controls",
      "model_module_version": "1.5.0",
      "model_name": "DescriptionStyleModel",
      "state": {
       "_model_module_version": "1.5.0",
       "_view_module_version": "1.2.0",
       "description_width": ""
      }
     },
     "4d6df0664c8f4a529bbab851226144c4": {
      "model_module": "@jupyter-widgets/base",
      "model_module_version": "1.2.0",
      "model_name": "LayoutModel",
      "state": {
       "_model_module_version": "1.2.0",
       "_view_module_version": "1.2.0",
       "justify_items": null,
       "object_fit": null,
       "object_position": null
      }
     },
     "4de430f2023245dea6a1a0576076df13": {
      "model_module": "@jupyter-widgets/controls",
      "model_module_version": "1.5.0",
      "model_name": "HTMLModel",
      "state": {
       "_model_module_version": "1.5.0",
       "_view_module_version": "1.5.0",
       "layout": "IPY_MODEL_7dc0239a8ff844808eabb0d4c5890c70",
       "style": "IPY_MODEL_f750759235ec44e8b328f1850137206c",
       "value": " 1/15 [04:33&lt;1:03:42, 273.05s/it, test_error_epoch=0.106, test_loss_epoch=0.487, train_loss_epoch=4.01]"
      }
     },
     "4e72af66c4bf4efa931127a933fdcc1d": {
      "model_module": "@jupyter-widgets/controls",
      "model_module_version": "1.5.0",
      "model_name": "DescriptionStyleModel",
      "state": {
       "_model_module_version": "1.5.0",
       "_view_module_version": "1.2.0",
       "description_width": ""
      }
     },
     "5045dd862a3243328442b3996e778e8f": {
      "model_module": "@jupyter-widgets/controls",
      "model_module_version": "1.5.0",
      "model_name": "DescriptionStyleModel",
      "state": {
       "_model_module_version": "1.5.0",
       "_view_module_version": "1.2.0",
       "description_width": ""
      }
     },
     "508fd029ddf24b9ca80f49a24ce99b6d": {
      "model_module": "@jupyter-widgets/controls",
      "model_module_version": "1.5.0",
      "model_name": "DescriptionStyleModel",
      "state": {
       "_model_module_version": "1.5.0",
       "_view_module_version": "1.2.0",
       "description_width": ""
      }
     },
     "545962a5230c4b359e3f2a404e730aea": {
      "model_module": "@jupyter-widgets/base",
      "model_module_version": "1.2.0",
      "model_name": "LayoutModel",
      "state": {
       "_model_module_version": "1.2.0",
       "_view_module_version": "1.2.0",
       "justify_items": null,
       "object_fit": null,
       "object_position": null
      }
     },
     "54a38ee05b3b446f9ad84a6b243bf3b1": {
      "model_module": "@jupyter-widgets/base",
      "model_module_version": "1.2.0",
      "model_name": "LayoutModel",
      "state": {
       "_model_module_version": "1.2.0",
       "_view_module_version": "1.2.0",
       "justify_items": null,
       "object_fit": null,
       "object_position": null
      }
     },
     "54d62d6cc7074805b2606bd5c960f023": {
      "model_module": "@jupyter-widgets/base",
      "model_module_version": "1.2.0",
      "model_name": "LayoutModel",
      "state": {
       "_model_module_version": "1.2.0",
       "_view_module_version": "1.2.0",
       "justify_items": null,
       "object_fit": null,
       "object_position": null
      }
     },
     "558d1cd5ef78404d8cf276d3e5cb88f4": {
      "model_module": "@jupyter-widgets/controls",
      "model_module_version": "1.5.0",
      "model_name": "DescriptionStyleModel",
      "state": {
       "_model_module_version": "1.5.0",
       "_view_module_version": "1.2.0",
       "description_width": ""
      }
     },
     "573020405c5e4a0e9f04ae9fcc8f6dd3": {
      "model_module": "@jupyter-widgets/controls",
      "model_module_version": "1.5.0",
      "model_name": "HTMLModel",
      "state": {
       "_model_module_version": "1.5.0",
       "_view_module_version": "1.5.0",
       "layout": "IPY_MODEL_78130c0ae5c1416b9776c17ace38d755",
       "style": "IPY_MODEL_12f1774e21a4489e949b1c0b7d09fe5a",
       "value": " 2/15 [58:08&lt;6:17:55, 1744.27s/it, test_error_epoch=0.243, test_loss_epoch=0.514, train_loss_epoch=0.52]"
      }
     },
     "579a5ba2d3834775ac4e8bdf3c1109bf": {
      "model_module": "@jupyter-widgets/base",
      "model_module_version": "1.2.0",
      "model_name": "LayoutModel",
      "state": {
       "_model_module_version": "1.2.0",
       "_view_module_version": "1.2.0",
       "justify_items": null,
       "object_fit": null,
       "object_position": null
      }
     },
     "59e4e812988541128258c0ecf84e7060": {
      "model_module": "@jupyter-widgets/base",
      "model_module_version": "1.2.0",
      "model_name": "LayoutModel",
      "state": {
       "_model_module_version": "1.2.0",
       "_view_module_version": "1.2.0",
       "justify_items": null,
       "object_fit": null,
       "object_position": null
      }
     },
     "5d2747eed78c452b99f435cf900947c1": {
      "model_module": "@jupyter-widgets/controls",
      "model_module_version": "1.5.0",
      "model_name": "ProgressStyleModel",
      "state": {
       "_model_module_version": "1.5.0",
       "_view_module_version": "1.2.0",
       "description_width": "initial"
      }
     },
     "5d832407f0284bb1a5f2fea85ff6396f": {
      "model_module": "@jupyter-widgets/controls",
      "model_module_version": "1.5.0",
      "model_name": "ProgressStyleModel",
      "state": {
       "_model_module_version": "1.5.0",
       "_view_module_version": "1.2.0",
       "description_width": "initial"
      }
     },
     "62368d8ee3014e81afb07eb78812c207": {
      "model_module": "@jupyter-widgets/base",
      "model_module_version": "1.2.0",
      "model_name": "LayoutModel",
      "state": {
       "_model_module_version": "1.2.0",
       "_view_module_version": "1.2.0",
       "justify_items": null,
       "object_fit": null,
       "object_position": null
      }
     },
     "63047b661b694545849023aa5e1d5b7a": {
      "model_module": "@jupyter-widgets/base",
      "model_module_version": "1.2.0",
      "model_name": "LayoutModel",
      "state": {
       "_model_module_version": "1.2.0",
       "_view_module_version": "1.2.0",
       "justify_items": null,
       "object_fit": null,
       "object_position": null
      }
     },
     "631ab443bc534daf8b228503b021b4d2": {
      "model_module": "@jupyter-widgets/base",
      "model_module_version": "1.2.0",
      "model_name": "LayoutModel",
      "state": {
       "_model_module_version": "1.2.0",
       "_view_module_version": "1.2.0",
       "justify_items": null,
       "object_fit": null,
       "object_position": null
      }
     },
     "63542ce8476f42e492ea4c5e9cf9d396": {
      "model_module": "@jupyter-widgets/base",
      "model_module_version": "1.2.0",
      "model_name": "LayoutModel",
      "state": {
       "_model_module_version": "1.2.0",
       "_view_module_version": "1.2.0",
       "justify_items": null,
       "object_fit": null,
       "object_position": null
      }
     },
     "63da84d9eb2146fb81475f9523300666": {
      "model_module": "@jupyter-widgets/base",
      "model_module_version": "1.2.0",
      "model_name": "LayoutModel",
      "state": {
       "_model_module_version": "1.2.0",
       "_view_module_version": "1.2.0",
       "justify_items": null,
       "object_fit": null,
       "object_position": null
      }
     },
     "6492d817be6142609341084e96d66a9f": {
      "model_module": "@jupyter-widgets/controls",
      "model_module_version": "1.5.0",
      "model_name": "DescriptionStyleModel",
      "state": {
       "_model_module_version": "1.5.0",
       "_view_module_version": "1.2.0",
       "description_width": ""
      }
     },
     "653401840e884494b77fcee5375056c4": {
      "model_module": "@jupyter-widgets/base",
      "model_module_version": "1.2.0",
      "model_name": "LayoutModel",
      "state": {
       "_model_module_version": "1.2.0",
       "_view_module_version": "1.2.0",
       "justify_items": null,
       "object_fit": null,
       "object_position": null
      }
     },
     "65e9dd1a84344949b6de395569168e9f": {
      "model_module": "@jupyter-widgets/controls",
      "model_module_version": "1.5.0",
      "model_name": "ProgressStyleModel",
      "state": {
       "_model_module_version": "1.5.0",
       "_view_module_version": "1.2.0",
       "description_width": "initial"
      }
     },
     "65f9d808b5234b01b8290bab7fb08dcf": {
      "model_module": "@jupyter-widgets/base",
      "model_module_version": "1.2.0",
      "model_name": "LayoutModel",
      "state": {
       "_model_module_version": "1.2.0",
       "_view_module_version": "1.2.0",
       "justify_items": null,
       "object_fit": null,
       "object_position": null
      }
     },
     "662ec885c70d43ebbe4533d3121b738f": {
      "model_module": "@jupyter-widgets/base",
      "model_module_version": "1.2.0",
      "model_name": "LayoutModel",
      "state": {
       "_model_module_version": "1.2.0",
       "_view_module_version": "1.2.0",
       "justify_items": null,
       "object_fit": null,
       "object_position": null
      }
     },
     "663528c1091146fb8aaa7ec91bd4d88a": {
      "model_module": "@jupyter-widgets/base",
      "model_module_version": "1.2.0",
      "model_name": "LayoutModel",
      "state": {
       "_model_module_version": "1.2.0",
       "_view_module_version": "1.2.0",
       "justify_items": null,
       "object_fit": null,
       "object_position": null
      }
     },
     "66b282441f7e43dc9d03ba5f56262fd0": {
      "model_module": "@jupyter-widgets/base",
      "model_module_version": "1.2.0",
      "model_name": "LayoutModel",
      "state": {
       "_model_module_version": "1.2.0",
       "_view_module_version": "1.2.0",
       "justify_items": null,
       "object_fit": null,
       "object_position": null
      }
     },
     "699911b82c49432bb89cef841b983a1b": {
      "model_module": "@jupyter-widgets/controls",
      "model_module_version": "1.5.0",
      "model_name": "ProgressStyleModel",
      "state": {
       "_model_module_version": "1.5.0",
       "_view_module_version": "1.2.0",
       "description_width": "initial"
      }
     },
     "6b6c636a9fdf4e8890f6267ec6b746f6": {
      "model_module": "@jupyter-widgets/controls",
      "model_module_version": "1.5.0",
      "model_name": "HTMLModel",
      "state": {
       "_model_module_version": "1.5.0",
       "_view_module_version": "1.5.0",
       "layout": "IPY_MODEL_8d569ee37bde446f8528aba66db9345e",
       "style": "IPY_MODEL_6492d817be6142609341084e96d66a9f",
       "value": " 15/15 [02:33&lt;00:00, 10.22s/it, test_error_epoch=0.305, test_loss_epoch=0.61, train_loss_epoch=0.611]"
      }
     },
     "6c4737ee63874e15b3b9dcec8a5ec087": {
      "model_module": "@jupyter-widgets/controls",
      "model_module_version": "1.5.0",
      "model_name": "DescriptionStyleModel",
      "state": {
       "_model_module_version": "1.5.0",
       "_view_module_version": "1.2.0",
       "description_width": ""
      }
     },
     "6cb31729a053487f91995311c9eed93b": {
      "model_module": "@jupyter-widgets/base",
      "model_module_version": "1.2.0",
      "model_name": "LayoutModel",
      "state": {
       "_model_module_version": "1.2.0",
       "_view_module_version": "1.2.0",
       "justify_items": null,
       "object_fit": null,
       "object_position": null
      }
     },
     "6d95500e94ff46f4a496685db6024906": {
      "model_module": "@jupyter-widgets/controls",
      "model_module_version": "1.5.0",
      "model_name": "DescriptionStyleModel",
      "state": {
       "_model_module_version": "1.5.0",
       "_view_module_version": "1.2.0",
       "description_width": ""
      }
     },
     "6e92192dff1043ec908c8dbf250ab94d": {
      "model_module": "@jupyter-widgets/base",
      "model_module_version": "1.2.0",
      "model_name": "LayoutModel",
      "state": {
       "_model_module_version": "1.2.0",
       "_view_module_version": "1.2.0",
       "justify_items": null,
       "object_fit": null,
       "object_position": null
      }
     },
     "70c1b0b3f3d1421a81992ea1c4ecc766": {
      "model_module": "@jupyter-widgets/base",
      "model_module_version": "1.2.0",
      "model_name": "LayoutModel",
      "state": {
       "_model_module_version": "1.2.0",
       "_view_module_version": "1.2.0",
       "justify_items": null,
       "object_fit": null,
       "object_position": null
      }
     },
     "7160ccf4b86d45c0985458459a0fb6f7": {
      "model_module": "@jupyter-widgets/controls",
      "model_module_version": "1.5.0",
      "model_name": "HBoxModel",
      "state": {
       "_model_module_version": "1.5.0",
       "_view_module_version": "1.5.0",
       "children": [
        "IPY_MODEL_e84c1e08e7e74ae59205cb6f71bcaeb4",
        "IPY_MODEL_4de430f2023245dea6a1a0576076df13"
       ],
       "layout": "IPY_MODEL_653401840e884494b77fcee5375056c4"
      }
     },
     "736e99adb2d84eaaae3c396f5fe7bf6e": {
      "model_module": "@jupyter-widgets/controls",
      "model_module_version": "1.5.0",
      "model_name": "DescriptionStyleModel",
      "state": {
       "_model_module_version": "1.5.0",
       "_view_module_version": "1.2.0",
       "description_width": ""
      }
     },
     "74c1242f7a214073bee46a8c218369be": {
      "model_module": "@jupyter-widgets/controls",
      "model_module_version": "1.5.0",
      "model_name": "HTMLModel",
      "state": {
       "_model_module_version": "1.5.0",
       "_view_module_version": "1.5.0",
       "layout": "IPY_MODEL_0c32455477864e5d82f4add32e08d4d9",
       "style": "IPY_MODEL_967f2f0537fe40da91ec454d8564977a",
       "value": " 5/5 [12:42&lt;00:00, 152.51s/it, test_error_epoch=0.0542, test_loss_epoch=0.297, train_loss_epoch=0.262]"
      }
     },
     "74ce7a7b2f9f406786cb5afa2c4ca354": {
      "model_module": "@jupyter-widgets/controls",
      "model_module_version": "1.5.0",
      "model_name": "HBoxModel",
      "state": {
       "_model_module_version": "1.5.0",
       "_view_module_version": "1.5.0",
       "children": [
        "IPY_MODEL_89a49bcc21eb43bbace056d7b18f91a6",
        "IPY_MODEL_ff0bcf1cfcc942f4844694ec3fda91a8"
       ],
       "layout": "IPY_MODEL_1204460c407942c2ab7e3766d026e085"
      }
     },
     "75547149b6d8463991d334e8e2d8f67f": {
      "model_module": "@jupyter-widgets/controls",
      "model_module_version": "1.5.0",
      "model_name": "FloatProgressModel",
      "state": {
       "_model_module_version": "1.5.0",
       "_view_module_version": "1.5.0",
       "bar_style": "danger",
       "description": "Epoch Loop:  13%",
       "layout": "IPY_MODEL_4833452267a443b4a7bb41587c402702",
       "max": 15,
       "style": "IPY_MODEL_cb8fbb3569774f0daf91b5c3f334b45e",
       "value": 2
      }
     },
     "76d396c7d3af497b96a3c901de30614d": {
      "model_module": "@jupyter-widgets/controls",
      "model_module_version": "1.5.0",
      "model_name": "FloatProgressModel",
      "state": {
       "_model_module_version": "1.5.0",
       "_view_module_version": "1.5.0",
       "bar_style": "success",
       "description": "Epoch Loop: 100%",
       "layout": "IPY_MODEL_d37eb71caac94211a3525643cb6219a2",
       "max": 5,
       "style": "IPY_MODEL_f6750b4973994dcf98d74a0d85f92089",
       "value": 5
      }
     },
     "76f666099f0d4046aedb63d1f6b83555": {
      "model_module": "@jupyter-widgets/controls",
      "model_module_version": "1.5.0",
      "model_name": "DescriptionStyleModel",
      "state": {
       "_model_module_version": "1.5.0",
       "_view_module_version": "1.2.0",
       "description_width": ""
      }
     },
     "77d3392184ea4158b35b884ecfc52ce4": {
      "model_module": "@jupyter-widgets/controls",
      "model_module_version": "1.5.0",
      "model_name": "FloatProgressModel",
      "state": {
       "_model_module_version": "1.5.0",
       "_view_module_version": "1.5.0",
       "bar_style": "danger",
       "description": "Epoch Loop:   0%",
       "layout": "IPY_MODEL_e5b431ac4d194a9da211420c47ad0585",
       "max": 5,
       "style": "IPY_MODEL_3804e0a7a9c94352baf49799aa389ab4"
      }
     },
     "78130c0ae5c1416b9776c17ace38d755": {
      "model_module": "@jupyter-widgets/base",
      "model_module_version": "1.2.0",
      "model_name": "LayoutModel",
      "state": {
       "_model_module_version": "1.2.0",
       "_view_module_version": "1.2.0",
       "justify_items": null,
       "object_fit": null,
       "object_position": null
      }
     },
     "7837f0d1faf84c9db561d64e4cc446f8": {
      "model_module": "@jupyter-widgets/base",
      "model_module_version": "1.2.0",
      "model_name": "LayoutModel",
      "state": {
       "_model_module_version": "1.2.0",
       "_view_module_version": "1.2.0",
       "justify_items": null,
       "object_fit": null,
       "object_position": null
      }
     },
     "79ef9ef870d74f79a3af1ba19e05250f": {
      "model_module": "@jupyter-widgets/base",
      "model_module_version": "1.2.0",
      "model_name": "LayoutModel",
      "state": {
       "_model_module_version": "1.2.0",
       "_view_module_version": "1.2.0",
       "justify_items": null,
       "object_fit": null,
       "object_position": null
      }
     },
     "7a1d477875684db2b8adad04f561fd99": {
      "model_module": "@jupyter-widgets/base",
      "model_module_version": "1.2.0",
      "model_name": "LayoutModel",
      "state": {
       "_model_module_version": "1.2.0",
       "_view_module_version": "1.2.0",
       "justify_items": null,
       "object_fit": null,
       "object_position": null
      }
     },
     "7a46e4780abb4197ac71208519dc144d": {
      "model_module": "@jupyter-widgets/base",
      "model_module_version": "1.2.0",
      "model_name": "LayoutModel",
      "state": {
       "_model_module_version": "1.2.0",
       "_view_module_version": "1.2.0",
       "justify_items": null,
       "object_fit": null,
       "object_position": null
      }
     },
     "7ad7ae369f8c4d0daa427718571297db": {
      "model_module": "@jupyter-widgets/base",
      "model_module_version": "1.2.0",
      "model_name": "LayoutModel",
      "state": {
       "_model_module_version": "1.2.0",
       "_view_module_version": "1.2.0",
       "justify_items": null,
       "object_fit": null,
       "object_position": null
      }
     },
     "7d632de4a3804b2385770ea87824727e": {
      "model_module": "@jupyter-widgets/base",
      "model_module_version": "1.2.0",
      "model_name": "LayoutModel",
      "state": {
       "_model_module_version": "1.2.0",
       "_view_module_version": "1.2.0",
       "justify_items": null,
       "object_fit": null,
       "object_position": null
      }
     },
     "7da36b8f842f4e6d91c07c128865bb05": {
      "model_module": "@jupyter-widgets/controls",
      "model_module_version": "1.5.0",
      "model_name": "ProgressStyleModel",
      "state": {
       "_model_module_version": "1.5.0",
       "_view_module_version": "1.2.0",
       "description_width": "initial"
      }
     },
     "7dc0239a8ff844808eabb0d4c5890c70": {
      "model_module": "@jupyter-widgets/base",
      "model_module_version": "1.2.0",
      "model_name": "LayoutModel",
      "state": {
       "_model_module_version": "1.2.0",
       "_view_module_version": "1.2.0",
       "justify_items": null,
       "object_fit": null,
       "object_position": null
      }
     },
     "7e726f6b8e46482aacb020fec3a13603": {
      "model_module": "@jupyter-widgets/controls",
      "model_module_version": "1.5.0",
      "model_name": "HBoxModel",
      "state": {
       "_model_module_version": "1.5.0",
       "_view_module_version": "1.5.0",
       "children": [
        "IPY_MODEL_abd91d9cd76a43c79cb93eb759fa16a6",
        "IPY_MODEL_74c1242f7a214073bee46a8c218369be"
       ],
       "layout": "IPY_MODEL_c7ffb9c339e142fb84bc088176829f79"
      }
     },
     "7e9275d2fa094ffa8e2c869e1bdac40c": {
      "model_module": "@jupyter-widgets/base",
      "model_module_version": "1.2.0",
      "model_name": "LayoutModel",
      "state": {
       "_model_module_version": "1.2.0",
       "_view_module_version": "1.2.0",
       "justify_items": null,
       "object_fit": null,
       "object_position": null
      }
     },
     "7f41606db96d4696be44b65a8d52d64b": {
      "model_module": "@jupyter-widgets/controls",
      "model_module_version": "1.5.0",
      "model_name": "ProgressStyleModel",
      "state": {
       "_model_module_version": "1.5.0",
       "_view_module_version": "1.2.0",
       "description_width": "initial"
      }
     },
     "7f86456da35d44a4834ec66ee605c433": {
      "model_module": "@jupyter-widgets/base",
      "model_module_version": "1.2.0",
      "model_name": "LayoutModel",
      "state": {
       "_model_module_version": "1.2.0",
       "_view_module_version": "1.2.0",
       "justify_items": null,
       "object_fit": null,
       "object_position": null
      }
     },
     "82407cc01a9c41c9a64922830321a43b": {
      "model_module": "@jupyter-widgets/base",
      "model_module_version": "1.2.0",
      "model_name": "LayoutModel",
      "state": {
       "_model_module_version": "1.2.0",
       "_view_module_version": "1.2.0",
       "justify_items": null,
       "object_fit": null,
       "object_position": null
      }
     },
     "8316ae2e6f3e42d88ca28bf19345782b": {
      "model_module": "@jupyter-widgets/controls",
      "model_module_version": "1.5.0",
      "model_name": "ProgressStyleModel",
      "state": {
       "_model_module_version": "1.5.0",
       "_view_module_version": "1.2.0",
       "description_width": "initial"
      }
     },
     "83510470d1d643baa70215ab0658f306": {
      "model_module": "@jupyter-widgets/controls",
      "model_module_version": "1.5.0",
      "model_name": "FloatProgressModel",
      "state": {
       "_model_module_version": "1.5.0",
       "_view_module_version": "1.5.0",
       "bar_style": "success",
       "description": "Epoch Loop: 100%",
       "layout": "IPY_MODEL_e0e5dd760cd347b7a7fc977b5b8183f1",
       "max": 15,
       "style": "IPY_MODEL_3a781c64b2c1477fae25e4a9164f5114",
       "value": 15
      }
     },
     "849397f573584d118f4545c5cc8eaa72": {
      "model_module": "@jupyter-widgets/controls",
      "model_module_version": "1.5.0",
      "model_name": "HTMLModel",
      "state": {
       "_model_module_version": "1.5.0",
       "_view_module_version": "1.5.0",
       "layout": "IPY_MODEL_0032b3cf18904f1a883faf2453991993",
       "style": "IPY_MODEL_41a2364d18344f2ea7e036e6959b967c",
       "value": " 15/15 [04:03&lt;00:00, 16.20s/it, test_error_epoch=0.243, test_loss_epoch=0.514, train_loss_epoch=0.517]"
      }
     },
     "849ab1b9114f4bc8b808f49cc59194b4": {
      "model_module": "@jupyter-widgets/controls",
      "model_module_version": "1.5.0",
      "model_name": "HTMLModel",
      "state": {
       "_model_module_version": "1.5.0",
       "_view_module_version": "1.5.0",
       "layout": "IPY_MODEL_15f4653317b74402b5b71b0aa4b5361e",
       "style": "IPY_MODEL_e5058e2cde0c4321b79165803857dd5a",
       "value": " 15/15 [05:23&lt;00:00, 21.59s/it, test_error_epoch=0.0412, test_loss_epoch=0.253, train_loss_epoch=0.213]"
      }
     },
     "86cff6071459470da31e676bb6c705f9": {
      "model_module": "@jupyter-widgets/controls",
      "model_module_version": "1.5.0",
      "model_name": "DescriptionStyleModel",
      "state": {
       "_model_module_version": "1.5.0",
       "_view_module_version": "1.2.0",
       "description_width": ""
      }
     },
     "88679f84f6c74dc9bfda0f8b8010cacf": {
      "model_module": "@jupyter-widgets/controls",
      "model_module_version": "1.5.0",
      "model_name": "HTMLModel",
      "state": {
       "_model_module_version": "1.5.0",
       "_view_module_version": "1.5.0",
       "layout": "IPY_MODEL_662ec885c70d43ebbe4533d3121b738f",
       "style": "IPY_MODEL_76f666099f0d4046aedb63d1f6b83555",
       "value": " 5/5 [03:32&lt;00:00, 42.56s/it, test_error_epoch=0.0702, test_loss_epoch=0.365, train_loss_epoch=0.34]"
      }
     },
     "88afb5bd6b674d6b88d1679dd0390b12": {
      "model_module": "@jupyter-widgets/controls",
      "model_module_version": "1.5.0",
      "model_name": "HBoxModel",
      "state": {
       "_model_module_version": "1.5.0",
       "_view_module_version": "1.5.0",
       "children": [
        "IPY_MODEL_0688b89a111f4bf3936838f97036e3f0",
        "IPY_MODEL_3cc855aa791b4713a34b6d7d8e22efeb"
       ],
       "layout": "IPY_MODEL_d16a4a55b2684a27851171165d9252ac"
      }
     },
     "88ba169a3c9048b1b968ab6d46e95826": {
      "model_module": "@jupyter-widgets/controls",
      "model_module_version": "1.5.0",
      "model_name": "DescriptionStyleModel",
      "state": {
       "_model_module_version": "1.5.0",
       "_view_module_version": "1.2.0",
       "description_width": ""
      }
     },
     "89a49bcc21eb43bbace056d7b18f91a6": {
      "model_module": "@jupyter-widgets/controls",
      "model_module_version": "1.5.0",
      "model_name": "FloatProgressModel",
      "state": {
       "_model_module_version": "1.5.0",
       "_view_module_version": "1.5.0",
       "bar_style": "success",
       "description": "Epoch Loop: 100%",
       "layout": "IPY_MODEL_63542ce8476f42e492ea4c5e9cf9d396",
       "max": 20,
       "style": "IPY_MODEL_9ef5da32f46742d09b03261dade40a34",
       "value": 20
      }
     },
     "8a7a1bdeb94e426e8daafb6ce4a5956d": {
      "model_module": "@jupyter-widgets/base",
      "model_module_version": "1.2.0",
      "model_name": "LayoutModel",
      "state": {
       "_model_module_version": "1.2.0",
       "_view_module_version": "1.2.0",
       "justify_items": null,
       "object_fit": null,
       "object_position": null
      }
     },
     "8b8046f4bc744d368e712fe6fd805984": {
      "model_module": "@jupyter-widgets/controls",
      "model_module_version": "1.5.0",
      "model_name": "HBoxModel",
      "state": {
       "_model_module_version": "1.5.0",
       "_view_module_version": "1.5.0",
       "children": [
        "IPY_MODEL_e7b6ee83b4484ad087d0ff793d1de229",
        "IPY_MODEL_ba657b2a539e4a87b8e30583b6a1a44e"
       ],
       "layout": "IPY_MODEL_579a5ba2d3834775ac4e8bdf3c1109bf"
      }
     },
     "8c03383764e641d9bb008e8ae65edc0e": {
      "model_module": "@jupyter-widgets/controls",
      "model_module_version": "1.5.0",
      "model_name": "HBoxModel",
      "state": {
       "_model_module_version": "1.5.0",
       "_view_module_version": "1.5.0",
       "children": [
        "IPY_MODEL_17b04aaf80ae4949aca38fa1817352e1",
        "IPY_MODEL_2c82e48ef0754fa4a28264038821f1a3"
       ],
       "layout": "IPY_MODEL_91de5d9b38814481a1c07d9554e7e203"
      }
     },
     "8cff8053e5ed41fd8756888cf7faec99": {
      "model_module": "@jupyter-widgets/base",
      "model_module_version": "1.2.0",
      "model_name": "LayoutModel",
      "state": {
       "_model_module_version": "1.2.0",
       "_view_module_version": "1.2.0",
       "justify_items": null,
       "object_fit": null,
       "object_position": null
      }
     },
     "8d569ee37bde446f8528aba66db9345e": {
      "model_module": "@jupyter-widgets/base",
      "model_module_version": "1.2.0",
      "model_name": "LayoutModel",
      "state": {
       "_model_module_version": "1.2.0",
       "_view_module_version": "1.2.0",
       "justify_items": null,
       "object_fit": null,
       "object_position": null
      }
     },
     "8e9960be46c24be986b428d8fecba474": {
      "model_module": "@jupyter-widgets/base",
      "model_module_version": "1.2.0",
      "model_name": "LayoutModel",
      "state": {
       "_model_module_version": "1.2.0",
       "_view_module_version": "1.2.0",
       "justify_items": null,
       "object_fit": null,
       "object_position": null
      }
     },
     "8fc05de21f5f474d955b19066eb6ef57": {
      "model_module": "@jupyter-widgets/controls",
      "model_module_version": "1.5.0",
      "model_name": "FloatProgressModel",
      "state": {
       "_model_module_version": "1.5.0",
       "_view_module_version": "1.5.0",
       "bar_style": "danger",
       "description": "Epoch Loop:  13%",
       "layout": "IPY_MODEL_b5402ca2b9be472d89b0abbcc9c2237a",
       "max": 15,
       "style": "IPY_MODEL_e907806788a54e70801d39fd426d7f1e",
       "value": 2
      }
     },
     "91193805389442a88f50423041308234": {
      "model_module": "@jupyter-widgets/base",
      "model_module_version": "1.2.0",
      "model_name": "LayoutModel",
      "state": {
       "_model_module_version": "1.2.0",
       "_view_module_version": "1.2.0",
       "justify_items": null,
       "object_fit": null,
       "object_position": null
      }
     },
     "91407a67fc614d0994f698034aa0220a": {
      "model_module": "@jupyter-widgets/controls",
      "model_module_version": "1.5.0",
      "model_name": "HBoxModel",
      "state": {
       "_model_module_version": "1.5.0",
       "_view_module_version": "1.5.0",
       "children": [
        "IPY_MODEL_0b55e466e3f84bcbb48d448be2cfbd13",
        "IPY_MODEL_10bf5596db4d4b5fa09813eb71b1eb8a"
       ],
       "layout": "IPY_MODEL_1aa38aa64b0c41d3bd055016d05209fb"
      }
     },
     "91de5d9b38814481a1c07d9554e7e203": {
      "model_module": "@jupyter-widgets/base",
      "model_module_version": "1.2.0",
      "model_name": "LayoutModel",
      "state": {
       "_model_module_version": "1.2.0",
       "_view_module_version": "1.2.0",
       "justify_items": null,
       "object_fit": null,
       "object_position": null
      }
     },
     "926594e4807947b7a9a867b3d75f7c38": {
      "model_module": "@jupyter-widgets/controls",
      "model_module_version": "1.5.0",
      "model_name": "ProgressStyleModel",
      "state": {
       "_model_module_version": "1.5.0",
       "_view_module_version": "1.2.0",
       "description_width": "initial"
      }
     },
     "941b1c6219314fc9b6d256b991eec77a": {
      "model_module": "@jupyter-widgets/controls",
      "model_module_version": "1.5.0",
      "model_name": "HBoxModel",
      "state": {
       "_model_module_version": "1.5.0",
       "_view_module_version": "1.5.0",
       "children": [
        "IPY_MODEL_bc18a59b179d48fdb8924a4e2fcc556c",
        "IPY_MODEL_9af2494b6bc140de913ec648c83bb5ce"
       ],
       "layout": "IPY_MODEL_d5e0e7a8e0f642b08d47d7981cbbb02d"
      }
     },
     "967f2f0537fe40da91ec454d8564977a": {
      "model_module": "@jupyter-widgets/controls",
      "model_module_version": "1.5.0",
      "model_name": "DescriptionStyleModel",
      "state": {
       "_model_module_version": "1.5.0",
       "_view_module_version": "1.2.0",
       "description_width": ""
      }
     },
     "96d72c62ca934f1e8cf820b914680106": {
      "model_module": "@jupyter-widgets/base",
      "model_module_version": "1.2.0",
      "model_name": "LayoutModel",
      "state": {
       "_model_module_version": "1.2.0",
       "_view_module_version": "1.2.0",
       "justify_items": null,
       "object_fit": null,
       "object_position": null
      }
     },
     "992aeb3db38940ef87d472f195d34258": {
      "model_module": "@jupyter-widgets/controls",
      "model_module_version": "1.5.0",
      "model_name": "FloatProgressModel",
      "state": {
       "_model_module_version": "1.5.0",
       "_view_module_version": "1.5.0",
       "bar_style": "danger",
       "description": "Epoch Loop:   0%",
       "layout": "IPY_MODEL_2462811dec364c70a70488db023ddddc",
       "max": 15,
       "style": "IPY_MODEL_3de569bde8354406aca83e2582c573fb"
      }
     },
     "99e022b0c6e64630b7eea3bb3f06e9d3": {
      "model_module": "@jupyter-widgets/controls",
      "model_module_version": "1.5.0",
      "model_name": "ProgressStyleModel",
      "state": {
       "_model_module_version": "1.5.0",
       "_view_module_version": "1.2.0",
       "description_width": "initial"
      }
     },
     "9a1afcbb20844d19848d35e5bb5cf29e": {
      "model_module": "@jupyter-widgets/controls",
      "model_module_version": "1.5.0",
      "model_name": "HBoxModel",
      "state": {
       "_model_module_version": "1.5.0",
       "_view_module_version": "1.5.0",
       "children": [
        "IPY_MODEL_24bcaf3430404606aa7e6ec12c446cea",
        "IPY_MODEL_aad67d4db39746f0a1082cbc85cb4c09"
       ],
       "layout": "IPY_MODEL_65f9d808b5234b01b8290bab7fb08dcf"
      }
     },
     "9af2494b6bc140de913ec648c83bb5ce": {
      "model_module": "@jupyter-widgets/controls",
      "model_module_version": "1.5.0",
      "model_name": "HTMLModel",
      "state": {
       "_model_module_version": "1.5.0",
       "_view_module_version": "1.5.0",
       "layout": "IPY_MODEL_deb2775db5754d119b2e53c591d8146b",
       "style": "IPY_MODEL_4e72af66c4bf4efa931127a933fdcc1d",
       "value": " 15/15 [05:39&lt;00:00, 22.64s/it, test_error_epoch=0.0412, test_loss_epoch=0.253, train_loss_epoch=0.216]"
      }
     },
     "9b554eb9f5de494ab0de5f48ae27c455": {
      "model_module": "@jupyter-widgets/controls",
      "model_module_version": "1.5.0",
      "model_name": "HTMLModel",
      "state": {
       "_model_module_version": "1.5.0",
       "_view_module_version": "1.5.0",
       "layout": "IPY_MODEL_7d632de4a3804b2385770ea87824727e",
       "style": "IPY_MODEL_3083557064544578b508474989c4ea51",
       "value": " 20/20 [10:57&lt;00:00, 32.89s/it, test_error_epoch=0.0385, test_loss_epoch=0.186, train_loss_epoch=0.124]"
      }
     },
     "9c5850e4022844a6b061c459c3c66beb": {
      "model_module": "@jupyter-widgets/controls",
      "model_module_version": "1.5.0",
      "model_name": "HTMLModel",
      "state": {
       "_model_module_version": "1.5.0",
       "_view_module_version": "1.5.0",
       "layout": "IPY_MODEL_f5150c3ed91645fda90676508ff07a95",
       "style": "IPY_MODEL_6d95500e94ff46f4a496685db6024906",
       "value": " 0/15 [04:56&lt;?, ?it/s]"
      }
     },
     "9ecf5c5cdd1d42968356501881767479": {
      "model_module": "@jupyter-widgets/base",
      "model_module_version": "1.2.0",
      "model_name": "LayoutModel",
      "state": {
       "_model_module_version": "1.2.0",
       "_view_module_version": "1.2.0",
       "justify_items": null,
       "object_fit": null,
       "object_position": null
      }
     },
     "9ef5da32f46742d09b03261dade40a34": {
      "model_module": "@jupyter-widgets/controls",
      "model_module_version": "1.5.0",
      "model_name": "ProgressStyleModel",
      "state": {
       "_model_module_version": "1.5.0",
       "_view_module_version": "1.2.0",
       "description_width": "initial"
      }
     },
     "9f1792dea3474f31b5eee37c9d340aca": {
      "model_module": "@jupyter-widgets/base",
      "model_module_version": "1.2.0",
      "model_name": "LayoutModel",
      "state": {
       "_model_module_version": "1.2.0",
       "_view_module_version": "1.2.0",
       "justify_items": null,
       "object_fit": null,
       "object_position": null
      }
     },
     "9ff17c2544fa4df2ade5a4b8f3f4d97a": {
      "model_module": "@jupyter-widgets/controls",
      "model_module_version": "1.5.0",
      "model_name": "ProgressStyleModel",
      "state": {
       "_model_module_version": "1.5.0",
       "_view_module_version": "1.2.0",
       "description_width": "initial"
      }
     },
     "a0c90a24206d4b5aa8a04bafd4653da8": {
      "model_module": "@jupyter-widgets/controls",
      "model_module_version": "1.5.0",
      "model_name": "HBoxModel",
      "state": {
       "_model_module_version": "1.5.0",
       "_view_module_version": "1.5.0",
       "children": [
        "IPY_MODEL_c273384657de4279b08263f887e960eb",
        "IPY_MODEL_ffa8af3a670c44a1acb60dcb9080cd2b"
       ],
       "layout": "IPY_MODEL_b82a333a27a7427dba140e0886f54019"
      }
     },
     "a13e476ac02b4b66a7fcb31b107d964a": {
      "model_module": "@jupyter-widgets/controls",
      "model_module_version": "1.5.0",
      "model_name": "HBoxModel",
      "state": {
       "_model_module_version": "1.5.0",
       "_view_module_version": "1.5.0",
       "children": [
        "IPY_MODEL_4902c9ce6ad5448f901b8786e586f541",
        "IPY_MODEL_d93ada90003341419669a5f7f74790b8"
       ],
       "layout": "IPY_MODEL_a45256c8672349c4982d854e3236b68c"
      }
     },
     "a23ded1d8d4743f9a3e148b75f79fc69": {
      "model_module": "@jupyter-widgets/controls",
      "model_module_version": "1.5.0",
      "model_name": "ProgressStyleModel",
      "state": {
       "_model_module_version": "1.5.0",
       "_view_module_version": "1.2.0",
       "description_width": "initial"
      }
     },
     "a45256c8672349c4982d854e3236b68c": {
      "model_module": "@jupyter-widgets/base",
      "model_module_version": "1.2.0",
      "model_name": "LayoutModel",
      "state": {
       "_model_module_version": "1.2.0",
       "_view_module_version": "1.2.0",
       "justify_items": null,
       "object_fit": null,
       "object_position": null
      }
     },
     "a4bf90962b4a42dab2ad1a5798337d42": {
      "model_module": "@jupyter-widgets/controls",
      "model_module_version": "1.5.0",
      "model_name": "HTMLModel",
      "state": {
       "_model_module_version": "1.5.0",
       "_view_module_version": "1.5.0",
       "layout": "IPY_MODEL_70c1b0b3f3d1421a81992ea1c4ecc766",
       "style": "IPY_MODEL_f99620b8c539453d841129cac7107960",
       "value": " 5/5 [02:27&lt;00:00, 29.47s/it, test_error_epoch=0.0623, test_loss_epoch=0.63, train_loss_epoch=0.704]"
      }
     },
     "a610d88dfd7b4061a403bf17ad346354": {
      "model_module": "@jupyter-widgets/controls",
      "model_module_version": "1.5.0",
      "model_name": "FloatProgressModel",
      "state": {
       "_model_module_version": "1.5.0",
       "_view_module_version": "1.5.0",
       "bar_style": "success",
       "description": "Epoch Loop: 100%",
       "layout": "IPY_MODEL_fc0e9488206c4e9aaab22ae14fa20b40",
       "max": 15,
       "style": "IPY_MODEL_17909266058642779420bd0802ef197e",
       "value": 15
      }
     },
     "a6dd692466bc4d9b855c86e3e325fc4a": {
      "model_module": "@jupyter-widgets/controls",
      "model_module_version": "1.5.0",
      "model_name": "HBoxModel",
      "state": {
       "_model_module_version": "1.5.0",
       "_view_module_version": "1.5.0",
       "children": [
        "IPY_MODEL_1b0d2df899684b8fb3a79ec2cba282e6",
        "IPY_MODEL_e15a4b3957814f998f2bf9d638f8d2ac"
       ],
       "layout": "IPY_MODEL_fa98e631b00c4a5e96402bd535d5bd05"
      }
     },
     "a8ccbb80665a43c9b7d0d7fdecd2bb77": {
      "model_module": "@jupyter-widgets/controls",
      "model_module_version": "1.5.0",
      "model_name": "DescriptionStyleModel",
      "state": {
       "_model_module_version": "1.5.0",
       "_view_module_version": "1.2.0",
       "description_width": ""
      }
     },
     "a9cdb8511cfb4a06b86950779cb7ca93": {
      "model_module": "@jupyter-widgets/base",
      "model_module_version": "1.2.0",
      "model_name": "LayoutModel",
      "state": {
       "_model_module_version": "1.2.0",
       "_view_module_version": "1.2.0",
       "justify_items": null,
       "object_fit": null,
       "object_position": null
      }
     },
     "aaaa15c66e5441afac997d46f0ed25ce": {
      "model_module": "@jupyter-widgets/controls",
      "model_module_version": "1.5.0",
      "model_name": "ProgressStyleModel",
      "state": {
       "_model_module_version": "1.5.0",
       "_view_module_version": "1.2.0",
       "description_width": "initial"
      }
     },
     "aad67d4db39746f0a1082cbc85cb4c09": {
      "model_module": "@jupyter-widgets/controls",
      "model_module_version": "1.5.0",
      "model_name": "HTMLModel",
      "state": {
       "_model_module_version": "1.5.0",
       "_view_module_version": "1.5.0",
       "layout": "IPY_MODEL_227f5a1022db4483ab1873e837347e26",
       "style": "IPY_MODEL_3422479d758d4afdaf85b33b7501fd0b",
       "value": " 5/5 [01:17&lt;00:00, 15.56s/it, test_error_epoch=0.243, test_loss_epoch=0.516, train_loss_epoch=0.518]"
      }
     },
     "ab22860528ee453eade95e2d8c1e4e34": {
      "model_module": "@jupyter-widgets/controls",
      "model_module_version": "1.5.0",
      "model_name": "FloatProgressModel",
      "state": {
       "_model_module_version": "1.5.0",
       "_view_module_version": "1.5.0",
       "bar_style": "danger",
       "description": "Epoch Loop:  13%",
       "layout": "IPY_MODEL_b5259588ebc44893a84299d13f885e88",
       "max": 15,
       "style": "IPY_MODEL_8316ae2e6f3e42d88ca28bf19345782b",
       "value": 2
      }
     },
     "abd91d9cd76a43c79cb93eb759fa16a6": {
      "model_module": "@jupyter-widgets/controls",
      "model_module_version": "1.5.0",
      "model_name": "FloatProgressModel",
      "state": {
       "_model_module_version": "1.5.0",
       "_view_module_version": "1.5.0",
       "bar_style": "success",
       "description": "Epoch Loop: 100%",
       "layout": "IPY_MODEL_4d6df0664c8f4a529bbab851226144c4",
       "max": 5,
       "style": "IPY_MODEL_a23ded1d8d4743f9a3e148b75f79fc69",
       "value": 5
      }
     },
     "acda2550b52040f8829481075bff2d00": {
      "model_module": "@jupyter-widgets/controls",
      "model_module_version": "1.5.0",
      "model_name": "ProgressStyleModel",
      "state": {
       "_model_module_version": "1.5.0",
       "_view_module_version": "1.2.0",
       "description_width": "initial"
      }
     },
     "ad164bc198c24a4da9b01d444abb77b2": {
      "model_module": "@jupyter-widgets/controls",
      "model_module_version": "1.5.0",
      "model_name": "FloatProgressModel",
      "state": {
       "_model_module_version": "1.5.0",
       "_view_module_version": "1.5.0",
       "bar_style": "danger",
       "description": "Epoch Loop:   0%",
       "layout": "IPY_MODEL_dfca709b5eeb4fcb9046380f8e9b73c0",
       "max": 5,
       "style": "IPY_MODEL_99e022b0c6e64630b7eea3bb3f06e9d3"
      }
     },
     "aea137f5bd854923b1a6d71f57912265": {
      "model_module": "@jupyter-widgets/base",
      "model_module_version": "1.2.0",
      "model_name": "LayoutModel",
      "state": {
       "_model_module_version": "1.2.0",
       "_view_module_version": "1.2.0",
       "justify_items": null,
       "object_fit": null,
       "object_position": null
      }
     },
     "b353cb1364f24b21812928d9c0dcfa8c": {
      "model_module": "@jupyter-widgets/controls",
      "model_module_version": "1.5.0",
      "model_name": "HBoxModel",
      "state": {
       "_model_module_version": "1.5.0",
       "_view_module_version": "1.5.0",
       "children": [
        "IPY_MODEL_3ac744b1353f4dd5952621fefc35b4d1",
        "IPY_MODEL_1d23fa4814a54a4f8349aeaa3d962ee4"
       ],
       "layout": "IPY_MODEL_cbde7c7a3b024262b9685979377a19cd"
      }
     },
     "b48b65962143419fb5f6f165ed05bbd3": {
      "model_module": "@jupyter-widgets/base",
      "model_module_version": "1.2.0",
      "model_name": "LayoutModel",
      "state": {
       "_model_module_version": "1.2.0",
       "_view_module_version": "1.2.0",
       "justify_items": null,
       "object_fit": null,
       "object_position": null
      }
     },
     "b5259588ebc44893a84299d13f885e88": {
      "model_module": "@jupyter-widgets/base",
      "model_module_version": "1.2.0",
      "model_name": "LayoutModel",
      "state": {
       "_model_module_version": "1.2.0",
       "_view_module_version": "1.2.0",
       "justify_items": null,
       "object_fit": null,
       "object_position": null
      }
     },
     "b5402ca2b9be472d89b0abbcc9c2237a": {
      "model_module": "@jupyter-widgets/base",
      "model_module_version": "1.2.0",
      "model_name": "LayoutModel",
      "state": {
       "_model_module_version": "1.2.0",
       "_view_module_version": "1.2.0",
       "justify_items": null,
       "object_fit": null,
       "object_position": null
      }
     },
     "b54a967c866540baa6c40e9c7c58e0ba": {
      "model_module": "@jupyter-widgets/base",
      "model_module_version": "1.2.0",
      "model_name": "LayoutModel",
      "state": {
       "_model_module_version": "1.2.0",
       "_view_module_version": "1.2.0",
       "justify_items": null,
       "object_fit": null,
       "object_position": null
      }
     },
     "b5852ba141ed4f71bee48bd466c4352e": {
      "model_module": "@jupyter-widgets/controls",
      "model_module_version": "1.5.0",
      "model_name": "HTMLModel",
      "state": {
       "_model_module_version": "1.5.0",
       "_view_module_version": "1.5.0",
       "layout": "IPY_MODEL_b54a967c866540baa6c40e9c7c58e0ba",
       "style": "IPY_MODEL_dcfd7866e5f74a049eb2a871fe35e55d",
       "value": " 5/5 [01:20&lt;00:00, 16.18s/it, test_error_epoch=0.243, test_loss_epoch=0.516, train_loss_epoch=0.518]"
      }
     },
     "b7735e7b67804f44847806303ea7c2f2": {
      "model_module": "@jupyter-widgets/controls",
      "model_module_version": "1.5.0",
      "model_name": "HBoxModel",
      "state": {
       "_model_module_version": "1.5.0",
       "_view_module_version": "1.5.0",
       "children": [
        "IPY_MODEL_75547149b6d8463991d334e8e2d8f67f",
        "IPY_MODEL_573020405c5e4a0e9f04ae9fcc8f6dd3"
       ],
       "layout": "IPY_MODEL_66b282441f7e43dc9d03ba5f56262fd0"
      }
     },
     "b82a333a27a7427dba140e0886f54019": {
      "model_module": "@jupyter-widgets/base",
      "model_module_version": "1.2.0",
      "model_name": "LayoutModel",
      "state": {
       "_model_module_version": "1.2.0",
       "_view_module_version": "1.2.0",
       "justify_items": null,
       "object_fit": null,
       "object_position": null
      }
     },
     "b8a30caf780848888d8f8c6e61820a81": {
      "model_module": "@jupyter-widgets/controls",
      "model_module_version": "1.5.0",
      "model_name": "DescriptionStyleModel",
      "state": {
       "_model_module_version": "1.5.0",
       "_view_module_version": "1.2.0",
       "description_width": ""
      }
     },
     "ba657b2a539e4a87b8e30583b6a1a44e": {
      "model_module": "@jupyter-widgets/controls",
      "model_module_version": "1.5.0",
      "model_name": "HTMLModel",
      "state": {
       "_model_module_version": "1.5.0",
       "_view_module_version": "1.5.0",
       "layout": "IPY_MODEL_7ad7ae369f8c4d0daa427718571297db",
       "style": "IPY_MODEL_3ab0a733f29149c38c64689a8e6ae7bb",
       "value": " 0/15 [03:14&lt;?, ?it/s]"
      }
     },
     "bc18a59b179d48fdb8924a4e2fcc556c": {
      "model_module": "@jupyter-widgets/controls",
      "model_module_version": "1.5.0",
      "model_name": "FloatProgressModel",
      "state": {
       "_model_module_version": "1.5.0",
       "_view_module_version": "1.5.0",
       "bar_style": "success",
       "description": "1st loop(Epoch): 100%",
       "layout": "IPY_MODEL_7a1d477875684db2b8adad04f561fd99",
       "max": 15,
       "style": "IPY_MODEL_d45b3c022d764284bb64eebd17fd497b",
       "value": 15
      }
     },
     "bc483b9bfa884a1c9938665d8adeb19c": {
      "model_module": "@jupyter-widgets/controls",
      "model_module_version": "1.5.0",
      "model_name": "FloatProgressModel",
      "state": {
       "_model_module_version": "1.5.0",
       "_view_module_version": "1.5.0",
       "bar_style": "success",
       "description": "Epoch Loop: 100%",
       "layout": "IPY_MODEL_d96926fdc3f9442f8cba02761489d644",
       "max": 15,
       "style": "IPY_MODEL_377e8b1eb7ee4f8d8e003199485906f0",
       "value": 15
      }
     },
     "bc5cf9d9397d42b4b67a9eaf72d6beeb": {
      "model_module": "@jupyter-widgets/controls",
      "model_module_version": "1.5.0",
      "model_name": "HBoxModel",
      "state": {
       "_model_module_version": "1.5.0",
       "_view_module_version": "1.5.0",
       "children": [
        "IPY_MODEL_43684f2d6d1b49ccab4c5e35fad0c774",
        "IPY_MODEL_849397f573584d118f4545c5cc8eaa72"
       ],
       "layout": "IPY_MODEL_159df92e536a478e97b0c3cf15cd698f"
      }
     },
     "bdf6057376ae4909b41f49481cb7981c": {
      "model_module": "@jupyter-widgets/controls",
      "model_module_version": "1.5.0",
      "model_name": "HTMLModel",
      "state": {
       "_model_module_version": "1.5.0",
       "_view_module_version": "1.5.0",
       "layout": "IPY_MODEL_a9cdb8511cfb4a06b86950779cb7ca93",
       "style": "IPY_MODEL_558d1cd5ef78404d8cf276d3e5cb88f4",
       "value": " 15/15 [04:47&lt;00:00, 19.14s/it, test_error_epoch=0.243, test_loss_epoch=0.514, train_loss_epoch=0.517]"
      }
     },
     "bef657196b9e4f49a4bdc3503cda3057": {
      "model_module": "@jupyter-widgets/controls",
      "model_module_version": "1.5.0",
      "model_name": "ProgressStyleModel",
      "state": {
       "_model_module_version": "1.5.0",
       "_view_module_version": "1.2.0",
       "description_width": "initial"
      }
     },
     "c168d361abe94b4e865bcc1b7dd7e94c": {
      "model_module": "@jupyter-widgets/controls",
      "model_module_version": "1.5.0",
      "model_name": "DescriptionStyleModel",
      "state": {
       "_model_module_version": "1.5.0",
       "_view_module_version": "1.2.0",
       "description_width": ""
      }
     },
     "c273384657de4279b08263f887e960eb": {
      "model_module": "@jupyter-widgets/controls",
      "model_module_version": "1.5.0",
      "model_name": "FloatProgressModel",
      "state": {
       "_model_module_version": "1.5.0",
       "_view_module_version": "1.5.0",
       "bar_style": "success",
       "description": "Epoch Loop: 100%",
       "layout": "IPY_MODEL_96d72c62ca934f1e8cf820b914680106",
       "max": 15,
       "style": "IPY_MODEL_7f41606db96d4696be44b65a8d52d64b",
       "value": 15
      }
     },
     "c2d9e8d34eea464380ac3fdd8049cc62": {
      "model_module": "@jupyter-widgets/controls",
      "model_module_version": "1.5.0",
      "model_name": "HBoxModel",
      "state": {
       "_model_module_version": "1.5.0",
       "_view_module_version": "1.5.0",
       "children": [
        "IPY_MODEL_20fc614c5e9243d28341966a844a8460",
        "IPY_MODEL_ca815b39d4b84654a85a0203145a86c6"
       ],
       "layout": "IPY_MODEL_63047b661b694545849023aa5e1d5b7a"
      }
     },
     "c3f70a36bb0b4d0d8a7e447ea6f0bab3": {
      "model_module": "@jupyter-widgets/controls",
      "model_module_version": "1.5.0",
      "model_name": "DescriptionStyleModel",
      "state": {
       "_model_module_version": "1.5.0",
       "_view_module_version": "1.2.0",
       "description_width": ""
      }
     },
     "c5bca2694fa24d7ca5f41e7ecc3f9d72": {
      "model_module": "@jupyter-widgets/base",
      "model_module_version": "1.2.0",
      "model_name": "LayoutModel",
      "state": {
       "_model_module_version": "1.2.0",
       "_view_module_version": "1.2.0",
       "justify_items": null,
       "object_fit": null,
       "object_position": null
      }
     },
     "c6e6a3f81b4c45ad8504b44bca6c80cb": {
      "model_module": "@jupyter-widgets/controls",
      "model_module_version": "1.5.0",
      "model_name": "HTMLModel",
      "state": {
       "_model_module_version": "1.5.0",
       "_view_module_version": "1.5.0",
       "layout": "IPY_MODEL_e9d7ab235af94602b51f1cdb7780a15f",
       "style": "IPY_MODEL_a8ccbb80665a43c9b7d0d7fdecd2bb77",
       "value": " 0/5 [02:22&lt;?, ?it/s]"
      }
     },
     "c7ffb9c339e142fb84bc088176829f79": {
      "model_module": "@jupyter-widgets/base",
      "model_module_version": "1.2.0",
      "model_name": "LayoutModel",
      "state": {
       "_model_module_version": "1.2.0",
       "_view_module_version": "1.2.0",
       "justify_items": null,
       "object_fit": null,
       "object_position": null
      }
     },
     "c80fe4955465451a87876659dbfceb17": {
      "model_module": "@jupyter-widgets/controls",
      "model_module_version": "1.5.0",
      "model_name": "HTMLModel",
      "state": {
       "_model_module_version": "1.5.0",
       "_view_module_version": "1.5.0",
       "layout": "IPY_MODEL_aea137f5bd854923b1a6d71f57912265",
       "style": "IPY_MODEL_322165f9784c4d3fa3013cc23228a68c",
       "value": " 15/15 [07:40&lt;00:00, 30.67s/it, test_error_epoch=0.0412, test_loss_epoch=0.204, train_loss_epoch=0.145]"
      }
     },
     "ca27f9d0528c475fb4c3041903534ab9": {
      "model_module": "@jupyter-widgets/controls",
      "model_module_version": "1.5.0",
      "model_name": "HBoxModel",
      "state": {
       "_model_module_version": "1.5.0",
       "_view_module_version": "1.5.0",
       "children": [
        "IPY_MODEL_13e719d98aa541e8b806547fe850eec1",
        "IPY_MODEL_da5cd085225644d780b78293423b3d82"
       ],
       "layout": "IPY_MODEL_3e223218d9cd40afafb9490aa555d3d4"
      }
     },
     "ca815b39d4b84654a85a0203145a86c6": {
      "model_module": "@jupyter-widgets/controls",
      "model_module_version": "1.5.0",
      "model_name": "HTMLModel",
      "state": {
       "_model_module_version": "1.5.0",
       "_view_module_version": "1.5.0",
       "layout": "IPY_MODEL_39633ac3dde3495fa6b624139c3eee32",
       "style": "IPY_MODEL_1464c6276f464a8697d7c8e4b5bb460c",
       "value": " 5/5 [01:24&lt;00:00, 16.98s/it, test_error_epoch=0.243, test_loss_epoch=0.514, train_loss_epoch=0.517]"
      }
     },
     "cb0f93479fca4667b58f3ea2fea7dbd4": {
      "model_module": "@jupyter-widgets/controls",
      "model_module_version": "1.5.0",
      "model_name": "HBoxModel",
      "state": {
       "_model_module_version": "1.5.0",
       "_view_module_version": "1.5.0",
       "children": [
        "IPY_MODEL_096094442d7d4c80bad916459003542b",
        "IPY_MODEL_a4bf90962b4a42dab2ad1a5798337d42"
       ],
       "layout": "IPY_MODEL_2a23529f81c14140bd0720e2f854f0e1"
      }
     },
     "cb8fbb3569774f0daf91b5c3f334b45e": {
      "model_module": "@jupyter-widgets/controls",
      "model_module_version": "1.5.0",
      "model_name": "ProgressStyleModel",
      "state": {
       "_model_module_version": "1.5.0",
       "_view_module_version": "1.2.0",
       "description_width": "initial"
      }
     },
     "cbde7c7a3b024262b9685979377a19cd": {
      "model_module": "@jupyter-widgets/base",
      "model_module_version": "1.2.0",
      "model_name": "LayoutModel",
      "state": {
       "_model_module_version": "1.2.0",
       "_view_module_version": "1.2.0",
       "justify_items": null,
       "object_fit": null,
       "object_position": null
      }
     },
     "cbe308240f0d43c99277711da9a97aae": {
      "model_module": "@jupyter-widgets/base",
      "model_module_version": "1.2.0",
      "model_name": "LayoutModel",
      "state": {
       "_model_module_version": "1.2.0",
       "_view_module_version": "1.2.0",
       "justify_items": null,
       "object_fit": null,
       "object_position": null
      }
     },
     "ce8c7e9b32424c459e1a2de841f20c8b": {
      "model_module": "@jupyter-widgets/base",
      "model_module_version": "1.2.0",
      "model_name": "LayoutModel",
      "state": {
       "_model_module_version": "1.2.0",
       "_view_module_version": "1.2.0",
       "justify_items": null,
       "object_fit": null,
       "object_position": null
      }
     },
     "d0eca3f04c7e480f9782b085af74289b": {
      "model_module": "@jupyter-widgets/controls",
      "model_module_version": "1.5.0",
      "model_name": "ProgressStyleModel",
      "state": {
       "_model_module_version": "1.5.0",
       "_view_module_version": "1.2.0",
       "description_width": "initial"
      }
     },
     "d16a4a55b2684a27851171165d9252ac": {
      "model_module": "@jupyter-widgets/base",
      "model_module_version": "1.2.0",
      "model_name": "LayoutModel",
      "state": {
       "_model_module_version": "1.2.0",
       "_view_module_version": "1.2.0",
       "justify_items": null,
       "object_fit": null,
       "object_position": null
      }
     },
     "d16fdbf186d34924af4ca06db7c57bc9": {
      "model_module": "@jupyter-widgets/controls",
      "model_module_version": "1.5.0",
      "model_name": "ProgressStyleModel",
      "state": {
       "_model_module_version": "1.5.0",
       "_view_module_version": "1.2.0",
       "description_width": "initial"
      }
     },
     "d37eb71caac94211a3525643cb6219a2": {
      "model_module": "@jupyter-widgets/base",
      "model_module_version": "1.2.0",
      "model_name": "LayoutModel",
      "state": {
       "_model_module_version": "1.2.0",
       "_view_module_version": "1.2.0",
       "justify_items": null,
       "object_fit": null,
       "object_position": null
      }
     },
     "d3e77c5e7b554edbbd682f373929e81c": {
      "model_module": "@jupyter-widgets/controls",
      "model_module_version": "1.5.0",
      "model_name": "HTMLModel",
      "state": {
       "_model_module_version": "1.5.0",
       "_view_module_version": "1.5.0",
       "layout": "IPY_MODEL_8a7a1bdeb94e426e8daafb6ce4a5956d",
       "style": "IPY_MODEL_d877261980a74f299746bab63ed656ed",
       "value": " 0/5 [03:23&lt;?, ?it/s]"
      }
     },
     "d45b3c022d764284bb64eebd17fd497b": {
      "model_module": "@jupyter-widgets/controls",
      "model_module_version": "1.5.0",
      "model_name": "ProgressStyleModel",
      "state": {
       "_model_module_version": "1.5.0",
       "_view_module_version": "1.2.0",
       "description_width": "initial"
      }
     },
     "d5e0e7a8e0f642b08d47d7981cbbb02d": {
      "model_module": "@jupyter-widgets/base",
      "model_module_version": "1.2.0",
      "model_name": "LayoutModel",
      "state": {
       "_model_module_version": "1.2.0",
       "_view_module_version": "1.2.0",
       "justify_items": null,
       "object_fit": null,
       "object_position": null
      }
     },
     "d6779f65651c41eaa2a129b2dcb684bd": {
      "model_module": "@jupyter-widgets/controls",
      "model_module_version": "1.5.0",
      "model_name": "HBoxModel",
      "state": {
       "_model_module_version": "1.5.0",
       "_view_module_version": "1.5.0",
       "children": [
        "IPY_MODEL_3557bbf95c5c4f418076b9f7e391e3aa",
        "IPY_MODEL_849ab1b9114f4bc8b808f49cc59194b4"
       ],
       "layout": "IPY_MODEL_7f86456da35d44a4834ec66ee605c433"
      }
     },
     "d77cc53482b843eea8b79681ac54a864": {
      "model_module": "@jupyter-widgets/controls",
      "model_module_version": "1.5.0",
      "model_name": "ProgressStyleModel",
      "state": {
       "_model_module_version": "1.5.0",
       "_view_module_version": "1.2.0",
       "description_width": "initial"
      }
     },
     "d877261980a74f299746bab63ed656ed": {
      "model_module": "@jupyter-widgets/controls",
      "model_module_version": "1.5.0",
      "model_name": "DescriptionStyleModel",
      "state": {
       "_model_module_version": "1.5.0",
       "_view_module_version": "1.2.0",
       "description_width": ""
      }
     },
     "d93ada90003341419669a5f7f74790b8": {
      "model_module": "@jupyter-widgets/controls",
      "model_module_version": "1.5.0",
      "model_name": "HTMLModel",
      "state": {
       "_model_module_version": "1.5.0",
       "_view_module_version": "1.5.0",
       "layout": "IPY_MODEL_ed724c9007384173ac50befe419ef859",
       "style": "IPY_MODEL_4a07f859bf3b461ba65c84bdea1f50f6",
       "value": " 5/5 [01:27&lt;00:00, 17.57s/it, test_error_epoch=0.25, test_loss_epoch=0.526, train_loss_epoch=0.531]"
      }
     },
     "d96926fdc3f9442f8cba02761489d644": {
      "model_module": "@jupyter-widgets/base",
      "model_module_version": "1.2.0",
      "model_name": "LayoutModel",
      "state": {
       "_model_module_version": "1.2.0",
       "_view_module_version": "1.2.0",
       "justify_items": null,
       "object_fit": null,
       "object_position": null
      }
     },
     "da5cd085225644d780b78293423b3d82": {
      "model_module": "@jupyter-widgets/controls",
      "model_module_version": "1.5.0",
      "model_name": "HTMLModel",
      "state": {
       "_model_module_version": "1.5.0",
       "_view_module_version": "1.5.0",
       "layout": "IPY_MODEL_ce8c7e9b32424c459e1a2de841f20c8b",
       "style": "IPY_MODEL_88ba169a3c9048b1b968ab6d46e95826",
       "value": " 15/15 [02:42&lt;00:00, 10.85s/it, test_error_epoch=0.384, test_loss_epoch=1.34, train_loss_epoch=1.34]"
      }
     },
     "dad161a2064f4b1485d402f0341d32d5": {
      "model_module": "@jupyter-widgets/controls",
      "model_module_version": "1.5.0",
      "model_name": "ProgressStyleModel",
      "state": {
       "_model_module_version": "1.5.0",
       "_view_module_version": "1.2.0",
       "description_width": "initial"
      }
     },
     "dadc8cb3c15543588cb942a3782f6038": {
      "model_module": "@jupyter-widgets/controls",
      "model_module_version": "1.5.0",
      "model_name": "HBoxModel",
      "state": {
       "_model_module_version": "1.5.0",
       "_view_module_version": "1.5.0",
       "children": [
        "IPY_MODEL_8fc05de21f5f474d955b19066eb6ef57",
        "IPY_MODEL_dc06bab8ee774d86a4d187b6e1b44cbe"
       ],
       "layout": "IPY_MODEL_7e9275d2fa094ffa8e2c869e1bdac40c"
      }
     },
     "dc06bab8ee774d86a4d187b6e1b44cbe": {
      "model_module": "@jupyter-widgets/controls",
      "model_module_version": "1.5.0",
      "model_name": "HTMLModel",
      "state": {
       "_model_module_version": "1.5.0",
       "_view_module_version": "1.5.0",
       "layout": "IPY_MODEL_16f0c85dff8748729b8a113ddcdd17bd",
       "style": "IPY_MODEL_ea8817da74a94da09aa7bdc47c52533c",
       "value": " 2/15 [01:12&lt;07:51, 36.30s/it, test_error_epoch=0.0759, test_loss_epoch=0.391, train_loss_epoch=0.445]"
      }
     },
     "dc818f91a6dd44d096527e0655a3575b": {
      "model_module": "@jupyter-widgets/controls",
      "model_module_version": "1.5.0",
      "model_name": "HBoxModel",
      "state": {
       "_model_module_version": "1.5.0",
       "_view_module_version": "1.5.0",
       "children": [
        "IPY_MODEL_bc483b9bfa884a1c9938665d8adeb19c",
        "IPY_MODEL_bdf6057376ae4909b41f49481cb7981c"
       ],
       "layout": "IPY_MODEL_9ecf5c5cdd1d42968356501881767479"
      }
     },
     "dcfd7866e5f74a049eb2a871fe35e55d": {
      "model_module": "@jupyter-widgets/controls",
      "model_module_version": "1.5.0",
      "model_name": "DescriptionStyleModel",
      "state": {
       "_model_module_version": "1.5.0",
       "_view_module_version": "1.2.0",
       "description_width": ""
      }
     },
     "de0f02bd4f254c3c906ac6467ab48416": {
      "model_module": "@jupyter-widgets/base",
      "model_module_version": "1.2.0",
      "model_name": "LayoutModel",
      "state": {
       "_model_module_version": "1.2.0",
       "_view_module_version": "1.2.0",
       "justify_items": null,
       "object_fit": null,
       "object_position": null
      }
     },
     "deb2775db5754d119b2e53c591d8146b": {
      "model_module": "@jupyter-widgets/base",
      "model_module_version": "1.2.0",
      "model_name": "LayoutModel",
      "state": {
       "_model_module_version": "1.2.0",
       "_view_module_version": "1.2.0",
       "justify_items": null,
       "object_fit": null,
       "object_position": null
      }
     },
     "dee13f99ab9b4840b5f8d08d439fdda8": {
      "model_module": "@jupyter-widgets/controls",
      "model_module_version": "1.5.0",
      "model_name": "FloatProgressModel",
      "state": {
       "_model_module_version": "1.5.0",
       "_view_module_version": "1.5.0",
       "bar_style": "success",
       "description": "Epoch Loop: 100%",
       "layout": "IPY_MODEL_6e92192dff1043ec908c8dbf250ab94d",
       "max": 5,
       "style": "IPY_MODEL_0df06dbc1d544bad867f677df967b40d",
       "value": 5
      }
     },
     "dfca709b5eeb4fcb9046380f8e9b73c0": {
      "model_module": "@jupyter-widgets/base",
      "model_module_version": "1.2.0",
      "model_name": "LayoutModel",
      "state": {
       "_model_module_version": "1.2.0",
       "_view_module_version": "1.2.0",
       "justify_items": null,
       "object_fit": null,
       "object_position": null
      }
     },
     "e0e5dd760cd347b7a7fc977b5b8183f1": {
      "model_module": "@jupyter-widgets/base",
      "model_module_version": "1.2.0",
      "model_name": "LayoutModel",
      "state": {
       "_model_module_version": "1.2.0",
       "_view_module_version": "1.2.0",
       "justify_items": null,
       "object_fit": null,
       "object_position": null
      }
     },
     "e15a4b3957814f998f2bf9d638f8d2ac": {
      "model_module": "@jupyter-widgets/controls",
      "model_module_version": "1.5.0",
      "model_name": "HTMLModel",
      "state": {
       "_model_module_version": "1.5.0",
       "_view_module_version": "1.5.0",
       "layout": "IPY_MODEL_7837f0d1faf84c9db561d64e4cc446f8",
       "style": "IPY_MODEL_c168d361abe94b4e865bcc1b7dd7e94c",
       "value": " 0/5 [00:00&lt;?, ?it/s]"
      }
     },
     "e2260031f1bd4fb9858ee34aa00ceaee": {
      "model_module": "@jupyter-widgets/base",
      "model_module_version": "1.2.0",
      "model_name": "LayoutModel",
      "state": {
       "_model_module_version": "1.2.0",
       "_view_module_version": "1.2.0",
       "justify_items": null,
       "object_fit": null,
       "object_position": null
      }
     },
     "e275720c0ece40ce9b8d181d49ed75f4": {
      "model_module": "@jupyter-widgets/controls",
      "model_module_version": "1.5.0",
      "model_name": "FloatProgressModel",
      "state": {
       "_model_module_version": "1.5.0",
       "_view_module_version": "1.5.0",
       "bar_style": "danger",
       "description": "Epoch Loop:  80%",
       "layout": "IPY_MODEL_eb396f7f2f6d4c3ea49a0dfe9005ac52",
       "max": 5,
       "style": "IPY_MODEL_699911b82c49432bb89cef841b983a1b",
       "value": 4
      }
     },
     "e40dd628091c4eefabc9f3142883b8bb": {
      "model_module": "@jupyter-widgets/base",
      "model_module_version": "1.2.0",
      "model_name": "LayoutModel",
      "state": {
       "_model_module_version": "1.2.0",
       "_view_module_version": "1.2.0",
       "justify_items": null,
       "object_fit": null,
       "object_position": null
      }
     },
     "e5058e2cde0c4321b79165803857dd5a": {
      "model_module": "@jupyter-widgets/controls",
      "model_module_version": "1.5.0",
      "model_name": "DescriptionStyleModel",
      "state": {
       "_model_module_version": "1.5.0",
       "_view_module_version": "1.2.0",
       "description_width": ""
      }
     },
     "e55af2ea54774951a74e04c273fe6fbe": {
      "model_module": "@jupyter-widgets/controls",
      "model_module_version": "1.5.0",
      "model_name": "HBoxModel",
      "state": {
       "_model_module_version": "1.5.0",
       "_view_module_version": "1.5.0",
       "children": [
        "IPY_MODEL_76d396c7d3af497b96a3c901de30614d",
        "IPY_MODEL_b5852ba141ed4f71bee48bd466c4352e"
       ],
       "layout": "IPY_MODEL_1eedf73fc2434b64b49dae932308c9ea"
      }
     },
     "e5b431ac4d194a9da211420c47ad0585": {
      "model_module": "@jupyter-widgets/base",
      "model_module_version": "1.2.0",
      "model_name": "LayoutModel",
      "state": {
       "_model_module_version": "1.2.0",
       "_view_module_version": "1.2.0",
       "justify_items": null,
       "object_fit": null,
       "object_position": null
      }
     },
     "e6205e56e48c4ffeb6c82502cf8969ba": {
      "model_module": "@jupyter-widgets/controls",
      "model_module_version": "1.5.0",
      "model_name": "DescriptionStyleModel",
      "state": {
       "_model_module_version": "1.5.0",
       "_view_module_version": "1.2.0",
       "description_width": ""
      }
     },
     "e75a1934862c499d8d253657ba05a819": {
      "model_module": "@jupyter-widgets/controls",
      "model_module_version": "1.5.0",
      "model_name": "HBoxModel",
      "state": {
       "_model_module_version": "1.5.0",
       "_view_module_version": "1.5.0",
       "children": [
        "IPY_MODEL_a610d88dfd7b4061a403bf17ad346354",
        "IPY_MODEL_4923c57b23e849188dc4dfba61f2d8a6"
       ],
       "layout": "IPY_MODEL_2e8282012ee74f1aad4b334a5229478c"
      }
     },
     "e7b6ee83b4484ad087d0ff793d1de229": {
      "model_module": "@jupyter-widgets/controls",
      "model_module_version": "1.5.0",
      "model_name": "FloatProgressModel",
      "state": {
       "_model_module_version": "1.5.0",
       "_view_module_version": "1.5.0",
       "bar_style": "danger",
       "description": "Epoch Loop:   0%",
       "layout": "IPY_MODEL_e2260031f1bd4fb9858ee34aa00ceaee",
       "max": 15,
       "style": "IPY_MODEL_7da36b8f842f4e6d91c07c128865bb05"
      }
     },
     "e84c1e08e7e74ae59205cb6f71bcaeb4": {
      "model_module": "@jupyter-widgets/controls",
      "model_module_version": "1.5.0",
      "model_name": "FloatProgressModel",
      "state": {
       "_model_module_version": "1.5.0",
       "_view_module_version": "1.5.0",
       "bar_style": "danger",
       "description": "Epoch Loop:   7%",
       "layout": "IPY_MODEL_09677983351948289b0c0fb404e3e82b",
       "max": 15,
       "style": "IPY_MODEL_f331a06ac4c44558bb4a4f6014b9b69b",
       "value": 1
      }
     },
     "e907806788a54e70801d39fd426d7f1e": {
      "model_module": "@jupyter-widgets/controls",
      "model_module_version": "1.5.0",
      "model_name": "ProgressStyleModel",
      "state": {
       "_model_module_version": "1.5.0",
       "_view_module_version": "1.2.0",
       "description_width": "initial"
      }
     },
     "e9d7ab235af94602b51f1cdb7780a15f": {
      "model_module": "@jupyter-widgets/base",
      "model_module_version": "1.2.0",
      "model_name": "LayoutModel",
      "state": {
       "_model_module_version": "1.2.0",
       "_view_module_version": "1.2.0",
       "justify_items": null,
       "object_fit": null,
       "object_position": null
      }
     },
     "ea8817da74a94da09aa7bdc47c52533c": {
      "model_module": "@jupyter-widgets/controls",
      "model_module_version": "1.5.0",
      "model_name": "DescriptionStyleModel",
      "state": {
       "_model_module_version": "1.5.0",
       "_view_module_version": "1.2.0",
       "description_width": ""
      }
     },
     "eb396f7f2f6d4c3ea49a0dfe9005ac52": {
      "model_module": "@jupyter-widgets/base",
      "model_module_version": "1.2.0",
      "model_name": "LayoutModel",
      "state": {
       "_model_module_version": "1.2.0",
       "_view_module_version": "1.2.0",
       "justify_items": null,
       "object_fit": null,
       "object_position": null
      }
     },
     "ecb8289a60174e58b63f2f9e5318017f": {
      "model_module": "@jupyter-widgets/base",
      "model_module_version": "1.2.0",
      "model_name": "LayoutModel",
      "state": {
       "_model_module_version": "1.2.0",
       "_view_module_version": "1.2.0",
       "justify_items": null,
       "object_fit": null,
       "object_position": null
      }
     },
     "ed3461bcd88542d197f460f974e98f33": {
      "model_module": "@jupyter-widgets/controls",
      "model_module_version": "1.5.0",
      "model_name": "ProgressStyleModel",
      "state": {
       "_model_module_version": "1.5.0",
       "_view_module_version": "1.2.0",
       "description_width": "initial"
      }
     },
     "ed724c9007384173ac50befe419ef859": {
      "model_module": "@jupyter-widgets/base",
      "model_module_version": "1.2.0",
      "model_name": "LayoutModel",
      "state": {
       "_model_module_version": "1.2.0",
       "_view_module_version": "1.2.0",
       "justify_items": null,
       "object_fit": null,
       "object_position": null
      }
     },
     "ef90ac72449249e492236552c7d9d121": {
      "model_module": "@jupyter-widgets/controls",
      "model_module_version": "1.5.0",
      "model_name": "HTMLModel",
      "state": {
       "_model_module_version": "1.5.0",
       "_view_module_version": "1.5.0",
       "layout": "IPY_MODEL_8e9960be46c24be986b428d8fecba474",
       "style": "IPY_MODEL_86cff6071459470da31e676bb6c705f9",
       "value": " 15/15 [02:50&lt;00:00, 11.39s/it, test_error_epoch=0.305, test_loss_epoch=0.61, train_loss_epoch=0.608]"
      }
     },
     "f19062d6012c44fcb15aae4e236eb68d": {
      "model_module": "@jupyter-widgets/controls",
      "model_module_version": "1.5.0",
      "model_name": "FloatProgressModel",
      "state": {
       "_model_module_version": "1.5.0",
       "_view_module_version": "1.5.0",
       "bar_style": "success",
       "description": "Epoch Loop: 100%",
       "layout": "IPY_MODEL_fdc4b434ee7e41bdaae4d9786a739c3d",
       "max": 5,
       "style": "IPY_MODEL_926594e4807947b7a9a867b3d75f7c38",
       "value": 5
      }
     },
     "f331a06ac4c44558bb4a4f6014b9b69b": {
      "model_module": "@jupyter-widgets/controls",
      "model_module_version": "1.5.0",
      "model_name": "ProgressStyleModel",
      "state": {
       "_model_module_version": "1.5.0",
       "_view_module_version": "1.2.0",
       "description_width": "initial"
      }
     },
     "f5150c3ed91645fda90676508ff07a95": {
      "model_module": "@jupyter-widgets/base",
      "model_module_version": "1.2.0",
      "model_name": "LayoutModel",
      "state": {
       "_model_module_version": "1.2.0",
       "_view_module_version": "1.2.0",
       "justify_items": null,
       "object_fit": null,
       "object_position": null
      }
     },
     "f5f03553eef34e96830e8fd75030ac91": {
      "model_module": "@jupyter-widgets/controls",
      "model_module_version": "1.5.0",
      "model_name": "FloatProgressModel",
      "state": {
       "_model_module_version": "1.5.0",
       "_view_module_version": "1.5.0",
       "bar_style": "success",
       "description": "Epoch Loop: 100%",
       "layout": "IPY_MODEL_1ef3d7122d2d4bcfa0600398613a2fe5",
       "max": 15,
       "style": "IPY_MODEL_5d832407f0284bb1a5f2fea85ff6396f",
       "value": 15
      }
     },
     "f6750b4973994dcf98d74a0d85f92089": {
      "model_module": "@jupyter-widgets/controls",
      "model_module_version": "1.5.0",
      "model_name": "ProgressStyleModel",
      "state": {
       "_model_module_version": "1.5.0",
       "_view_module_version": "1.2.0",
       "description_width": "initial"
      }
     },
     "f682e763be034c52b34f30f9cddf9dc3": {
      "model_module": "@jupyter-widgets/base",
      "model_module_version": "1.2.0",
      "model_name": "LayoutModel",
      "state": {
       "_model_module_version": "1.2.0",
       "_view_module_version": "1.2.0",
       "justify_items": null,
       "object_fit": null,
       "object_position": null
      }
     },
     "f750759235ec44e8b328f1850137206c": {
      "model_module": "@jupyter-widgets/controls",
      "model_module_version": "1.5.0",
      "model_name": "DescriptionStyleModel",
      "state": {
       "_model_module_version": "1.5.0",
       "_view_module_version": "1.2.0",
       "description_width": ""
      }
     },
     "f80781e1a77044d8b77b3dec3b327812": {
      "model_module": "@jupyter-widgets/base",
      "model_module_version": "1.2.0",
      "model_name": "LayoutModel",
      "state": {
       "_model_module_version": "1.2.0",
       "_view_module_version": "1.2.0",
       "justify_items": null,
       "object_fit": null,
       "object_position": null
      }
     },
     "f99620b8c539453d841129cac7107960": {
      "model_module": "@jupyter-widgets/controls",
      "model_module_version": "1.5.0",
      "model_name": "DescriptionStyleModel",
      "state": {
       "_model_module_version": "1.5.0",
       "_view_module_version": "1.2.0",
       "description_width": ""
      }
     },
     "fa98e631b00c4a5e96402bd535d5bd05": {
      "model_module": "@jupyter-widgets/base",
      "model_module_version": "1.2.0",
      "model_name": "LayoutModel",
      "state": {
       "_model_module_version": "1.2.0",
       "_view_module_version": "1.2.0",
       "justify_items": null,
       "object_fit": null,
       "object_position": null
      }
     },
     "fa9d4f90149047ffa1b7564a602d02dc": {
      "model_module": "@jupyter-widgets/controls",
      "model_module_version": "1.5.0",
      "model_name": "HBoxModel",
      "state": {
       "_model_module_version": "1.5.0",
       "_view_module_version": "1.5.0",
       "children": [
        "IPY_MODEL_f19062d6012c44fcb15aae4e236eb68d",
        "IPY_MODEL_88679f84f6c74dc9bfda0f8b8010cacf"
       ],
       "layout": "IPY_MODEL_f80781e1a77044d8b77b3dec3b327812"
      }
     },
     "fb57696cd5034d6b9f1ca2d08b0e78dc": {
      "model_module": "@jupyter-widgets/base",
      "model_module_version": "1.2.0",
      "model_name": "LayoutModel",
      "state": {
       "_model_module_version": "1.2.0",
       "_view_module_version": "1.2.0",
       "justify_items": null,
       "object_fit": null,
       "object_position": null
      }
     },
     "fc0e9488206c4e9aaab22ae14fa20b40": {
      "model_module": "@jupyter-widgets/base",
      "model_module_version": "1.2.0",
      "model_name": "LayoutModel",
      "state": {
       "_model_module_version": "1.2.0",
       "_view_module_version": "1.2.0",
       "justify_items": null,
       "object_fit": null,
       "object_position": null
      }
     },
     "fdc4b434ee7e41bdaae4d9786a739c3d": {
      "model_module": "@jupyter-widgets/base",
      "model_module_version": "1.2.0",
      "model_name": "LayoutModel",
      "state": {
       "_model_module_version": "1.2.0",
       "_view_module_version": "1.2.0",
       "justify_items": null,
       "object_fit": null,
       "object_position": null
      }
     },
     "fdd45963edff441cbf4c96e90e7ce463": {
      "model_module": "@jupyter-widgets/controls",
      "model_module_version": "1.5.0",
      "model_name": "ProgressStyleModel",
      "state": {
       "_model_module_version": "1.5.0",
       "_view_module_version": "1.2.0",
       "description_width": "initial"
      }
     },
     "ff0bcf1cfcc942f4844694ec3fda91a8": {
      "model_module": "@jupyter-widgets/controls",
      "model_module_version": "1.5.0",
      "model_name": "HTMLModel",
      "state": {
       "_model_module_version": "1.5.0",
       "_view_module_version": "1.5.0",
       "layout": "IPY_MODEL_14ed10fab1c94e40a290f7b25ad068c3",
       "style": "IPY_MODEL_5045dd862a3243328442b3996e778e8f",
       "value": " 20/20 [11:01&lt;00:00, 33.06s/it, test_error_epoch=0.0385, test_loss_epoch=0.186, train_loss_epoch=0.124]"
      }
     },
     "ffa8af3a670c44a1acb60dcb9080cd2b": {
      "model_module": "@jupyter-widgets/controls",
      "model_module_version": "1.5.0",
      "model_name": "HTMLModel",
      "state": {
       "_model_module_version": "1.5.0",
       "_view_module_version": "1.5.0",
       "layout": "IPY_MODEL_3584b40e3a4b41ae94ce073bfab6d82e",
       "style": "IPY_MODEL_736e99adb2d84eaaae3c396f5fe7bf6e",
       "value": " 15/15 [03:58&lt;00:00, 15.89s/it, test_error_epoch=0.243, test_loss_epoch=0.514, train_loss_epoch=0.517]"
      }
     },
     "ffc8586a47c4415eb85730f6e88f9b2f": {
      "model_module": "@jupyter-widgets/base",
      "model_module_version": "1.2.0",
      "model_name": "LayoutModel",
      "state": {
       "_model_module_version": "1.2.0",
       "_view_module_version": "1.2.0",
       "justify_items": null,
       "object_fit": null,
       "object_position": null
      }
     }
    },
    "version_major": 2,
    "version_minor": 0
   }
  }
 },
 "nbformat": 4,
 "nbformat_minor": 2
}
