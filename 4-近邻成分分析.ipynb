{
 "cells": [
  {
   "cell_type": "markdown",
   "metadata": {},
   "source": [
    "# 近邻成分分析（Neighborhood Component Analysis）\n"
   ]
  },
  {
   "cell_type": "markdown",
   "metadata": {},
   "source": [
    "------------------"
   ]
  },
  {
   "cell_type": "markdown",
   "metadata": {},
   "source": [
    "## 理论分析\n",
    "### 模型（1）和模型（2）分别提出于NIPS 2005和NIPS 2006的两篇论文：\n",
    "\n",
    "#### 模型（1）\n",
    "*来自论文：Jacob Goldberger, Sam Roweis, Geoff Hinton, Ruslan Salakhutdinov. \"Neighbourhood components analysis.\" NIPS 2005.*  \n",
    "\n",
    "这篇论文是度量学习的经典论文。度量学习说白了就是对样本进行距离度量进而分类。这篇工作针对最基础的KNN（最近邻）方法的两大不足：  \n",
    "&nbsp;&nbsp;&nbsp;&nbsp;1.存储和计算开销（样本多，维度高）  \n",
    "&nbsp;&nbsp;&nbsp;&nbsp;2.距离到底如何度量（near是怎么定义的）  \n",
    "本篇工作提出了解决方案：学习一个线性变换（就是我们这里的$P$）将特征从初始特征空间投影到一个新的特征空间（低维度的，也即特征降维），然后再在新的特征空间中进行欧氏距离分类，其实这里**相当于做了一个基于矩阵$M=PP^T$的马氏距离**，因为$d(x, y)=(x-y)^{\\top} M(x-y)=(P x-P y)^{\\top}(P x-P y)$。  \n",
    "那么问题来了，这个线性变换要怎么学？作者提出，首先可以用距离$d(x_i, x_j)$的softmax形式来建模$x_i$和$x_j$属于同一类的概率：  \n",
    "$$p_{i j}=\\frac{\\exp \\left(-\\left\\|P x_{i}-P x_{j}\\right\\|^{2}\\right)}{\\sum_{k \\neq i} \\exp \\left(-\\left\\|P x_{i}-P x_{k}\\right\\|^{2}\\right)} \\quad, \\quad p_{i i}=0$$  \n",
    "那么$x_i$能被正确分类的概率正比于：\n",
    "$$p_{i}=\\sum_{j \\in C_{i}} p_{i j}$$\n",
    "于是我们要优化的函数就是，最大化（当然损失函数就是最小化该负数即可）：\n",
    "$$f(P)=\\sum_{i} \\sum_{j \\in C_{i}} p_{i j}=\\sum_{i} p_{i}$$  \n",
    "由于要用到梯度下降，故求出梯度形式：\n",
    "$$\\frac{\\partial f}{\\partial P}=2 P \\sum_{i}\\left(p_{i} \\sum_{k} p_{i k} x_{i k} x_{i k}^{\\top}-\\sum_{j \\in C_{i}} p_{i j} x_{i j} x_{i j}^{\\top}\\right)$$  \n",
    "\n",
    "\n",
    "\n",
    "#### 模型（2）\n",
    "*来自论文：Kilian Q. Weinberger, John Blitzer and Lawrence K. Saul. \"Distance metric learning for large margin nearest neighbor classification.\" NIPS 2006.*  \n",
    "\n",
    "这篇工作比模型（1）的论文晚一年发表，动机也在于：KNN简单高效但存在不足（一般KNN直接用欧氏距离，完全不考虑训练集数据的统计特性），故而必须像上一篇文章一样从训练样本中学习如何度量，这样能显著提高KNN的分类能力。本篇工作同样想学习一个马氏距离度量，那跟上一篇文章的不同点在哪里呢？  \n",
    "不同之处在于建模思路，本工作提出了不仅同一类别的样本要尽量接近，**而且约束不同类别的样本要尽量远离**，很像上学期模式识别才学过的线性判别分析LDA的类间散布矩阵与类内散布矩阵啊！所以说优秀的思想都是相通的...具体建模时就是增加了一个限制，不同类别距离不小于一个margin，诶这里又跟SVM的hinge loss很像啊！再一次说明优秀的思想都是想通的...具体的cost function如下：\n",
    "$$\\varepsilon(\\mathbf{P})=\\sum_{i j} \\eta_{i j}\\left\\|\\mathbf{P}\\left(\\vec{x}_{i}-\\vec{x}_{j}\\right)\\right\\|^{2}+c \\sum_{i j l} \\eta_{i j}\\left(1-y_{i l}\\right)\\left[1+\\left\\|\\mathbf{P}\\left(\\vec{x}_{i}-\\vec{x}_{j}\\right)\\right\\|^{2}-\\left\\|\\mathbf{P}\\left(\\vec{x}_{i}-\\vec{x}_{l}\\right)\\right\\|^{2}\\right]_{+}$$  \n",
    "其中$\\eta_{i j}$表示$x_j$是否是$x_i$的目标最近邻，所谓目标最近邻就是每个样本点选择K个同类的样本点作为目标最近邻，优化时尽量接近；$y_{i j}$表示$x_i$和$x_j$是否为同一类  \n",
    "可以将之建模成一个semidefinite program (SDP)问题，从而可以用凸优化的方法高效求解全局最小值，SDP问题如下：  \n",
    "$$Minimize \\sum_{i j} \\eta_{i j}\\left(\\vec{x}_{i}-\\vec{x}_{j}\\right)^{\\top} \\mathbf{M}\\left(\\vec{x}_{i}-\\vec{x}_{j}\\right)+c \\sum_{i j} \\eta_{i j}\\left(1-y_{i l}\\right) \\xi_{i j l}\\  subject\\ to:  $$\n",
    "$$(1) \\left(\\vec{x}_{i}-\\vec{x}_{l}\\right)^{\\top} \\mathbf{M}\\left(\\vec{x}_{i}-\\vec{x}_{l}\\right)-\\left(\\vec{x}_{i}-\\vec{x}_{j}\\right)^{\\top} \\mathbf{M}\\left(\\vec{x}_{i}-\\vec{x}_{j}\\right) \\geq 1-\\xi_{i j l} \\ \n",
    "(2) \\xi_{i j l} \\geq 0\\ \n",
    "(3) \\mathbf{M} \\succeq 0$$  \n",
    "论文中作者也有提到虽然已有成熟的算法求解最优值但他们还是用的梯度下降的算法，外加方便和模型（1）对比，因此我对模型（2）也还是采用SGD进行优化"
   ]
  },
  {
   "cell_type": "markdown",
   "metadata": {},
   "source": [
    "----------"
   ]
  },
  {
   "cell_type": "markdown",
   "metadata": {},
   "source": [
    "## 实验部分\n",
    "### 选用数据集：Wine数据集 [UCI Machine Learning Repository: Wine Data Set]\n",
    "#### 数据库网址：https://archive.ics.uci.edu/ml/machine-learning-databases/wine/\n",
    "##### 下载wine.data即可，以下代码就是load该数据文件，之后做近邻成分分析\n",
    "\n",
    "数据集信息：这些数据是对生长在意大利同一地区但来自三个不同品种的葡萄酒进行化学分析的结果。分析确定了这三种葡萄酒中各含有13种成分的量。"
   ]
  },
  {
   "cell_type": "code",
   "execution_count": 1,
   "metadata": {},
   "outputs": [],
   "source": [
    "import pandas as pd\n",
    "import numpy as np\n",
    "from matplotlib import pyplot as plt"
   ]
  },
  {
   "cell_type": "markdown",
   "metadata": {},
   "source": [
    "### 数据集读入"
   ]
  },
  {
   "cell_type": "code",
   "execution_count": 2,
   "metadata": {},
   "outputs": [
    {
     "name": "stdout",
     "output_type": "stream",
     "text": [
      "可视化数据集的前5行！\n"
     ]
    },
    {
     "data": {
      "text/html": [
       "<div>\n",
       "<style scoped>\n",
       "    .dataframe tbody tr th:only-of-type {\n",
       "        vertical-align: middle;\n",
       "    }\n",
       "\n",
       "    .dataframe tbody tr th {\n",
       "        vertical-align: top;\n",
       "    }\n",
       "\n",
       "    .dataframe thead th {\n",
       "        text-align: right;\n",
       "    }\n",
       "</style>\n",
       "<table border=\"1\" class=\"dataframe\">\n",
       "  <thead>\n",
       "    <tr style=\"text-align: right;\">\n",
       "      <th></th>\n",
       "      <th>label</th>\n",
       "      <th>Alcohol</th>\n",
       "      <th>Malicacid</th>\n",
       "      <th>Ash</th>\n",
       "      <th>Alcalinity</th>\n",
       "      <th>Magnesium</th>\n",
       "      <th>phenols</th>\n",
       "      <th>Flavanoids</th>\n",
       "      <th>NP</th>\n",
       "      <th>Proanthocyanins</th>\n",
       "      <th>Color</th>\n",
       "      <th>Hue</th>\n",
       "      <th>Diluted</th>\n",
       "      <th>Proline</th>\n",
       "    </tr>\n",
       "  </thead>\n",
       "  <tbody>\n",
       "    <tr>\n",
       "      <th>0</th>\n",
       "      <td>1</td>\n",
       "      <td>14.23</td>\n",
       "      <td>1.71</td>\n",
       "      <td>2.43</td>\n",
       "      <td>15.6</td>\n",
       "      <td>127.0</td>\n",
       "      <td>2.80</td>\n",
       "      <td>3.06</td>\n",
       "      <td>0.28</td>\n",
       "      <td>2.29</td>\n",
       "      <td>5.64</td>\n",
       "      <td>1.04</td>\n",
       "      <td>3.92</td>\n",
       "      <td>1065.0</td>\n",
       "    </tr>\n",
       "    <tr>\n",
       "      <th>1</th>\n",
       "      <td>1</td>\n",
       "      <td>13.20</td>\n",
       "      <td>1.78</td>\n",
       "      <td>2.14</td>\n",
       "      <td>11.2</td>\n",
       "      <td>100.0</td>\n",
       "      <td>2.65</td>\n",
       "      <td>2.76</td>\n",
       "      <td>0.26</td>\n",
       "      <td>1.28</td>\n",
       "      <td>4.38</td>\n",
       "      <td>1.05</td>\n",
       "      <td>3.40</td>\n",
       "      <td>1050.0</td>\n",
       "    </tr>\n",
       "    <tr>\n",
       "      <th>2</th>\n",
       "      <td>1</td>\n",
       "      <td>13.16</td>\n",
       "      <td>2.36</td>\n",
       "      <td>2.67</td>\n",
       "      <td>18.6</td>\n",
       "      <td>101.0</td>\n",
       "      <td>2.80</td>\n",
       "      <td>3.24</td>\n",
       "      <td>0.30</td>\n",
       "      <td>2.81</td>\n",
       "      <td>5.68</td>\n",
       "      <td>1.03</td>\n",
       "      <td>3.17</td>\n",
       "      <td>1185.0</td>\n",
       "    </tr>\n",
       "    <tr>\n",
       "      <th>3</th>\n",
       "      <td>1</td>\n",
       "      <td>14.37</td>\n",
       "      <td>1.95</td>\n",
       "      <td>2.50</td>\n",
       "      <td>16.8</td>\n",
       "      <td>113.0</td>\n",
       "      <td>3.85</td>\n",
       "      <td>3.49</td>\n",
       "      <td>0.24</td>\n",
       "      <td>2.18</td>\n",
       "      <td>7.80</td>\n",
       "      <td>0.86</td>\n",
       "      <td>3.45</td>\n",
       "      <td>1480.0</td>\n",
       "    </tr>\n",
       "    <tr>\n",
       "      <th>4</th>\n",
       "      <td>1</td>\n",
       "      <td>13.24</td>\n",
       "      <td>2.59</td>\n",
       "      <td>2.87</td>\n",
       "      <td>21.0</td>\n",
       "      <td>118.0</td>\n",
       "      <td>2.80</td>\n",
       "      <td>2.69</td>\n",
       "      <td>0.39</td>\n",
       "      <td>1.82</td>\n",
       "      <td>4.32</td>\n",
       "      <td>1.04</td>\n",
       "      <td>2.93</td>\n",
       "      <td>735.0</td>\n",
       "    </tr>\n",
       "  </tbody>\n",
       "</table>\n",
       "</div>"
      ],
      "text/plain": [
       "   label  Alcohol  Malicacid   Ash  Alcalinity  Magnesium  phenols  \\\n",
       "0      1    14.23       1.71  2.43        15.6      127.0     2.80   \n",
       "1      1    13.20       1.78  2.14        11.2      100.0     2.65   \n",
       "2      1    13.16       2.36  2.67        18.6      101.0     2.80   \n",
       "3      1    14.37       1.95  2.50        16.8      113.0     3.85   \n",
       "4      1    13.24       2.59  2.87        21.0      118.0     2.80   \n",
       "\n",
       "   Flavanoids    NP  Proanthocyanins  Color   Hue  Diluted  Proline  \n",
       "0        3.06  0.28             2.29   5.64  1.04     3.92   1065.0  \n",
       "1        2.76  0.26             1.28   4.38  1.05     3.40   1050.0  \n",
       "2        3.24  0.30             2.81   5.68  1.03     3.17   1185.0  \n",
       "3        3.49  0.24             2.18   7.80  0.86     3.45   1480.0  \n",
       "4        2.69  0.39             1.82   4.32  1.04     2.93    735.0  "
      ]
     },
     "execution_count": 2,
     "metadata": {},
     "output_type": "execute_result"
    }
   ],
   "source": [
    "fd = pd.read_csv(\"wine.data\", header = None)\n",
    "tmp = []\n",
    "for i, d in enumerate(fd.values):\n",
    "    tmp.append(list(d))\n",
    "df = pd.DataFrame(tmp)\n",
    "names = ['label', 'Alcohol', 'Malicacid', 'Ash', 'Alcalinity', 'Magnesium', 'phenols', 'Flavanoids', 'NP', 'Proanthocyanins', 'Color', 'Hue', 'Diluted', 'Proline']\n",
    "df.columns = names\n",
    "df['label'] = df['label'].astype(int)\n",
    "print(\"可视化数据集的前5行！\")\n",
    "df.head(5)"
   ]
  },
  {
   "cell_type": "markdown",
   "metadata": {},
   "source": [
    "### 数据清洗"
   ]
  },
  {
   "cell_type": "code",
   "execution_count": 3,
   "metadata": {},
   "outputs": [
    {
     "name": "stdout",
     "output_type": "stream",
     "text": [
      "数据集shape:\n",
      "(178, 14)\n"
     ]
    }
   ],
   "source": [
    "# 数据清洗\n",
    "df.dropna(inplace=True)\n",
    "print(\"数据集shape:\")\n",
    "print(df.shape)"
   ]
  },
  {
   "cell_type": "markdown",
   "metadata": {},
   "source": [
    "### 数据集划分\n",
    "训练集:测试集 = 60:40。以下在训练集上开展训练，并在未见过的测试集上测试！"
   ]
  },
  {
   "cell_type": "code",
   "execution_count": 4,
   "metadata": {},
   "outputs": [
    {
     "data": {
      "text/plain": [
       "((107, 14), (71, 14))"
      ]
     },
     "execution_count": 4,
     "metadata": {},
     "output_type": "execute_result"
    }
   ],
   "source": [
    "#60%训练集\n",
    "train_df = df.sample(frac=0.6, random_state=0)\n",
    "#剩下的是测试集\n",
    "test_df = df[~df.index.isin(train_df.index)]\n",
    "train_df.shape, test_df.shape"
   ]
  },
  {
   "cell_type": "markdown",
   "metadata": {},
   "source": [
    "## 求解模型（1）\n",
    "按要求用随机梯度下降法。根据前面理论分析部分的推导，直接按照上面的公式写出代码即可"
   ]
  },
  {
   "cell_type": "code",
   "execution_count": 5,
   "metadata": {},
   "outputs": [],
   "source": [
    "def Dist(P,xi,xj): # Euclidean distances in the transformed space(same as PPT Mahalanobis (quadratic) distance metrics)\n",
    "    return np.dot(np.matmul(P,xi)-np.matmul(P,xj), np.matmul(P,xi)-np.matmul(P,xj))\n",
    "    \n",
    "def exp_negDist(P,xi,xj): \n",
    "    return np.exp(-Dist(P,xi,xj))\n",
    "    \n",
    "def p_ij(batch_df,P,i,xi,xj): # Each point i selects another point j as its neighbour with this probability\n",
    "    denominator = 1e-6\n",
    "    for k in range(batch_df.shape[0]):\n",
    "        if k!=i:\n",
    "            xk = batch_df.values[k,1:]\n",
    "            denominator += exp_negDist(P,xi,xk)\n",
    "    return exp_negDist(P,xi,xj) / denominator\n",
    "\n",
    "def p_i(batch_df,P,i,xi,yi): # probability pi that point i will be correctly classified\n",
    "    p_i=0\n",
    "    for j in range(batch_df.shape[0]):\n",
    "        if batch_df.values[j,0] == yi and i != j:\n",
    "            xj = batch_df.values[j,1:]\n",
    "            p_i += p_ij(batch_df,P,i,xi,xj)\n",
    "    return p_i\n",
    "    \n",
    "def cal_gradient(batch_df,P,i,xi,yi):\n",
    "    sum_k = 0\n",
    "    for k in range(batch_df.shape[0]):\n",
    "        if k!=i:\n",
    "            xk = batch_df.values[k,1:]\n",
    "            sum_k += p_ij(batch_df,P,i,xi,xk) * np.outer(xi-xk,xi-xk)\n",
    "    sum_j = 0\n",
    "    for j in range(batch_df.shape[0]):\n",
    "        if batch_df.values[j,0] == yi and i != j:\n",
    "            xj = batch_df.values[j,1:]\n",
    "            sum_j += p_ij(batch_df,P,i,xi,xj) * np.outer(xi-xj,xi-xj)\n",
    "    return -2*np.matmul(P, p_i(batch_df,P,i,xi,yi)*sum_k-sum_j)\n",
    "    \n",
    "def SGD(train_df, n_episodes, batch_size, d, learning_rate):\n",
    "    loss=[]\n",
    "    np.random.seed(1) #random_seed\n",
    "    P = np.random.rand(d, train_df.shape[1]-1) / (train_df.shape[1]-1)\n",
    "    for episode in range(n_episodes):\n",
    "        batch_loss = []\n",
    "        gredient = 0\n",
    "        # sample a batch\n",
    "        batch_df = train_df.sample(frac=batch_size/train_df.shape[0], random_state=0)\n",
    "        for i in range(batch_size):\n",
    "            x = batch_df.values[i,1:]\n",
    "            y = batch_df.values[i,0]\n",
    "            pi = p_i(batch_df,P,i,x,y)\n",
    "            if pi != 0:\n",
    "                batch_loss.append(1-pi) \n",
    "            gredient += cal_gradient(batch_df,P,i,x,y)\n",
    "        P = P - learning_rate * gredient\n",
    "        print(\"Episode %d: loss=%f\"%(episode,np.average(batch_loss)))\n",
    "        loss.append(np.average(batch_loss))\n",
    "    return P,loss"
   ]
  },
  {
   "cell_type": "markdown",
   "metadata": {},
   "source": [
    "#### 设置训练参数并开始训练\n",
    "其中：  \n",
    "n_episodes表示迭代次数  \n",
    "batch_size表示mini-batch大小，这里设置为30  \n",
    "d表示投影到的新特征空间的维度  \n",
    "learning_rate为学习步长"
   ]
  },
  {
   "cell_type": "code",
   "execution_count": 6,
   "metadata": {
    "scrolled": true
   },
   "outputs": [],
   "source": [
    "#参数\n",
    "n_episodes = 50\n",
    "batch_size = 30\n",
    "d = train_df.shape[1]-1\n",
    "learning_rate = 0.0001"
   ]
  },
  {
   "cell_type": "code",
   "execution_count": 7,
   "metadata": {
    "scrolled": false
   },
   "outputs": [
    {
     "name": "stdout",
     "output_type": "stream",
     "text": [
      "Episode 0: loss=0.751779\n",
      "Episode 1: loss=0.749893\n",
      "Episode 2: loss=0.748454\n",
      "Episode 3: loss=0.755952\n",
      "Episode 4: loss=0.754894\n",
      "Episode 5: loss=0.753897\n",
      "Episode 6: loss=0.752924\n",
      "Episode 7: loss=0.751947\n",
      "Episode 8: loss=0.750940\n",
      "Episode 9: loss=0.749875\n",
      "Episode 10: loss=0.748722\n",
      "Episode 11: loss=0.747431\n",
      "Episode 12: loss=0.745923\n",
      "Episode 13: loss=0.744043\n",
      "Episode 14: loss=0.741440\n",
      "Episode 15: loss=0.737158\n",
      "Episode 16: loss=0.728011\n",
      "Episode 17: loss=0.703800\n",
      "Episode 18: loss=0.669943\n",
      "Episode 19: loss=0.651942\n",
      "Episode 20: loss=0.638228\n",
      "Episode 21: loss=0.645721\n",
      "Episode 22: loss=0.643262\n",
      "Episode 23: loss=0.641437\n",
      "Episode 24: loss=0.639883\n",
      "Episode 25: loss=0.638421\n",
      "Episode 26: loss=0.636906\n",
      "Episode 27: loss=0.635131\n",
      "Episode 28: loss=0.632611\n",
      "Episode 29: loss=0.627397\n",
      "Episode 30: loss=0.603522\n",
      "Episode 31: loss=0.462336\n",
      "Episode 32: loss=0.345185\n",
      "Episode 33: loss=0.321475\n",
      "Episode 34: loss=0.311382\n",
      "Episode 35: loss=0.302444\n",
      "Episode 36: loss=0.292955\n",
      "Episode 37: loss=0.282125\n",
      "Episode 38: loss=0.273469\n",
      "Episode 39: loss=0.270359\n",
      "Episode 40: loss=0.268685\n",
      "Episode 41: loss=0.267003\n",
      "Episode 42: loss=0.265628\n",
      "Episode 43: loss=0.263983\n",
      "Episode 44: loss=0.262677\n",
      "Episode 45: loss=0.261184\n",
      "Episode 46: loss=0.259935\n",
      "Episode 47: loss=0.258647\n",
      "Episode 48: loss=0.257490\n",
      "Episode 49: loss=0.256364\n"
     ]
    }
   ],
   "source": [
    "# Train\n",
    "P_1,loss = SGD(train_df, n_episodes, batch_size, d, learning_rate)"
   ]
  },
  {
   "cell_type": "markdown",
   "metadata": {},
   "source": [
    "#### 绘制模型（1）的训练loss曲线"
   ]
  },
  {
   "cell_type": "code",
   "execution_count": 8,
   "metadata": {
    "scrolled": true
   },
   "outputs": [
    {
     "data": {
      "image/png": "[encoded data removed]",
      "text/plain": [
       "<Figure size 432x288 with 1 Axes>"
      ]
     },
     "metadata": {
      "needs_background": "light"
     },
     "output_type": "display_data"
    }
   ],
   "source": [
    "plt.title('Model 1 -Train Loss Curve')\n",
    "plt.xlabel(\"#batch\")\n",
    "plt.ylabel(\"loss\")\n",
    "plt.grid()\n",
    "plt.plot(range(n_episodes), loss)\n",
    "plt.show()"
   ]
  },
  {
   "cell_type": "markdown",
   "metadata": {},
   "source": [
    "改变对P随机初始化时的随机种子，得到其他随机的结果的loss曲线都是下降的，不过收敛的效果不尽相同（因为毕竟随机梯度下降有收敛不稳定的情况存在）  \n",
    "**注意：如今通过训练得到了P，于是$M=P_1P_1^T$即为所求的度量矩阵！**"
   ]
  },
  {
   "cell_type": "markdown",
   "metadata": {},
   "source": [
    "### 模型（1）测试\n",
    "在之前划分好的测试集上用投影矩阵P投影到新特征空间后的KNN分类，看分类准确率如何"
   ]
  },
  {
   "cell_type": "code",
   "execution_count": 9,
   "metadata": {},
   "outputs": [
    {
     "name": "stdout",
     "output_type": "stream",
     "text": [
      "测试集上ACC=0.816901%\n"
     ]
    }
   ],
   "source": [
    "K=10\n",
    "acc = 0\n",
    "for i in range(test_df.shape[0]):\n",
    "    dis = []\n",
    "    xi = test_df.values[i,1:]\n",
    "    yi = test_df.values[i,0]\n",
    "    for j in range(train_df.shape[0]):\n",
    "        xj = train_df.values[j,1:]\n",
    "        yj = train_df.values[j,0]\n",
    "        dis.append(Dist(P_1,xi,xj))\n",
    "    candidates = train_df.values[np.argsort(np.array(dis))[:K], 0].astype(int)\n",
    "    prediction = np.argmax(np.bincount(candidates))\n",
    "    if prediction == yi:\n",
    "        acc += 1\n",
    "print(\"测试集上ACC=%F%%\"%(acc/test_df.shape[0]))"
   ]
  },
  {
   "cell_type": "markdown",
   "metadata": {},
   "source": [
    "### 结论：\n",
    "在训练集上运用模型（1）的方法训练好一个线性变换矩阵P后，在即使是没见过的测试集样本上直接用KNN在P变换的新特征空间上表现很不错，ACC高达82%（对比不做线性变换矩阵P直接在原特征空间中用欧氏距离分类只有70%的ACC），其实后续还可以增加动态适配学习率+SGD_momentum等等策略进一步调参，结果还能更好，达到这篇工作论文中的90+的结果。总之：**学到的变换矩阵P可以将数据从原特征空间投影到低维的新特征空间中，并且在新空间中相同类别之间的距离更接近。**\n",
    "### 为了验证以上结论，我们进行以下定性实验！\n",
    "设置参数d=2，也即投影到2维，便于可视化。  \n",
    "注意：论文中有提到这个NCA方法除了度量学习另外一大应用便是特征降维，在这里找到了对应！"
   ]
  },
  {
   "cell_type": "code",
   "execution_count": 10,
   "metadata": {
    "scrolled": false
   },
   "outputs": [
    {
     "name": "stdout",
     "output_type": "stream",
     "text": [
      "Episode 0: loss=0.460261\n",
      "Episode 1: loss=0.459402\n",
      "Episode 2: loss=0.458665\n",
      "Episode 3: loss=0.457939\n",
      "Episode 4: loss=0.457145\n",
      "Episode 5: loss=0.456191\n",
      "Episode 6: loss=0.454940\n",
      "Episode 7: loss=0.453139\n",
      "Episode 8: loss=0.450297\n",
      "Episode 9: loss=0.445461\n",
      "Episode 10: loss=0.437211\n",
      "Episode 11: loss=0.425650\n",
      "Episode 12: loss=0.414633\n",
      "Episode 13: loss=0.404262\n",
      "Episode 14: loss=0.385999\n",
      "Episode 15: loss=0.334512\n",
      "Episode 16: loss=0.324658\n",
      "Episode 17: loss=0.319711\n",
      "Episode 18: loss=0.309412\n",
      "Episode 19: loss=0.363165\n",
      "Episode 20: loss=0.387878\n",
      "Episode 21: loss=0.349541\n",
      "Episode 22: loss=0.337823\n",
      "Episode 23: loss=0.328953\n",
      "Episode 24: loss=0.317843\n",
      "Episode 25: loss=0.306280\n",
      "Episode 26: loss=0.298315\n",
      "Episode 27: loss=0.293811\n",
      "Episode 28: loss=0.291550\n",
      "Episode 29: loss=0.289232\n",
      "Episode 30: loss=0.289726\n",
      "Episode 31: loss=0.285045\n",
      "Episode 32: loss=0.285700\n",
      "Episode 33: loss=0.280656\n",
      "Episode 34: loss=0.283005\n",
      "Episode 35: loss=0.275313\n",
      "Episode 36: loss=0.273483\n",
      "Episode 37: loss=0.278203\n",
      "Episode 38: loss=0.280249\n",
      "Episode 39: loss=0.276510\n",
      "Episode 40: loss=0.269224\n",
      "Episode 41: loss=0.278403\n",
      "Episode 42: loss=0.274707\n",
      "Episode 43: loss=0.270429\n",
      "Episode 44: loss=0.260697\n",
      "Episode 45: loss=0.262820\n",
      "Episode 46: loss=0.277016\n",
      "Episode 47: loss=0.254629\n",
      "Episode 48: loss=0.265875\n",
      "Episode 49: loss=0.285045\n"
     ]
    }
   ],
   "source": [
    "#参数\n",
    "n_episodes = 50\n",
    "batch_size = 35\n",
    "d = 2\n",
    "learning_rate = 0.0001\n",
    "# Train\n",
    "P,loss = SGD(train_df, n_episodes, batch_size, d, learning_rate)"
   ]
  },
  {
   "cell_type": "code",
   "execution_count": 11,
   "metadata": {},
   "outputs": [
    {
     "data": {
      "image/png": "[encoded data removed]",
      "text/plain": [
       "<Figure size 432x288 with 1 Axes>"
      ]
     },
     "metadata": {
      "needs_background": "light"
     },
     "output_type": "display_data"
    }
   ],
   "source": [
    "plt.title('NCA Dimensionality reduction visualization(reduce to 2 dims)')\n",
    "plt.xlabel(\"dim_1\")\n",
    "plt.ylabel(\"dim_2\")\n",
    "for i in range(test_df.shape[0]):\n",
    "    xi = test_df.values[i,1:]\n",
    "    yi = test_df.values[i,0]\n",
    "    reduced_xy = np.matmul(P,xi)\n",
    "    if yi == 1:\n",
    "        plt.scatter(reduced_xy[0], reduced_xy[1], c='r')\n",
    "    elif yi == 2:\n",
    "        plt.scatter(reduced_xy[0], reduced_xy[1], c='g')\n",
    "    else:\n",
    "        plt.scatter(reduced_xy[0], reduced_xy[1], c='b')\n",
    "plt.show()"
   ]
  },
  {
   "cell_type": "markdown",
   "metadata": {},
   "source": [
    "### 定性实验结论：\n",
    "可见在新特征空间中，即使只有2维，三类的测试集样本也很好的分开了。当然了我相信再费点功夫进一步调参还能做得更好（比如动态适配学习率等策略）。  \n",
    "**值得注意的一点是上图中虽然同一类别的样本之间距离接近，但是不同类样本之间似乎不够远离，因而就引出了模型（2），显式地去约束不同类样本之间margin距离！**"
   ]
  },
  {
   "cell_type": "markdown",
   "metadata": {},
   "source": [
    "--------------------\n",
    "## 求解模型（2）\n",
    "根据前面理论分析部分的推导，可以写出优化模型代码"
   ]
  },
  {
   "cell_type": "code",
   "execution_count": 12,
   "metadata": {
    "code_folding": []
   },
   "outputs": [],
   "source": [
    "def cal_eta(batch_df,K=3):\n",
    "    eta = np.zeros([batch_df.shape[0],batch_df.shape[0]])\n",
    "    for i in range(batch_df.shape[0]):\n",
    "        dis = []\n",
    "        xi = batch_df.values[i,1:]\n",
    "        yi = batch_df.values[i,0]\n",
    "        for k in range(batch_df.shape[0]):\n",
    "            xk = batch_df.values[k,1:]\n",
    "            yk = batch_df.values[k,0]\n",
    "            dis.append(np.dot(xi-xk, xi-xk))\n",
    "        count=0\n",
    "        for arg in np.argsort(np.array(dis)):\n",
    "            if batch_df.values[arg,0] == yi:\n",
    "                count += 1\n",
    "                eta[i,arg] = 1\n",
    "                if count >= K:\n",
    "                    break\n",
    "    return eta\n",
    "\n",
    "def cost_func(batch_df,P,i,xi,yi,eta,c=0.3):\n",
    "    sum_j = 0\n",
    "    for j in range(batch_df.shape[0]):\n",
    "        if eta[i,j] == 1:\n",
    "            xj = batch_df.values[j,1:]\n",
    "            sum_j += Dist(P,xi,xj)\n",
    "    sum_jl = 0\n",
    "    for j in range(batch_df.shape[0]):\n",
    "        for l in range(batch_df.shape[0]):\n",
    "            if eta[i,j] == 1 and batch_df.values[l,0] != yi:\n",
    "                xj = batch_df.values[j,1:]\n",
    "                xl = batch_df.values[l,1:]\n",
    "                sum_jl += max(1 + Dist(P,xi,xj) - Dist(P,xi,xl), 0)\n",
    "    return sum_j + c * sum_jl\n",
    "\n",
    "def cal_gradient_2(batch_df,P,i,xi,yi,eta,c=0.3):  \n",
    "    sum_j = 0\n",
    "    for j in range(batch_df.shape[0]):\n",
    "        if eta[i,j] == 1:\n",
    "            xj = batch_df.values[j,1:]\n",
    "            sum_j += np.outer(xi-xj,xi-xj)\n",
    "    sum_jl = 0\n",
    "    for j in range(batch_df.shape[0]):\n",
    "        for l in range(batch_df.shape[0]):\n",
    "            if eta[i,j] == 1 and batch_df.values[l,0] != yi:\n",
    "                xj = batch_df.values[j,1:]\n",
    "                xl = batch_df.values[l,1:]\n",
    "                if Dist(P,xi,xj) > Dist(P,xi,xl) - 1:\n",
    "                    sum_jl += (np.outer(xi-xj,xi-xj) - np.outer(xi-xl,xi-xl))\n",
    "    return 2*np.matmul(P, sum_j + c * sum_jl)\n",
    "    \n",
    "def SGD_2(train_df, n_episodes, batch_size, d, learning_rate, c, K):\n",
    "    loss=[]\n",
    "    np.random.seed(1) #random_seed\n",
    "    P = np.random.rand(d, train_df.shape[1]-1) / (train_df.shape[1]-1)\n",
    "    for episode in range(n_episodes):\n",
    "        batch_loss = []\n",
    "        gredient = 0\n",
    "        # sample a batch\n",
    "        batch_df = train_df.sample(frac=batch_size/train_df.shape[0], random_state=0)\n",
    "        eta = cal_eta(batch_df,K)\n",
    "        for i in range(batch_size):\n",
    "            x = batch_df.values[i,1:]\n",
    "            y = batch_df.values[i,0]\n",
    "            batch_loss.append(cost_func(batch_df,P,i,x,y,eta,c)) \n",
    "            gredient += cal_gradient_2(batch_df,P,i,x,y,eta,c)\n",
    "        P = P - learning_rate * gredient\n",
    "        print(\"Episode %d: loss=%f\"%(episode,np.average(batch_loss)))\n",
    "        loss.append(np.average(batch_loss))\n",
    "    return P,loss"
   ]
  },
  {
   "cell_type": "markdown",
   "metadata": {},
   "source": [
    "#### 设置训练参数并开始训练\n",
    "其中n_episodes，batch_size，d，learning_rate都和模型（1）一样，具体说明见上。新增参数：  \n",
    "c表示损失函数中对不同类样本过近时的惩罚项的系数（**其实就是受限优化时的拉格朗日乘数**）  \n",
    "K表示目标最近邻的个数（要优化该点与其K个目标最近邻尽量接近）"
   ]
  },
  {
   "cell_type": "code",
   "execution_count": 13,
   "metadata": {},
   "outputs": [],
   "source": [
    "#参数\n",
    "n_episodes = 50\n",
    "batch_size = 30\n",
    "d = train_df.shape[1]-1\n",
    "learning_rate = 1e-7\n",
    "c = 0.3\n",
    "K = 3"
   ]
  },
  {
   "cell_type": "code",
   "execution_count": 14,
   "metadata": {},
   "outputs": [
    {
     "name": "stdout",
     "output_type": "stream",
     "text": [
      "Episode 0: loss=674.587547\n",
      "Episode 1: loss=476.218464\n",
      "Episode 2: loss=337.251641\n",
      "Episode 3: loss=239.458600\n",
      "Episode 4: loss=170.589651\n",
      "Episode 5: loss=121.864400\n",
      "Episode 6: loss=86.983210\n",
      "Episode 7: loss=62.324503\n",
      "Episode 8: loss=45.119835\n",
      "Episode 9: loss=33.912675\n",
      "Episode 10: loss=26.761138\n",
      "Episode 11: loss=23.081084\n",
      "Episode 12: loss=21.242163\n",
      "Episode 13: loss=20.399998\n",
      "Episode 14: loss=19.777703\n",
      "Episode 15: loss=19.302354\n",
      "Episode 16: loss=18.981287\n",
      "Episode 17: loss=18.774855\n",
      "Episode 18: loss=18.577241\n",
      "Episode 19: loss=18.383369\n",
      "Episode 20: loss=18.195083\n",
      "Episode 21: loss=18.008976\n",
      "Episode 22: loss=17.825660\n",
      "Episode 23: loss=17.646294\n",
      "Episode 24: loss=17.473440\n",
      "Episode 25: loss=17.303021\n",
      "Episode 26: loss=17.135172\n",
      "Episode 27: loss=16.969705\n",
      "Episode 28: loss=16.805913\n",
      "Episode 29: loss=16.644486\n",
      "Episode 30: loss=16.484870\n",
      "Episode 31: loss=16.330332\n",
      "Episode 32: loss=16.179106\n",
      "Episode 33: loss=16.031532\n",
      "Episode 34: loss=15.884140\n",
      "Episode 35: loss=15.739851\n",
      "Episode 36: loss=15.595739\n",
      "Episode 37: loss=15.455673\n",
      "Episode 38: loss=15.314588\n",
      "Episode 39: loss=15.177800\n",
      "Episode 40: loss=15.040641\n",
      "Episode 41: loss=14.907033\n",
      "Episode 42: loss=14.774889\n",
      "Episode 43: loss=14.642945\n",
      "Episode 44: loss=14.513470\n",
      "Episode 45: loss=14.385682\n",
      "Episode 46: loss=14.259552\n",
      "Episode 47: loss=14.137362\n",
      "Episode 48: loss=14.015280\n",
      "Episode 49: loss=13.895094\n"
     ]
    }
   ],
   "source": [
    "# Train\n",
    "P_2,loss = SGD_2(train_df, n_episodes, batch_size, d, learning_rate, c, K)"
   ]
  },
  {
   "cell_type": "markdown",
   "metadata": {},
   "source": [
    "#### 绘制模型（2）的训练loss曲线"
   ]
  },
  {
   "cell_type": "code",
   "execution_count": 15,
   "metadata": {},
   "outputs": [
    {
     "data": {
      "image/png": "[encoded data removed]",
      "text/plain": [
       "<Figure size 432x288 with 1 Axes>"
      ]
     },
     "metadata": {
      "needs_background": "light"
     },
     "output_type": "display_data"
    }
   ],
   "source": [
    "plt.title('Model 2 -Train Loss Curve')\n",
    "plt.xlabel(\"#batch\")\n",
    "plt.ylabel(\"loss\")\n",
    "plt.grid()\n",
    "plt.plot(range(n_episodes), loss)\n",
    "plt.show()"
   ]
  },
  {
   "cell_type": "markdown",
   "metadata": {},
   "source": [
    "比模型（1）的训练loss曲线看起来正常了许多  \n",
    "**同样的，如今通过模型（2）训练得到了P，于是$M=P_2P_2^T$即为所求的度量矩阵！**"
   ]
  },
  {
   "cell_type": "markdown",
   "metadata": {},
   "source": [
    "### 模型（2）测试\n",
    "在之前划分好的测试集上用投影矩阵P投影到新特征空间后的KNN分类，看分类准确率如何"
   ]
  },
  {
   "cell_type": "code",
   "execution_count": 16,
   "metadata": {},
   "outputs": [
    {
     "name": "stdout",
     "output_type": "stream",
     "text": [
      "测试集上ACC=0.859155%\n"
     ]
    }
   ],
   "source": [
    "K=10\n",
    "acc = 0\n",
    "for i in range(test_df.shape[0]):\n",
    "    dis = []\n",
    "    xi = test_df.values[i,1:]\n",
    "    yi = test_df.values[i,0]\n",
    "    for j in range(train_df.shape[0]):\n",
    "        xj = train_df.values[j,1:]\n",
    "        yj = train_df.values[j,0]\n",
    "        dis.append(Dist(P_2,xi,xj))\n",
    "    candidates = train_df.values[np.argsort(np.array(dis))[:K], 0].astype(int)\n",
    "    prediction = np.argmax(np.bincount(candidates))\n",
    "    if prediction == yi:\n",
    "        acc += 1\n",
    "print(\"测试集上ACC=%F%%\"%(acc/test_df.shape[0]))"
   ]
  },
  {
   "cell_type": "markdown",
   "metadata": {},
   "source": [
    "### 结论：\n",
    "这里模型（2）的结果和上面模型（1）的结果是可以比的，因为用了相同的训练集、相同的测试集、相同的优化算法、步长、最近邻个数K等等。可见模型（2）的结果要好一点ACC=86%，模型（1）ACC=82%，对比不做线性变换矩阵P直接在原特征空间中用欧氏距离分类的baseline只有ACC=70%.\n",
    "### 同样做一下模型（2）的定性实验\n",
    "设置参数d=2，也即投影到2维，便于可视化。  "
   ]
  },
  {
   "cell_type": "code",
   "execution_count": 17,
   "metadata": {
    "scrolled": false
   },
   "outputs": [
    {
     "name": "stdout",
     "output_type": "stream",
     "text": [
      "Episode 0: loss=111.862513\n",
      "Episode 1: loss=83.584857\n",
      "Episode 2: loss=62.872471\n",
      "Episode 3: loss=47.405933\n",
      "Episode 4: loss=36.126886\n",
      "Episode 5: loss=27.850782\n",
      "Episode 6: loss=21.618743\n",
      "Episode 7: loss=16.965885\n",
      "Episode 8: loss=13.522303\n",
      "Episode 9: loss=11.013284\n",
      "Episode 10: loss=9.275368\n",
      "Episode 11: loss=8.077870\n",
      "Episode 12: loss=7.380102\n",
      "Episode 13: loss=6.915377\n",
      "Episode 14: loss=6.611914\n",
      "Episode 15: loss=6.320485\n",
      "Episode 16: loss=5.975439\n",
      "Episode 17: loss=5.590524\n",
      "Episode 18: loss=5.191772\n",
      "Episode 19: loss=4.806293\n",
      "Episode 20: loss=4.498865\n",
      "Episode 21: loss=4.293846\n",
      "Episode 22: loss=4.139388\n",
      "Episode 23: loss=4.034826\n",
      "Episode 24: loss=3.972723\n",
      "Episode 25: loss=3.931623\n",
      "Episode 26: loss=3.901525\n",
      "Episode 27: loss=3.876064\n",
      "Episode 28: loss=3.856080\n",
      "Episode 29: loss=3.842422\n",
      "Episode 30: loss=3.830219\n",
      "Episode 31: loss=3.819113\n",
      "Episode 32: loss=3.809583\n",
      "Episode 33: loss=3.801398\n",
      "Episode 34: loss=3.793603\n",
      "Episode 35: loss=3.786796\n",
      "Episode 36: loss=3.780447\n",
      "Episode 37: loss=3.774252\n",
      "Episode 38: loss=3.768238\n",
      "Episode 39: loss=3.762323\n",
      "Episode 40: loss=3.756532\n",
      "Episode 41: loss=3.750864\n",
      "Episode 42: loss=3.745404\n",
      "Episode 43: loss=3.740023\n",
      "Episode 44: loss=3.734858\n",
      "Episode 45: loss=3.729820\n",
      "Episode 46: loss=3.724977\n",
      "Episode 47: loss=3.720241\n",
      "Episode 48: loss=3.715537\n",
      "Episode 49: loss=3.710905\n"
     ]
    }
   ],
   "source": [
    "#参数\n",
    "n_episodes = 50\n",
    "batch_size = 35\n",
    "d = 2\n",
    "learning_rate = 1e-7\n",
    "c = 0.3\n",
    "K = 3\n",
    "# Train\n",
    "P,loss = SGD_2(train_df, n_episodes, batch_size, d, learning_rate, c, K)"
   ]
  },
  {
   "cell_type": "code",
   "execution_count": 18,
   "metadata": {
    "scrolled": true
   },
   "outputs": [
    {
     "data": {
      "image/png": "[encoded data removed]",
      "text/plain": [
       "<Figure size 432x288 with 1 Axes>"
      ]
     },
     "metadata": {
      "needs_background": "light"
     },
     "output_type": "display_data"
    }
   ],
   "source": [
    "plt.title('LMNN Dimensionality reduction visualization(reduce to 2 dims)')\n",
    "plt.xlabel(\"dim_1\")\n",
    "plt.ylabel(\"dim_2\")\n",
    "for i in range(test_df.shape[0]):\n",
    "    xi = test_df.values[i,1:]\n",
    "    yi = test_df.values[i,0]\n",
    "    reduced_xy = np.matmul(P,xi)\n",
    "    if yi == 1:\n",
    "        plt.scatter(reduced_xy[0], reduced_xy[1], c='r')\n",
    "    elif yi == 2:\n",
    "        plt.scatter(reduced_xy[0], reduced_xy[1], c='g')\n",
    "    else:\n",
    "        plt.scatter(reduced_xy[0], reduced_xy[1], c='b')\n",
    "plt.show()"
   ]
  },
  {
   "cell_type": "markdown",
   "metadata": {},
   "source": [
    "### 总结：\n",
    "本次作业阅读了两篇度量学习的经典论文[1,2]，并分别针对这两篇论文的算法进行了实现，简言之都是学习一个映射矩阵P，将样本从原特征空间投影到新的特征空间中更好的分类，而$M=PP^T$即为所求的半正定度量矩阵。通过定量实验（验证集ACC表现很好高达82%和86%）和定性实验（在新特征空间中，即使只有2维，三类的测试集样本也很好的分开），验证了模型（1）和模型（2）的有效性，以及简单SGD就能胜任机器学习任务。  \n",
    "当然后续还有可以进一步提高的地方，比如我这里只用了单一学习率，没有动态调整学习率，也没有用新学的一些加速与适应的优化算法。\n",
    "\n",
    "[1] Jacob Goldberger, Sam Roweis, Geoff Hinton, Ruslan Salakhutdinov. \"Neighbourhood components analysis.\" NIPS 2005.  \n",
    "[2] Kilian Q. Weinberger, John Blitzer and Lawrence K. Saul. \"Distance metric learning for large margin nearest neighbor classification.\" NIPS 2006."
   ]
  }
 ],
 "metadata": {
  "kernelspec": {
   "display_name": "py37tf114",
   "language": "python",
   "name": "py37tf114"
  },
  "language_info": {
   "codemirror_mode": {
    "name": "ipython",
    "version": 3
   },
   "file_extension": ".py",
   "mimetype": "text/x-python",
   "name": "python",
   "nbconvert_exporter": "python",
   "pygments_lexer": "ipython3",
   "version": "3.7.5"
  }
 },
 "nbformat": 4,
 "nbformat_minor": 2
}
